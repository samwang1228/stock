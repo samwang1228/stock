{
 "cells": [
  {
   "cell_type": "markdown",
   "id": "e2e15f7c",
   "metadata": {},
   "source": [
    "# 抓取台股所有股票的6月營收"
   ]
  },
  {
   "cell_type": "code",
   "execution_count": 1,
   "id": "9ba1614a",
   "metadata": {},
   "outputs": [],
   "source": [
    "import pandas as pd\n",
    "import requests\n",
    "from io import StringIO\n",
    "import time\n",
    "def monthly_report(year, month):\n",
    "    \n",
    "    # 假如是西元，轉成民國\n",
    "    if year > 1990:\n",
    "        year -= 1911\n",
    "    \n",
    "    url = 'https://mops.twse.com.tw/nas/t21/sii/t21sc03_'+str(year)+'_'+str(month)+'_0.html'\n",
    "    if year <= 98:\n",
    "        url = 'https://mops.twse.com.tw/nas/t21/sii/t21sc03_'+str(year)+'_'+str(month)+'.html'\n",
    "    \n",
    "    # 偽瀏覽器\n",
    "    headers = {'User-Agent': 'Mozilla/5.0 (Macintosh; Intel Mac OS X 10_10_1) AppleWebKit/537.36 (KHTML, like Gecko) Chrome/39.0.2171.95 Safari/537.36'}\n",
    "    \n",
    "    # 下載該年月的網站，並用pandas轉換成 dataframe\n",
    "    r = requests.get(url, headers=headers)\n",
    "    r.encoding = 'big5'\n",
    "\n",
    "    dfs = pd.read_html(StringIO(r.text), encoding='big-5')\n",
    "\n",
    "    df = pd.concat([df for df in dfs if df.shape[1] <= 11 and df.shape[1] > 5])\n",
    "    \n",
    "    if 'levels' in dir(df.columns):\n",
    "        df.columns = df.columns.get_level_values(1)\n",
    "    else:\n",
    "        df = df[list(range(0,10))]\n",
    "        column_index = df.index[(df[0] == '公司代號')][0]\n",
    "        df.columns = df.iloc[column_index]\n",
    "    \n",
    "    df['當月營收'] = pd.to_numeric(df['當月營收'], 'coerce')\n",
    "    df = df[~df['當月營收'].isnull()]\n",
    "    df = df[df['公司代號'] != '合計']\n",
    "    \n",
    "    # 偽停頓\n",
    "    time.sleep(5)\n",
    "\n",
    "    return df"
   ]
  },
  {
   "cell_type": "code",
   "execution_count": 2,
   "id": "c8457625",
   "metadata": {},
   "outputs": [],
   "source": [
    "year=111\n",
    "month=6\n",
    "res=monthly_report(year, month)"
   ]
  },
  {
   "cell_type": "markdown",
   "id": "9f5651bd",
   "metadata": {},
   "source": [
    "# 前100個的YoY min為51.3 "
   ]
  },
  {
   "cell_type": "code",
   "execution_count": 33,
   "id": "d64417dd",
   "metadata": {},
   "outputs": [
    {
     "name": "stdout",
     "output_type": "stream",
     "text": [
      "min YoY 51.3\n"
     ]
    },
    {
     "data": {
      "text/html": [
       "<div>\n",
       "<style scoped>\n",
       "    .dataframe tbody tr th:only-of-type {\n",
       "        vertical-align: middle;\n",
       "    }\n",
       "\n",
       "    .dataframe tbody tr th {\n",
       "        vertical-align: top;\n",
       "    }\n",
       "\n",
       "    .dataframe thead th {\n",
       "        text-align: right;\n",
       "    }\n",
       "</style>\n",
       "<table border=\"1\" class=\"dataframe\">\n",
       "  <thead>\n",
       "    <tr style=\"text-align: right;\">\n",
       "      <th></th>\n",
       "      <th>公司代號</th>\n",
       "      <th>公司名稱</th>\n",
       "      <th>備註</th>\n",
       "      <th>上月比較增減(%)</th>\n",
       "      <th>上月營收</th>\n",
       "      <th>去年同月增減(%)</th>\n",
       "      <th>去年當月營收</th>\n",
       "      <th>當月營收</th>\n",
       "      <th>前期比較增減(%)</th>\n",
       "      <th>去年累計營收</th>\n",
       "      <th>當月累計營收</th>\n",
       "    </tr>\n",
       "  </thead>\n",
       "  <tbody>\n",
       "    <tr>\n",
       "      <th>1</th>\n",
       "      <td>1438</td>\n",
       "      <td>三地開發</td>\n",
       "      <td>111年累計銷售商品及土地455,714仟元,110年累計銷售商品及土地428仟元,故營收變化大。</td>\n",
       "      <td>11392275.00</td>\n",
       "      <td>4</td>\n",
       "      <td>7594816.66</td>\n",
       "      <td>6</td>\n",
       "      <td>455695</td>\n",
       "      <td>106375.23</td>\n",
       "      <td>428</td>\n",
       "      <td>455714</td>\n",
       "    </tr>\n",
       "    <tr>\n",
       "      <th>40</th>\n",
       "      <td>9906</td>\n",
       "      <td>欣巴巴</td>\n",
       "      <td>本月營收與上月之差異，係有個案已全數交屋過戶。累計營收較去年成長之差異，係有新個案銷售入帳所致。</td>\n",
       "      <td>-57.83</td>\n",
       "      <td>737097</td>\n",
       "      <td>2390423.07</td>\n",
       "      <td>13</td>\n",
       "      <td>310768</td>\n",
       "      <td>5262.80</td>\n",
       "      <td>40484</td>\n",
       "      <td>2171079</td>\n",
       "    </tr>\n",
       "    <tr>\n",
       "      <th>30</th>\n",
       "      <td>3056</td>\n",
       "      <td>總太</td>\n",
       "      <td>本月營收增加係因個案共好Melody完工交屋。</td>\n",
       "      <td>57513.73</td>\n",
       "      <td>3603</td>\n",
       "      <td>27253.05</td>\n",
       "      <td>7589</td>\n",
       "      <td>2075823</td>\n",
       "      <td>-41.49</td>\n",
       "      <td>3593209</td>\n",
       "      <td>2102110</td>\n",
       "    </tr>\n",
       "    <tr>\n",
       "      <th>38</th>\n",
       "      <td>5534</td>\n",
       "      <td>長虹</td>\n",
       "      <td>本月較去年同期增加，係因「雲端科技」、「交響苑」個案增加完成產權移轉予客戶認列收入所致。</td>\n",
       "      <td>171.26</td>\n",
       "      <td>266282</td>\n",
       "      <td>4033.98</td>\n",
       "      <td>17473</td>\n",
       "      <td>722332</td>\n",
       "      <td>418.83</td>\n",
       "      <td>983803</td>\n",
       "      <td>5104290</td>\n",
       "    </tr>\n",
       "    <tr>\n",
       "      <th>6</th>\n",
       "      <td>2722</td>\n",
       "      <td>夏都</td>\n",
       "      <td>110年6月因疫情三級警戒，營收銳減。</td>\n",
       "      <td>75.18</td>\n",
       "      <td>35357</td>\n",
       "      <td>1896.77</td>\n",
       "      <td>3102</td>\n",
       "      <td>61940</td>\n",
       "      <td>21.88</td>\n",
       "      <td>273147</td>\n",
       "      <td>332926</td>\n",
       "    </tr>\n",
       "    <tr>\n",
       "      <th>...</th>\n",
       "      <td>...</td>\n",
       "      <td>...</td>\n",
       "      <td>...</td>\n",
       "      <td>...</td>\n",
       "      <td>...</td>\n",
       "      <td>...</td>\n",
       "      <td>...</td>\n",
       "      <td>...</td>\n",
       "      <td>...</td>\n",
       "      <td>...</td>\n",
       "      <td>...</td>\n",
       "    </tr>\n",
       "    <tr>\n",
       "      <th>15</th>\n",
       "      <td>1447</td>\n",
       "      <td>力鵬</td>\n",
       "      <td>本月子公司因受原物料價格上漲及貿易量增加之影響，故營收增加。</td>\n",
       "      <td>-0.00</td>\n",
       "      <td>2998495</td>\n",
       "      <td>53.32</td>\n",
       "      <td>1955590</td>\n",
       "      <td>2998409</td>\n",
       "      <td>17.50</td>\n",
       "      <td>12007317</td>\n",
       "      <td>14109774</td>\n",
       "    </tr>\n",
       "    <tr>\n",
       "      <th>3</th>\n",
       "      <td>2345</td>\n",
       "      <td>智邦</td>\n",
       "      <td>客戶需求增加</td>\n",
       "      <td>12.31</td>\n",
       "      <td>6156162</td>\n",
       "      <td>53.06</td>\n",
       "      <td>4517191</td>\n",
       "      <td>6914045</td>\n",
       "      <td>26.32</td>\n",
       "      <td>27251362</td>\n",
       "      <td>34425741</td>\n",
       "    </tr>\n",
       "    <tr>\n",
       "      <th>29</th>\n",
       "      <td>6426</td>\n",
       "      <td>統新</td>\n",
       "      <td>業績成長</td>\n",
       "      <td>-10.74</td>\n",
       "      <td>64811</td>\n",
       "      <td>52.73</td>\n",
       "      <td>37873</td>\n",
       "      <td>57847</td>\n",
       "      <td>34.02</td>\n",
       "      <td>264532</td>\n",
       "      <td>354543</td>\n",
       "    </tr>\n",
       "    <tr>\n",
       "      <th>3</th>\n",
       "      <td>2331</td>\n",
       "      <td>精英</td>\n",
       "      <td>料況解決，提高出貨量所致</td>\n",
       "      <td>23.33</td>\n",
       "      <td>3485361</td>\n",
       "      <td>51.87</td>\n",
       "      <td>2830469</td>\n",
       "      <td>4298712</td>\n",
       "      <td>30.69</td>\n",
       "      <td>13944950</td>\n",
       "      <td>18225598</td>\n",
       "    </tr>\n",
       "    <tr>\n",
       "      <th>37</th>\n",
       "      <td>3037</td>\n",
       "      <td>欣興</td>\n",
       "      <td>產能及客戶需求增加</td>\n",
       "      <td>1.36</td>\n",
       "      <td>12155699</td>\n",
       "      <td>51.41</td>\n",
       "      <td>8138026</td>\n",
       "      <td>12321838</td>\n",
       "      <td>44.69</td>\n",
       "      <td>45853851</td>\n",
       "      <td>66345981</td>\n",
       "    </tr>\n",
       "  </tbody>\n",
       "</table>\n",
       "<p>99 rows × 11 columns</p>\n",
       "</div>"
      ],
      "text/plain": [
       "    公司代號  公司名稱                                                 備註  \\\n",
       "1   1438  三地開發  111年累計銷售商品及土地455,714仟元,110年累計銷售商品及土地428仟元,故營收變化大。   \n",
       "40  9906   欣巴巴   本月營收與上月之差異，係有個案已全數交屋過戶。累計營收較去年成長之差異，係有新個案銷售入帳所致。   \n",
       "30  3056    總太                            本月營收增加係因個案共好Melody完工交屋。   \n",
       "38  5534    長虹       本月較去年同期增加，係因「雲端科技」、「交響苑」個案增加完成產權移轉予客戶認列收入所致。   \n",
       "6   2722    夏都                                110年6月因疫情三級警戒，營收銳減。   \n",
       "..   ...   ...                                                ...   \n",
       "15  1447    力鵬                     本月子公司因受原物料價格上漲及貿易量增加之影響，故營收增加。   \n",
       "3   2345    智邦                                             客戶需求增加   \n",
       "29  6426    統新                                               業績成長   \n",
       "3   2331    精英                                       料況解決，提高出貨量所致   \n",
       "37  3037    欣興                                          產能及客戶需求增加   \n",
       "\n",
       "      上月比較增減(%)      上月營收   去年同月增減(%)   去年當月營收      當月營收  前期比較增減(%)    去年累計營收  \\\n",
       "1   11392275.00         4  7594816.66        6    455695  106375.23       428   \n",
       "40       -57.83    737097  2390423.07       13    310768    5262.80     40484   \n",
       "30     57513.73      3603    27253.05     7589   2075823     -41.49   3593209   \n",
       "38       171.26    266282     4033.98    17473    722332     418.83    983803   \n",
       "6         75.18     35357     1896.77     3102     61940      21.88    273147   \n",
       "..          ...       ...         ...      ...       ...        ...       ...   \n",
       "15        -0.00   2998495       53.32  1955590   2998409      17.50  12007317   \n",
       "3         12.31   6156162       53.06  4517191   6914045      26.32  27251362   \n",
       "29       -10.74     64811       52.73    37873     57847      34.02    264532   \n",
       "3         23.33   3485361       51.87  2830469   4298712      30.69  13944950   \n",
       "37         1.36  12155699       51.41  8138026  12321838      44.69  45853851   \n",
       "\n",
       "      當月累計營收  \n",
       "1     455714  \n",
       "40   2171079  \n",
       "30   2102110  \n",
       "38   5104290  \n",
       "6     332926  \n",
       "..       ...  \n",
       "15  14109774  \n",
       "3   34425741  \n",
       "29    354543  \n",
       "3   18225598  \n",
       "37  66345981  \n",
       "\n",
       "[99 rows x 11 columns]"
      ]
     },
     "execution_count": 33,
     "metadata": {},
     "output_type": "execute_result"
    }
   ],
   "source": [
    "yoyrate=res.copy()\n",
    "minYoY=yoyrate['去年同月增減(%)'].nlargest(100).min()\n",
    "print('min YoY',minYoY)\n",
    "yoyfilter=yoyrate['去年同月增減(%)']>minYoY\n",
    "yoyrate=yoyrate[yoyfilter]\n",
    "yoyrate.sort_values(['去年同月增減(%)'],ascending=False)"
   ]
  },
  {
   "cell_type": "markdown",
   "id": "81a1f73a",
   "metadata": {},
   "source": [
    "# 前100個的MoM的min為30.37"
   ]
  },
  {
   "cell_type": "code",
   "execution_count": 35,
   "id": "af912c30",
   "metadata": {},
   "outputs": [
    {
     "name": "stdout",
     "output_type": "stream",
     "text": [
      "min MoM 30.37\n"
     ]
    },
    {
     "data": {
      "text/plain": [
       "1     1438\n",
       "30    3056\n",
       "20    4142\n",
       "16    2527\n",
       "41    9946\n",
       "      ... \n",
       "2     2704\n",
       "25    4555\n",
       "6     2356\n",
       "82    8249\n",
       "0     1603\n",
       "Name: 公司代號, Length: 99, dtype: object"
      ]
     },
     "execution_count": 35,
     "metadata": {},
     "output_type": "execute_result"
    }
   ],
   "source": [
    "momrate=res.copy()\n",
    "minMoM=momrate['上月比較增減(%)'].nlargest(100).min()\n",
    "print('min MoM',minMoM)\n",
    "momdi=momrate['上月比較增減(%)']>minMoM\n",
    "momrate=momrate[momdi]\n",
    "momrate=momrate.sort_values(['上月比較增減(%)'],ascending=False)\n",
    "momrate['公司代號']"
   ]
  },
  {
   "cell_type": "markdown",
   "id": "8a244b56",
   "metadata": {},
   "source": [
    "#  分析股價與營收之關係(MoM)"
   ]
  },
  {
   "cell_type": "code",
   "execution_count": 37,
   "id": "6e604559",
   "metadata": {},
   "outputs": [],
   "source": [
    "import pandas_datareader as pdr\n",
    "import datetime as datetime\n"
   ]
  },
  {
   "cell_type": "markdown",
   "id": "c624a81b",
   "metadata": {},
   "source": [
    "#  取得前100筆MoM股票代號"
   ]
  },
  {
   "cell_type": "code",
   "execution_count": 66,
   "id": "8c55ea5f",
   "metadata": {},
   "outputs": [
    {
     "data": {
      "text/plain": [
       "'1438.TW'"
      ]
     },
     "execution_count": 66,
     "metadata": {},
     "output_type": "execute_result"
    }
   ],
   "source": [
    "t=momrate.set_index('公司代號')\n",
    "a=[]\n",
    "for i in range(99):\n",
    "    a.append(t.index[i]+'.TW')\n",
    "a[0]"
   ]
  },
  {
   "cell_type": "code",
   "execution_count": 69,
   "id": "f3a1a0ee",
   "metadata": {},
   "outputs": [
    {
     "data": {
      "text/plain": [
       "Date\n",
       "2022-06-30    31.400000\n",
       "2022-07-01    30.700001\n",
       "2022-07-04    31.400000\n",
       "2022-07-05    32.000000\n",
       "2022-07-06    32.000000\n",
       "2022-07-07    32.000000\n",
       "2022-07-08    32.049999\n",
       "2022-07-11    33.099998\n",
       "Name: Close, dtype: float64"
      ]
     },
     "execution_count": 69,
     "metadata": {},
     "output_type": "execute_result"
    }
   ],
   "source": [
    "start = datetime.datetime(2022,6,30) #from datatime\n",
    "df = pdr.DataReader(a[0], 'yahoo', start=start)\n",
    "df['Close']"
   ]
  },
  {
   "cell_type": "code",
   "execution_count": 71,
   "id": "453bcb2d",
   "metadata": {},
   "outputs": [],
   "source": [
    "df=[]\n",
    "for i in range(99):\n",
    "    df.append(pdr.DataReader(a[i], 'yahoo', start=start))"
   ]
  },
  {
   "cell_type": "code",
   "execution_count": 73,
   "id": "af8dd308",
   "metadata": {},
   "outputs": [],
   "source": [
    "# label data\n",
    "for i in range(99):\n",
    "    df[i]['id']=a[i]"
   ]
  },
  {
   "cell_type": "code",
   "execution_count": 100,
   "id": "9fac48b4",
   "metadata": {},
   "outputs": [
    {
     "name": "stderr",
     "output_type": "stream",
     "text": [
      "D:\\anaconda\\envs\\py36\\lib\\site-packages\\ipykernel_launcher.py:6: SettingWithCopyWarning: \n",
      "A value is trying to be set on a copy of a slice from a DataFrame\n",
      "\n",
      "See the caveats in the documentation: https://pandas.pydata.org/pandas-docs/stable/user_guide/indexing.html#returning-a-view-versus-a-copy\n",
      "  \n",
      "D:\\anaconda\\envs\\py36\\lib\\site-packages\\ipykernel_launcher.py:7: SettingWithCopyWarning: \n",
      "A value is trying to be set on a copy of a slice from a DataFrame\n",
      "\n",
      "See the caveats in the documentation: https://pandas.pydata.org/pandas-docs/stable/user_guide/indexing.html#returning-a-view-versus-a-copy\n",
      "  import sys\n",
      "D:\\anaconda\\envs\\py36\\lib\\site-packages\\ipykernel_launcher.py:11: SettingWithCopyWarning: \n",
      "A value is trying to be set on a copy of a slice from a DataFrame\n",
      "\n",
      "See the caveats in the documentation: https://pandas.pydata.org/pandas-docs/stable/user_guide/indexing.html#returning-a-view-versus-a-copy\n",
      "  # This is added back by InteractiveShellApp.init_path()\n"
     ]
    }
   ],
   "source": [
    "for i in range(99):\n",
    "    \n",
    "    if df[i]['rate'].mean>=0:\n",
    "        with pd.ExcelWriter(f'good.xlsx', engine='xlsxwriter') as writer:\n",
    "            df[i].to_excel(writer, sheet_name=df[i]['id'])\n",
    "    else:\n",
    "        with pd.ExcelWriter(f'bad.xlsx', engine='xlsxwriter') as writer:\n",
    "            df[i].to_excel(writer, sheet_name=df[i]['id'])\n",
    "    for j in range(7):\n",
    "        try:\n",
    "            value=((df[i]['Close'][j+1]-df[i]['Close'][j])/df[i]['Close'][j])*100\n",
    "            if j==0:\n",
    "                df[i]['rate'][j]=0\n",
    "            df[i]['rate'][j+1]=value\n",
    "        except IndexError:\n",
    "#             print(df[i]['id'][j],df[i]['Close'][j])\n",
    "            if j==0:\n",
    "                df[i]['rate'][j]=0\n",
    "        "
   ]
  },
  {
   "cell_type": "markdown",
   "id": "df986625",
   "metadata": {},
   "source": [
    "# 漲幅平均有上漲的有51隻 下降的有49隻"
   ]
  },
  {
   "cell_type": "code",
   "execution_count": 119,
   "id": "51b9bb00",
   "metadata": {},
   "outputs": [],
   "source": [
    "goodc=0\n",
    "badc=0\n",
    "with pd.ExcelWriter(f'goodMoM100.xlsx', engine='xlsxwriter') as writer:\n",
    "    for i in range(99):\n",
    "        if df[i]['rate'].mean()>=0:\n",
    "                goodc=goodc+1\n",
    "                df[i].to_excel(writer, sheet_name=df[i]['id'][0])\n",
    "with pd.ExcelWriter(f'badMoM100.xlsx', engine='xlsxwriter') as writer2:\n",
    "    for i in range(99):\n",
    "        if df[i]['rate'].mean()<0:\n",
    "                badc=badc+1\n",
    "                df[i].to_excel(writer2, sheet_name=df[i]['id'][0])\n",
    "counter=0\n",
    "with pd.ExcelWriter(f'goodMoM100.xlsx', engine='xlsxwriter') as writer:\n",
    "    for i in range(99):\n",
    "        if df[i]['rate'].mean()>=0:\n",
    "            df[i].to_excel(writer, sheet_name=df[i]['id'][0], index=True, na_rep='NaN')\n",
    "            # Auto-adjust columns' width\n",
    "            for column in df[i]:\n",
    "                column_width = 20\n",
    "                col_idx = df[i].columns.get_loc(column)\n",
    "                writer.sheets[df[i]['id'][0]].set_column(col_idx, col_idx, column_width)\n",
    "with pd.ExcelWriter(f'badMoM100.xlsx', engine='xlsxwriter') as writer2:\n",
    "    for i in range(99):\n",
    "        if df[i]['rate'].mean()<0:\n",
    "            df[i].to_excel(writer2, sheet_name=df[i]['id'][0], index=True, na_rep='NaN')\n",
    "            # Auto-adjust columns' width\n",
    "            for column in df[i]:\n",
    "                column_width = 20\n",
    "                col_idx = df[i].columns.get_loc(column)\n",
    "                writer2.sheets[df[i]['id'][0]].set_column(col_idx, col_idx, column_width)"
   ]
  },
  {
   "cell_type": "code",
   "execution_count": 121,
   "id": "ec2fb99f",
   "metadata": {},
   "outputs": [
    {
     "name": "stdout",
     "output_type": "stream",
     "text": [
      "Date\n",
      "2022-06-30    6796.TW\n",
      "2022-07-01    6796.TW\n",
      "2022-07-04    6796.TW\n",
      "2022-07-05    6796.TW\n",
      "2022-07-06    6796.TW\n",
      "2022-07-07    6796.TW\n",
      "2022-07-08    6796.TW\n",
      "2022-07-11    6796.TW\n",
      "Name: id, dtype: object\n",
      "Date\n",
      "2022-06-30    2419.TW\n",
      "2022-07-01    2419.TW\n",
      "2022-07-04    2419.TW\n",
      "2022-07-05    2419.TW\n",
      "2022-07-06    2419.TW\n",
      "2022-07-07    2419.TW\n",
      "2022-07-08    2419.TW\n",
      "2022-07-11    2419.TW\n",
      "Name: id, dtype: object\n"
     ]
    }
   ],
   "source": [
    "# 'good',goodc,'bad',badc\n",
    "for i in range(99):\n",
    "    if df[i]['rate'].mean()>=3:\n",
    "        print(df[i]['id'])"
   ]
  },
  {
   "cell_type": "markdown",
   "id": "0e53df3c",
   "metadata": {},
   "source": [
    "# 平均漲幅最高的為6796 2419"
   ]
  },
  {
   "cell_type": "code",
   "execution_count": 127,
   "id": "d6654367",
   "metadata": {},
   "outputs": [
    {
     "data": {
      "text/html": [
       "<div>\n",
       "<style scoped>\n",
       "    .dataframe tbody tr th:only-of-type {\n",
       "        vertical-align: middle;\n",
       "    }\n",
       "\n",
       "    .dataframe tbody tr th {\n",
       "        vertical-align: top;\n",
       "    }\n",
       "\n",
       "    .dataframe thead th {\n",
       "        text-align: right;\n",
       "    }\n",
       "</style>\n",
       "<table border=\"1\" class=\"dataframe\">\n",
       "  <thead>\n",
       "    <tr style=\"text-align: right;\">\n",
       "      <th></th>\n",
       "      <th>公司代號</th>\n",
       "      <th>公司名稱</th>\n",
       "      <th>備註</th>\n",
       "      <th>上月比較增減(%)</th>\n",
       "      <th>上月營收</th>\n",
       "      <th>去年同月增減(%)</th>\n",
       "      <th>去年當月營收</th>\n",
       "      <th>當月營收</th>\n",
       "      <th>前期比較增減(%)</th>\n",
       "      <th>去年累計營收</th>\n",
       "      <th>當月累計營收</th>\n",
       "    </tr>\n",
       "  </thead>\n",
       "  <tbody>\n",
       "    <tr>\n",
       "      <th>25</th>\n",
       "      <td>6796</td>\n",
       "      <td>晉弘</td>\n",
       "      <td>-</td>\n",
       "      <td>60.68</td>\n",
       "      <td>28645</td>\n",
       "      <td>14.32</td>\n",
       "      <td>40260</td>\n",
       "      <td>46029</td>\n",
       "      <td>15.01</td>\n",
       "      <td>198910</td>\n",
       "      <td>228768</td>\n",
       "    </tr>\n",
       "  </tbody>\n",
       "</table>\n",
       "</div>"
      ],
      "text/plain": [
       "    公司代號 公司名稱 備註  上月比較增減(%)   上月營收  去年同月增減(%)  去年當月營收   當月營收  前期比較增減(%)  \\\n",
       "25  6796   晉弘  -      60.68  28645      14.32   40260  46029      15.01   \n",
       "\n",
       "    去年累計營收  當月累計營收  \n",
       "25  198910  228768  "
      ]
     },
     "execution_count": 127,
     "metadata": {},
     "output_type": "execute_result"
    }
   ],
   "source": [
    "highcodi=momrate['公司代號']=='6796'\n",
    "momrate[highcodi]"
   ]
  },
  {
   "cell_type": "code",
   "execution_count": 126,
   "id": "aaa8e2ba",
   "metadata": {},
   "outputs": [
    {
     "data": {
      "text/html": [
       "<div>\n",
       "<style scoped>\n",
       "    .dataframe tbody tr th:only-of-type {\n",
       "        vertical-align: middle;\n",
       "    }\n",
       "\n",
       "    .dataframe tbody tr th {\n",
       "        vertical-align: top;\n",
       "    }\n",
       "\n",
       "    .dataframe thead th {\n",
       "        text-align: right;\n",
       "    }\n",
       "</style>\n",
       "<table border=\"1\" class=\"dataframe\">\n",
       "  <thead>\n",
       "    <tr style=\"text-align: right;\">\n",
       "      <th></th>\n",
       "      <th>公司代號</th>\n",
       "      <th>公司名稱</th>\n",
       "      <th>備註</th>\n",
       "      <th>上月比較增減(%)</th>\n",
       "      <th>上月營收</th>\n",
       "      <th>去年同月增減(%)</th>\n",
       "      <th>去年當月營收</th>\n",
       "      <th>當月營收</th>\n",
       "      <th>前期比較增減(%)</th>\n",
       "      <th>去年累計營收</th>\n",
       "      <th>當月累計營收</th>\n",
       "    </tr>\n",
       "  </thead>\n",
       "  <tbody>\n",
       "    <tr>\n",
       "      <th>4</th>\n",
       "      <td>2419</td>\n",
       "      <td>仲琦</td>\n",
       "      <td>配合客戶需求出貨量增加</td>\n",
       "      <td>54.86</td>\n",
       "      <td>887599</td>\n",
       "      <td>96.2</td>\n",
       "      <td>700587</td>\n",
       "      <td>1374598</td>\n",
       "      <td>6.29</td>\n",
       "      <td>5155444</td>\n",
       "      <td>5480133</td>\n",
       "    </tr>\n",
       "  </tbody>\n",
       "</table>\n",
       "</div>"
      ],
      "text/plain": [
       "   公司代號 公司名稱           備註  上月比較增減(%)    上月營收  去年同月增減(%)  去年當月營收     當月營收  \\\n",
       "4  2419   仲琦  配合客戶需求出貨量增加      54.86  887599       96.2  700587  1374598   \n",
       "\n",
       "   前期比較增減(%)   去年累計營收   當月累計營收  \n",
       "4       6.29  5155444  5480133  "
      ]
     },
     "execution_count": 126,
     "metadata": {},
     "output_type": "execute_result"
    }
   ],
   "source": [
    "highcodi=momrate['公司代號']=='2419'\n",
    "momrate[highcodi]"
   ]
  },
  {
   "cell_type": "markdown",
   "id": "0af9afb5",
   "metadata": {},
   "source": [
    "# 單日漲幅較高的(>6%)有24隻"
   ]
  },
  {
   "cell_type": "code",
   "execution_count": 138,
   "id": "93a7ba33",
   "metadata": {},
   "outputs": [
    {
     "name": "stdout",
     "output_type": "stream",
     "text": [
      "4142.TW\n",
      "1529.TW\n",
      "8478.TW\n",
      "3229.TW\n",
      "6226.TW\n",
      "6515.TW\n",
      "6289.TW\n",
      "3062.TW\n",
      "3380.TW\n",
      "2498.TW\n",
      "6796.TW\n",
      "4770.TW\n",
      "3535.TW\n",
      "2419.TW\n",
      "3046.TW\n",
      "1708.TW\n",
      "1533.TW\n",
      "5222.TW\n",
      "2457.TW\n",
      "3406.TW\n",
      "5258.TW\n",
      "1435.TW\n",
      "2493.TW\n",
      "3094.TW\n"
     ]
    }
   ],
   "source": [
    "a=[]\n",
    "for i in range(99):\n",
    "    for j in range(8):\n",
    "        try:\n",
    "            if df[i]['rate'][j]>=6:\n",
    "                print(df[i]['id'][j])\n",
    "                a.append(i)\n",
    "                break\n",
    "        except IndexError:\n",
    "            break\n",
    "with pd.ExcelWriter(f'singlehighMoM100.xlsx', engine='xlsxwriter') as writer:\n",
    "    for i in a:\n",
    "        df[i].to_excel(writer, sheet_name=df[i]['id'][0])\n",
    "with pd.ExcelWriter(f'singlehighMoM100.xlsx', engine='xlsxwriter') as writer:\n",
    "    for i in a:\n",
    "        df[i].to_excel(writer, sheet_name=df[i]['id'][0], index=True, na_rep='NaN')\n",
    "            # Auto-adjust columns' width\n",
    "        for column in df[i]:\n",
    "            column_width = 20\n",
    "            col_idx = df[i].columns.get_loc(column)\n",
    "            writer.sheets[df[i]['id'][0]].set_column(col_idx, col_idx, column_width)"
   ]
  },
  {
   "cell_type": "code",
   "execution_count": 139,
   "id": "1e484ba7",
   "metadata": {},
   "outputs": [],
   "source": [
    "import openpyxl"
   ]
  },
  {
   "cell_type": "markdown",
   "id": "c306875e",
   "metadata": {},
   "source": [
    "# 取得excel data(多個sheet)"
   ]
  },
  {
   "cell_type": "code",
   "execution_count": 146,
   "id": "572fff78",
   "metadata": {},
   "outputs": [
    {
     "data": {
      "text/html": [
       "<div>\n",
       "<style scoped>\n",
       "    .dataframe tbody tr th:only-of-type {\n",
       "        vertical-align: middle;\n",
       "    }\n",
       "\n",
       "    .dataframe tbody tr th {\n",
       "        vertical-align: top;\n",
       "    }\n",
       "\n",
       "    .dataframe thead th {\n",
       "        text-align: right;\n",
       "    }\n",
       "</style>\n",
       "<table border=\"1\" class=\"dataframe\">\n",
       "  <thead>\n",
       "    <tr style=\"text-align: right;\">\n",
       "      <th></th>\n",
       "      <th>Date</th>\n",
       "      <th>High</th>\n",
       "      <th>Low</th>\n",
       "      <th>Open</th>\n",
       "      <th>Close</th>\n",
       "      <th>Volume</th>\n",
       "      <th>Adj Close</th>\n",
       "      <th>id</th>\n",
       "      <th>rate</th>\n",
       "    </tr>\n",
       "  </thead>\n",
       "  <tbody>\n",
       "    <tr>\n",
       "      <th>0</th>\n",
       "      <td>2022-06-30</td>\n",
       "      <td>41.950001</td>\n",
       "      <td>38.650002</td>\n",
       "      <td>41.750000</td>\n",
       "      <td>39.099998</td>\n",
       "      <td>8788220</td>\n",
       "      <td>39.099998</td>\n",
       "      <td>4142.TW</td>\n",
       "      <td>0.000000</td>\n",
       "    </tr>\n",
       "    <tr>\n",
       "      <th>1</th>\n",
       "      <td>2022-07-01</td>\n",
       "      <td>38.900002</td>\n",
       "      <td>36.299999</td>\n",
       "      <td>38.299999</td>\n",
       "      <td>36.400002</td>\n",
       "      <td>5327002</td>\n",
       "      <td>36.400002</td>\n",
       "      <td>4142.TW</td>\n",
       "      <td>-6.905363</td>\n",
       "    </tr>\n",
       "    <tr>\n",
       "      <th>2</th>\n",
       "      <td>2022-07-04</td>\n",
       "      <td>37.400002</td>\n",
       "      <td>35.650002</td>\n",
       "      <td>36.400002</td>\n",
       "      <td>36.000000</td>\n",
       "      <td>2349335</td>\n",
       "      <td>36.000000</td>\n",
       "      <td>4142.TW</td>\n",
       "      <td>-1.098905</td>\n",
       "    </tr>\n",
       "    <tr>\n",
       "      <th>3</th>\n",
       "      <td>2022-07-05</td>\n",
       "      <td>38.049999</td>\n",
       "      <td>36.400002</td>\n",
       "      <td>36.599998</td>\n",
       "      <td>38.049999</td>\n",
       "      <td>4146326</td>\n",
       "      <td>38.049999</td>\n",
       "      <td>4142.TW</td>\n",
       "      <td>5.694442</td>\n",
       "    </tr>\n",
       "    <tr>\n",
       "      <th>4</th>\n",
       "      <td>2022-07-06</td>\n",
       "      <td>41.700001</td>\n",
       "      <td>39.900002</td>\n",
       "      <td>41.650002</td>\n",
       "      <td>40.349998</td>\n",
       "      <td>14158450</td>\n",
       "      <td>40.349998</td>\n",
       "      <td>4142.TW</td>\n",
       "      <td>6.044676</td>\n",
       "    </tr>\n",
       "    <tr>\n",
       "      <th>5</th>\n",
       "      <td>2022-07-07</td>\n",
       "      <td>42.500000</td>\n",
       "      <td>39.000000</td>\n",
       "      <td>41.799999</td>\n",
       "      <td>41.500000</td>\n",
       "      <td>15687665</td>\n",
       "      <td>41.500000</td>\n",
       "      <td>4142.TW</td>\n",
       "      <td>2.850066</td>\n",
       "    </tr>\n",
       "    <tr>\n",
       "      <th>6</th>\n",
       "      <td>2022-07-08</td>\n",
       "      <td>42.500000</td>\n",
       "      <td>40.400002</td>\n",
       "      <td>41.700001</td>\n",
       "      <td>40.700001</td>\n",
       "      <td>7614622</td>\n",
       "      <td>40.700001</td>\n",
       "      <td>4142.TW</td>\n",
       "      <td>-1.927709</td>\n",
       "    </tr>\n",
       "    <tr>\n",
       "      <th>7</th>\n",
       "      <td>2022-07-11</td>\n",
       "      <td>40.700001</td>\n",
       "      <td>39.650002</td>\n",
       "      <td>40.700001</td>\n",
       "      <td>40.349998</td>\n",
       "      <td>4099870</td>\n",
       "      <td>40.349998</td>\n",
       "      <td>4142.TW</td>\n",
       "      <td>-0.859956</td>\n",
       "    </tr>\n",
       "  </tbody>\n",
       "</table>\n",
       "</div>"
      ],
      "text/plain": [
       "        Date       High        Low       Open      Close    Volume  Adj Close  \\\n",
       "0 2022-06-30  41.950001  38.650002  41.750000  39.099998   8788220  39.099998   \n",
       "1 2022-07-01  38.900002  36.299999  38.299999  36.400002   5327002  36.400002   \n",
       "2 2022-07-04  37.400002  35.650002  36.400002  36.000000   2349335  36.000000   \n",
       "3 2022-07-05  38.049999  36.400002  36.599998  38.049999   4146326  38.049999   \n",
       "4 2022-07-06  41.700001  39.900002  41.650002  40.349998  14158450  40.349998   \n",
       "5 2022-07-07  42.500000  39.000000  41.799999  41.500000  15687665  41.500000   \n",
       "6 2022-07-08  42.500000  40.400002  41.700001  40.700001   7614622  40.700001   \n",
       "7 2022-07-11  40.700001  39.650002  40.700001  40.349998   4099870  40.349998   \n",
       "\n",
       "        id      rate  \n",
       "0  4142.TW  0.000000  \n",
       "1  4142.TW -6.905363  \n",
       "2  4142.TW -1.098905  \n",
       "3  4142.TW  5.694442  \n",
       "4  4142.TW  6.044676  \n",
       "5  4142.TW  2.850066  \n",
       "6  4142.TW -1.927709  \n",
       "7  4142.TW -0.859956  "
      ]
     },
     "execution_count": 146,
     "metadata": {},
     "output_type": "execute_result"
    }
   ],
   "source": [
    "wb = openpyxl.load_workbook(\"goodMoM100.xlsx\")\n",
    "test=[]\n",
    "file_name=\"goodMoM100.xlsx\"\n",
    "#give the full path of the file here\n",
    "size=wb.sheetnames\n",
    "for i in size:\n",
    "    test.append(pd.read_excel(file_name, sheet_name=i,engine='openpyxl'))\n",
    "test[1]"
   ]
  },
  {
   "cell_type": "markdown",
   "id": "87ccaf76",
   "metadata": {},
   "source": [
    "# 分析股價與營收之關係(yoy)"
   ]
  },
  {
   "cell_type": "code",
   "execution_count": 136,
   "id": "bacf14c0",
   "metadata": {},
   "outputs": [
    {
     "data": {
      "text/plain": [
       "24"
      ]
     },
     "execution_count": 136,
     "metadata": {},
     "output_type": "execute_result"
    }
   ],
   "source": [
    "len(a)"
   ]
  },
  {
   "cell_type": "code",
   "execution_count": null,
   "id": "8a775ede",
   "metadata": {},
   "outputs": [],
   "source": []
  }
 ],
 "metadata": {
  "kernelspec": {
   "display_name": "Python 3",
   "language": "python",
   "name": "python3"
  },
  "language_info": {
   "codemirror_mode": {
    "name": "ipython",
    "version": 3
   },
   "file_extension": ".py",
   "mimetype": "text/x-python",
   "name": "python",
   "nbconvert_exporter": "python",
   "pygments_lexer": "ipython3",
   "version": "3.6.13"
  }
 },
 "nbformat": 4,
 "nbformat_minor": 5
}
