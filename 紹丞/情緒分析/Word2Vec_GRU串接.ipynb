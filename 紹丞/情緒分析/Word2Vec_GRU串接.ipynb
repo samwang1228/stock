{
 "cells": [
  {
   "cell_type": "code",
   "execution_count": 1,
   "id": "096f4045",
   "metadata": {},
   "outputs": [],
   "source": [
    "import pandas as pd"
   ]
  },
  {
   "cell_type": "code",
   "execution_count": 2,
   "id": "190a98c1",
   "metadata": {},
   "outputs": [],
   "source": [
    "data=pd.read_pickle('2317_vector_full_data.pkl')"
   ]
  },
  {
   "cell_type": "code",
   "execution_count": 4,
   "id": "999bd2bc",
   "metadata": {},
   "outputs": [
    {
     "name": "stdout",
     "output_type": "stream",
     "text": [
      "0                               董事會決議日期   \n",
      "1                     發放股利種類及金額 現金股利美金   元\n",
      "2                                其他應敘明事項 無\n",
      "3                               董事會決議日期   \n",
      "4         發放股利種類及金額 \\n股票股利美金   元 配發新股  股  \n",
      "                       ...                \n",
      "49523                         本次交易為關係人交易 否\n",
      "49524                        董事會通過日期 \\n不適用\n",
      "49525                        監察人承認日期 \\n不適用\n",
      "49526                    本次交易會計師出具非合理性意見 否\n",
      "49527                           其他敘明事項 \\n無\n",
      "Name: Info, Length: 49528, dtype: object\n",
      "1000                 [董事會, 通過, 日期, 不, 適用]\n",
      "1001    [監察人, 承認, 審計, 委員會, 同意, 日期, 不, 適用]\n",
      "Name: Words, dtype: object\n",
      "1000    [[0.060508467, 0.3024362, 1.744864, -1.9498981...\n",
      "1001    [[3.9632685, -2.7145953, 2.6416998, -1.0490379...\n",
      "Name: Vectors, dtype: object\n",
      "1000    0.0\n",
      "1001    0.0\n",
      "Name: Label, dtype: object\n"
     ]
    }
   ],
   "source": [
    "#使用方式 與格式 1\n",
    "print(data['Info'])\n",
    "print(data['Words'][1000:1002])\n",
    "print(data['Vectors'][1000:1002])\n",
    "print(data['Label'][1000:1002])"
   ]
  },
  {
   "cell_type": "code",
   "execution_count": 31,
   "id": "3577aa53",
   "metadata": {},
   "outputs": [
    {
     "name": "stdout",
     "output_type": "stream",
     "text": [
      "0                               董事會決議日期   \n",
      "1                     發放股利種類及金額 現金股利美金   元\n",
      "2                                其他應敘明事項 無\n",
      "3                               董事會決議日期   \n",
      "4         發放股利種類及金額 \\n股票股利美金   元 配發新股  股  \n",
      "                       ...                \n",
      "49523                         本次交易為關係人交易 否\n",
      "49524                        董事會通過日期 \\n不適用\n",
      "49525                        監察人承認日期 \\n不適用\n",
      "49526                    本次交易會計師出具非合理性意見 否\n",
      "49527                           其他敘明事項 \\n無\n",
      "Name: Info, Length: 49528, dtype: object\n",
      "0                                  [董事會, 決議, 日期]\n",
      "1                [發放, 股利, 種類, 金額, 現金, 股利, 美金, 元]\n",
      "2                                 [應, 敘明, 事項, 無]\n",
      "3                                  [董事會, 決議, 日期]\n",
      "4        [發放, 股利, 種類, 金額, 股票, 股利, 美金, 配發, 新股, 股]\n",
      "                          ...                   \n",
      "49523                     [次, 交易, 為, 關係人, 交易, 否]\n",
      "49524                       [董事會, 通過, 日期, 不, 適用]\n",
      "49525                       [監察人, 承認, 日期, 不, 適用]\n",
      "49526            [次, 交易, 會計師, 出具, 非, 合理性, 意見, 否]\n",
      "49527                                [敘明, 事項, 無]\n",
      "Name: Words, Length: 49528, dtype: object\n",
      "0        [[0.060508467, 0.3024362, 1.744864, -1.9498981...\n",
      "1        [[-0.9777799, -3.4325135, -1.0522126, 0.633181...\n",
      "2        [[2.303132, 3.6259599, -2.6627507, -1.6006417,...\n",
      "3        [[0.060508467, 0.3024362, 1.744864, -1.9498981...\n",
      "4        [[-0.9777799, -3.4325135, -1.0522126, 0.633181...\n",
      "                               ...                        \n",
      "49523    [[-0.6673892, 3.3785224, -3.5420296, 1.7105144...\n",
      "49524    [[0.060508467, 0.3024362, 1.744864, -1.9498981...\n",
      "49525    [[3.9632685, -2.7145953, 2.6416998, -1.0490379...\n",
      "49526    [[-0.6673892, 3.3785224, -3.5420296, 1.7105144...\n",
      "49527    [[5.5520926, 1.5312529, -3.252409, 0.13662224,...\n",
      "Name: Vectors, Length: 49528, dtype: object\n",
      "1000    0.0\n",
      "1001    0.0\n",
      "Name: Label, dtype: object\n"
     ]
    }
   ],
   "source": [
    "#使用方式 與格式 2\n",
    "print(data.Info)\n",
    "print(data.Words)\n",
    "print(data.Vectors)\n",
    "print(data.Label[1000:1002])"
   ]
  },
  {
   "cell_type": "code",
   "execution_count": 3,
   "id": "ce67d741",
   "metadata": {},
   "outputs": [
    {
     "name": "stderr",
     "output_type": "stream",
     "text": [
      "C:\\Users\\user\\AppData\\Local\\Temp\\ipykernel_5812\\1167576641.py:12: SettingWithCopyWarning: \n",
      "A value is trying to be set on a copy of a slice from a DataFrame\n",
      "\n",
      "See the caveats in the documentation: https://pandas.pydata.org/pandas-docs/stable/user_guide/indexing.html#returning-a-view-versus-a-copy\n",
      "  copydata['newLabel'][i]=1\n",
      "C:\\Users\\user\\AppData\\Local\\Temp\\ipykernel_5812\\1167576641.py:10: SettingWithCopyWarning: \n",
      "A value is trying to be set on a copy of a slice from a DataFrame\n",
      "\n",
      "See the caveats in the documentation: https://pandas.pydata.org/pandas-docs/stable/user_guide/indexing.html#returning-a-view-versus-a-copy\n",
      "  copydata['newLabel'][i]=2\n",
      "C:\\Users\\user\\AppData\\Local\\Temp\\ipykernel_5812\\1167576641.py:6: SettingWithCopyWarning: \n",
      "A value is trying to be set on a copy of a slice from a DataFrame\n",
      "\n",
      "See the caveats in the documentation: https://pandas.pydata.org/pandas-docs/stable/user_guide/indexing.html#returning-a-view-versus-a-copy\n",
      "  copydata['newLabel'][i]=3\n",
      "C:\\Users\\user\\AppData\\Local\\Temp\\ipykernel_5812\\1167576641.py:8: SettingWithCopyWarning: \n",
      "A value is trying to be set on a copy of a slice from a DataFrame\n",
      "\n",
      "See the caveats in the documentation: https://pandas.pydata.org/pandas-docs/stable/user_guide/indexing.html#returning-a-view-versus-a-copy\n",
      "  copydata['newLabel'][i]=4\n",
      "C:\\Users\\user\\AppData\\Local\\Temp\\ipykernel_5812\\1167576641.py:14: SettingWithCopyWarning: \n",
      "A value is trying to be set on a copy of a slice from a DataFrame\n",
      "\n",
      "See the caveats in the documentation: https://pandas.pydata.org/pandas-docs/stable/user_guide/indexing.html#returning-a-view-versus-a-copy\n",
      "  copydata['newLabel'][i]=0\n"
     ]
    },
    {
     "data": {
      "text/plain": [
       "0        1\n",
       "1        1\n",
       "2        1\n",
       "3        1\n",
       "4        1\n",
       "        ..\n",
       "49523    3\n",
       "49524    3\n",
       "49525    3\n",
       "49526    3\n",
       "49527    3\n",
       "Name: newLabel, Length: 49528, dtype: int64"
      ]
     },
     "execution_count": 3,
     "metadata": {},
     "output_type": "execute_result"
    }
   ],
   "source": [
    "copydata=data.copy()\n",
    "copydata['newLabel']=0\n",
    "copydata['Label']=copydata['Label'].astype(float)\n",
    "for i in range(len(data)):\n",
    "    if(copydata['Label'][i]>=0.3 and copydata['Label'][i]<0.7):\n",
    "        copydata['newLabel'][i]=3\n",
    "    elif(copydata['Label'][i]>=0.7 and copydata['Label'][i]<=1.0):\n",
    "        copydata['newLabel'][i]=4\n",
    "    elif(copydata['Label'][i]==0.0):\n",
    "        copydata['newLabel'][i]=2\n",
    "    elif(copydata['Label'][i]>-0.7 and copydata['Label'][i]<=-0.2):\n",
    "        copydata['newLabel'][i]=1\n",
    "    elif(copydata['Label'][i]<=-0.7 and copydata['Label'][i]>=-1.0):\n",
    "        copydata['newLabel'][i]=0\n",
    "copydata['newLabel']        \n"
   ]
  },
  {
   "cell_type": "code",
   "execution_count": 20,
   "id": "288c3b90",
   "metadata": {},
   "outputs": [
    {
     "data": {
      "text/plain": [
       "numpy.float64"
      ]
     },
     "execution_count": 20,
     "metadata": {},
     "output_type": "execute_result"
    }
   ],
   "source": [
    "type(copydata['Label'][0])"
   ]
  },
  {
   "cell_type": "code",
   "execution_count": 21,
   "id": "19d907f6",
   "metadata": {},
   "outputs": [],
   "source": [
    "copydata['Label']=copydata['Label'].astype(int)"
   ]
  },
  {
   "cell_type": "code",
   "execution_count": 4,
   "id": "21db5497",
   "metadata": {},
   "outputs": [
    {
     "data": {
      "text/plain": [
       "1"
      ]
     },
     "execution_count": 4,
     "metadata": {},
     "output_type": "execute_result"
    }
   ],
   "source": [
    "copydata['newLabel'][10000]"
   ]
  },
  {
   "cell_type": "code",
   "execution_count": 5,
   "id": "ac29f2e3",
   "metadata": {},
   "outputs": [
    {
     "data": {
      "text/plain": [
       "'-0.4799997965494791'"
      ]
     },
     "execution_count": 5,
     "metadata": {},
     "output_type": "execute_result"
    }
   ],
   "source": [
    "data['Label'][10000]"
   ]
  },
  {
   "cell_type": "code",
   "execution_count": 83,
   "id": "c9e6ec30",
   "metadata": {},
   "outputs": [
    {
     "data": {
      "text/plain": [
       "80"
      ]
     },
     "execution_count": 83,
     "metadata": {},
     "output_type": "execute_result"
    }
   ],
   "source": [
    "len(copydata['Vectors'][0][2])"
   ]
  },
  {
   "cell_type": "code",
   "execution_count": 59,
   "id": "c2b9f966",
   "metadata": {},
   "outputs": [
    {
     "data": {
      "text/plain": [
       "' 發放股利種類及金額 現金股利美金   元'"
      ]
     },
     "execution_count": 59,
     "metadata": {},
     "output_type": "execute_result"
    }
   ],
   "source": [
    "copydata['Info'][1]"
   ]
  },
  {
   "cell_type": "code",
   "execution_count": 12,
   "id": "c02cc39a",
   "metadata": {},
   "outputs": [
    {
     "name": "stderr",
     "output_type": "stream",
     "text": [
      "100%|██████████████████████████████████████████████████████████████████████████| 49528/49528 [00:07<00:00, 6526.85it/s]\n"
     ]
    }
   ],
   "source": [
    "from tqdm import tqdm\n",
    "counter=[]\n",
    "temp=[]\n",
    "for i in tqdm(range(len(copydata))):\n",
    "    temp=copydata['Vectors'][i][0].tolist()\n",
    "    for j in range(len(copydata['Vectors'][i])):\n",
    "        temp=temp+copydata['Vectors'][i][j].tolist()\n",
    "    counter.append(temp)\n",
    "# print(np.array(copydata['Vectors'][5000]).flatten().size)"
   ]
  },
  {
   "cell_type": "code",
   "execution_count": 98,
   "id": "4858b39b",
   "metadata": {},
   "outputs": [],
   "source": [
    "sentiment=[]\n",
    "for i in range(len(copydata)):\n",
    "    sentiment.append(copydata['newLabel'][i])"
   ]
  },
  {
   "cell_type": "code",
   "execution_count": 70,
   "id": "050a2da8",
   "metadata": {
    "scrolled": true
   },
   "outputs": [
    {
     "data": {
      "text/plain": [
       "240"
      ]
     },
     "execution_count": 70,
     "metadata": {},
     "output_type": "execute_result"
    }
   ],
   "source": [
    "import numpy as np\n",
    "np.array(copydata['Vectors'][0]).flatten().size "
   ]
  },
  {
   "cell_type": "code",
   "execution_count": 91,
   "id": "eb6e9b17",
   "metadata": {
    "scrolled": true
   },
   "outputs": [
    {
     "data": {
      "text/plain": [
       "array([[0, 1, 0, 0, 0],\n",
       "       [0, 1, 0, 0, 0],\n",
       "       [0, 1, 0, 0, 0],\n",
       "       ...,\n",
       "       [0, 0, 0, 1, 0],\n",
       "       [0, 0, 0, 1, 0],\n",
       "       [0, 0, 0, 1, 0]])"
      ]
     },
     "execution_count": 91,
     "metadata": {},
     "output_type": "execute_result"
    }
   ],
   "source": [
    "from sklearn.model_selection import train_test_split # to split test and train\n",
    "from tensorflow.keras.utils import to_categorical # to categorical data\n",
    "y = to_categorical(sentiment).astype(int)\n",
    "y"
   ]
  },
  {
   "cell_type": "code",
   "execution_count": 26,
   "id": "31586030",
   "metadata": {},
   "outputs": [],
   "source": [
    "from tensorflow.keras.datasets import  imdb \n",
    "from tensorflow.keras.models import Sequential\n",
    "from tensorflow.keras.layers import Embedding\n",
    "from tensorflow.keras.preprocessing import sequence\n",
    "from tensorflow.keras.layers import Dense\n",
    "from tensorflow.keras.layers import GRU\n"
   ]
  },
  {
   "cell_type": "code",
   "execution_count": 115,
   "id": "cd1d4308",
   "metadata": {},
   "outputs": [
    {
     "data": {
      "text/plain": [
       "(49528,)"
      ]
     },
     "execution_count": 115,
     "metadata": {},
     "output_type": "execute_result"
    }
   ],
   "source": [
    "np.array(sentiment).shape"
   ]
  },
  {
   "cell_type": "code",
   "execution_count": 104,
   "id": "0403c5d6",
   "metadata": {},
   "outputs": [
    {
     "name": "stderr",
     "output_type": "stream",
     "text": [
      "C:\\Users\\user\\AppData\\Local\\Temp\\ipykernel_5812\\4105218851.py:1: VisibleDeprecationWarning: Creating an ndarray from ragged nested sequences (which is a list-or-tuple of lists-or-tuples-or ndarrays with different lengths or shapes) is deprecated. If you meant to do this, you must specify 'dtype=object' when creating the ndarray\n",
      "  x=sequence.pad_sequences(np.array(counter),maxlen=512,dtype='float32')\n"
     ]
    },
    {
     "data": {
      "text/plain": [
       "((47051, 720), (47051, 5), (49528, 512))"
      ]
     },
     "execution_count": 104,
     "metadata": {},
     "output_type": "execute_result"
    }
   ],
   "source": [
    "x=sequence.pad_sequences(np.array(counter),maxlen=512,dtype='float32')\n",
    "# for i in range(len(copydata)):\n",
    "#     prinlen(len(counter[0][0]))\n",
    "X_train.shape,y_train.shape ,x.shape"
   ]
  },
  {
   "cell_type": "code",
   "execution_count": 105,
   "id": "4f10b4ca",
   "metadata": {},
   "outputs": [],
   "source": [
    "X_train, X_test, y_train, y_test = train_test_split(x, y, test_size=0.05)"
   ]
  },
  {
   "cell_type": "code",
   "execution_count": 108,
   "id": "4a640e06",
   "metadata": {},
   "outputs": [
    {
     "data": {
      "text/plain": [
       "(array([[ 0.        ,  0.        ,  0.        , ...,  0.06664681,\n",
       "          2.2931826 , -0.6105696 ],\n",
       "        [-0.2988216 ,  0.14024633,  3.5166476 , ..., -1.2650552 ,\n",
       "         -3.0302546 , -1.9531665 ],\n",
       "        [ 0.        ,  0.        ,  0.        , ...,  0.52202034,\n",
       "         -1.4835407 ,  0.8500348 ],\n",
       "        ...,\n",
       "        [ 0.        ,  0.        ,  0.        , ...,  0.48199058,\n",
       "         -1.3232802 ,  1.6739393 ],\n",
       "        [-0.404489  ,  1.4311732 ,  2.3006833 , ..., -0.763865  ,\n",
       "          6.255383  , -1.4383389 ],\n",
       "        [ 0.        ,  0.        ,  0.        , ...,  0.52202034,\n",
       "         -1.4835407 ,  0.8500348 ]], dtype=float32),\n",
       " array([[0, 1, 0, 0, 0],\n",
       "        [0, 1, 0, 0, 0],\n",
       "        [0, 1, 0, 0, 0],\n",
       "        ...,\n",
       "        [0, 0, 0, 1, 0],\n",
       "        [0, 0, 0, 1, 0],\n",
       "        [0, 0, 0, 1, 0]]))"
      ]
     },
     "execution_count": 108,
     "metadata": {},
     "output_type": "execute_result"
    }
   ],
   "source": [
    "x,y"
   ]
  },
  {
   "cell_type": "code",
   "execution_count": 133,
   "id": "ef014f4d",
   "metadata": {},
   "outputs": [
    {
     "name": "stdout",
     "output_type": "stream",
     "text": [
      "Model: \"sequential_35\"\n",
      "_________________________________________________________________\n",
      "Layer (type)                 Output Shape              Param #   \n",
      "=================================================================\n",
      "embedding_34 (Embedding)     (None, 512, 151)          7478728   \n",
      "_________________________________________________________________\n",
      "gru_14 (GRU)                 (None, 151)               137712    \n",
      "_________________________________________________________________\n",
      "dense_22 (Dense)             (None, 5)                 760       \n",
      "=================================================================\n",
      "Total params: 7,617,200\n",
      "Trainable params: 7,617,200\n",
      "Non-trainable params: 0\n",
      "_________________________________________________________________\n",
      "None\n"
     ]
    }
   ],
   "source": [
    "from tensorflow.keras.initializers import Constant\n",
    "from tensorflow.keras import layers\n",
    "model = Sequential()\n",
    "model.add(Embedding(49528,151,input_length=512))\n",
    "# model.add(layers.SimpleRNN(80))\n",
    "# model.add(layers.Flatten())\n",
    "model.add(GRU(151))\n",
    "model.add(Dense(5,activation='softmax'))\n",
    "model.compile(loss='categorical_crossentropy',optimizer='adam',metrics=['accuracy'])\n",
    "print(model.summary())"
   ]
  },
  {
   "cell_type": "code",
   "execution_count": 135,
   "id": "f4457746",
   "metadata": {},
   "outputs": [
    {
     "name": "stdout",
     "output_type": "stream",
     "text": [
      "Epoch 1/16\n"
     ]
    },
    {
     "ename": "InvalidArgumentError",
     "evalue": "2 root error(s) found.\n  (0) Invalid argument:  indices[22,257] = -4 is not in [0, 49528)\n\t [[node sequential_35/embedding_34/embedding_lookup (defined at C:\\Users\\user\\AppData\\Local\\Temp\\ipykernel_5812\\2939073853.py:5) ]]\n\t [[Adam/Adam/update/AssignSubVariableOp/_35]]\n  (1) Invalid argument:  indices[22,257] = -4 is not in [0, 49528)\n\t [[node sequential_35/embedding_34/embedding_lookup (defined at C:\\Users\\user\\AppData\\Local\\Temp\\ipykernel_5812\\2939073853.py:5) ]]\n0 successful operations.\n0 derived errors ignored. [Op:__inference_train_function_58769]\n\nErrors may have originated from an input operation.\nInput Source operations connected to node sequential_35/embedding_34/embedding_lookup:\n sequential_35/embedding_34/embedding_lookup/57533 (defined at D:\\anaconda\\envs\\mediapipe\\lib\\contextlib.py:113)\n\nInput Source operations connected to node sequential_35/embedding_34/embedding_lookup:\n sequential_35/embedding_34/embedding_lookup/57533 (defined at D:\\anaconda\\envs\\mediapipe\\lib\\contextlib.py:113)\n\nFunction call stack:\ntrain_function -> train_function\n",
     "output_type": "error",
     "traceback": [
      "\u001b[1;31m---------------------------------------------------------------------------\u001b[0m",
      "\u001b[1;31mInvalidArgumentError\u001b[0m                      Traceback (most recent call last)",
      "Input \u001b[1;32mIn [135]\u001b[0m, in \u001b[0;36m<cell line: 5>\u001b[1;34m()\u001b[0m\n\u001b[0;32m      2\u001b[0m \u001b[38;5;28;01mimport\u001b[39;00m \u001b[38;5;21;01mos\u001b[39;00m\n\u001b[0;32m      3\u001b[0m \u001b[38;5;66;03m# log_dir = os.path.join('Logs')\u001b[39;00m\n\u001b[0;32m      4\u001b[0m \u001b[38;5;66;03m# tb_callback = TensorBoard(log_dir=log_dir)\u001b[39;00m\n\u001b[1;32m----> 5\u001b[0m \u001b[43mmodel\u001b[49m\u001b[38;5;241;43m.\u001b[39;49m\u001b[43mfit\u001b[49m\u001b[43m(\u001b[49m\u001b[43mx\u001b[49m\u001b[43m,\u001b[49m\u001b[43my\u001b[49m\u001b[43m,\u001b[49m\u001b[43m \u001b[49m\u001b[43mepochs\u001b[49m\u001b[38;5;241;43m=\u001b[39;49m\u001b[38;5;241;43m16\u001b[39;49m\u001b[43m)\u001b[49m\n",
      "File \u001b[1;32mD:\\anaconda\\envs\\mediapipe\\lib\\site-packages\\tensorflow\\python\\keras\\engine\\training.py:1100\u001b[0m, in \u001b[0;36mModel.fit\u001b[1;34m(self, x, y, batch_size, epochs, verbose, callbacks, validation_split, validation_data, shuffle, class_weight, sample_weight, initial_epoch, steps_per_epoch, validation_steps, validation_batch_size, validation_freq, max_queue_size, workers, use_multiprocessing)\u001b[0m\n\u001b[0;32m   1093\u001b[0m \u001b[38;5;28;01mwith\u001b[39;00m trace\u001b[38;5;241m.\u001b[39mTrace(\n\u001b[0;32m   1094\u001b[0m     \u001b[38;5;124m'\u001b[39m\u001b[38;5;124mtrain\u001b[39m\u001b[38;5;124m'\u001b[39m,\n\u001b[0;32m   1095\u001b[0m     epoch_num\u001b[38;5;241m=\u001b[39mepoch,\n\u001b[0;32m   1096\u001b[0m     step_num\u001b[38;5;241m=\u001b[39mstep,\n\u001b[0;32m   1097\u001b[0m     batch_size\u001b[38;5;241m=\u001b[39mbatch_size,\n\u001b[0;32m   1098\u001b[0m     _r\u001b[38;5;241m=\u001b[39m\u001b[38;5;241m1\u001b[39m):\n\u001b[0;32m   1099\u001b[0m   callbacks\u001b[38;5;241m.\u001b[39mon_train_batch_begin(step)\n\u001b[1;32m-> 1100\u001b[0m   tmp_logs \u001b[38;5;241m=\u001b[39m \u001b[38;5;28;43mself\u001b[39;49m\u001b[38;5;241;43m.\u001b[39;49m\u001b[43mtrain_function\u001b[49m\u001b[43m(\u001b[49m\u001b[43miterator\u001b[49m\u001b[43m)\u001b[49m\n\u001b[0;32m   1101\u001b[0m   \u001b[38;5;28;01mif\u001b[39;00m data_handler\u001b[38;5;241m.\u001b[39mshould_sync:\n\u001b[0;32m   1102\u001b[0m     context\u001b[38;5;241m.\u001b[39masync_wait()\n",
      "File \u001b[1;32mD:\\anaconda\\envs\\mediapipe\\lib\\site-packages\\tensorflow\\python\\eager\\def_function.py:828\u001b[0m, in \u001b[0;36mFunction.__call__\u001b[1;34m(self, *args, **kwds)\u001b[0m\n\u001b[0;32m    826\u001b[0m tracing_count \u001b[38;5;241m=\u001b[39m \u001b[38;5;28mself\u001b[39m\u001b[38;5;241m.\u001b[39mexperimental_get_tracing_count()\n\u001b[0;32m    827\u001b[0m \u001b[38;5;28;01mwith\u001b[39;00m trace\u001b[38;5;241m.\u001b[39mTrace(\u001b[38;5;28mself\u001b[39m\u001b[38;5;241m.\u001b[39m_name) \u001b[38;5;28;01mas\u001b[39;00m tm:\n\u001b[1;32m--> 828\u001b[0m   result \u001b[38;5;241m=\u001b[39m \u001b[38;5;28;43mself\u001b[39;49m\u001b[38;5;241;43m.\u001b[39;49m\u001b[43m_call\u001b[49m\u001b[43m(\u001b[49m\u001b[38;5;241;43m*\u001b[39;49m\u001b[43margs\u001b[49m\u001b[43m,\u001b[49m\u001b[43m \u001b[49m\u001b[38;5;241;43m*\u001b[39;49m\u001b[38;5;241;43m*\u001b[39;49m\u001b[43mkwds\u001b[49m\u001b[43m)\u001b[49m\n\u001b[0;32m    829\u001b[0m   compiler \u001b[38;5;241m=\u001b[39m \u001b[38;5;124m\"\u001b[39m\u001b[38;5;124mxla\u001b[39m\u001b[38;5;124m\"\u001b[39m \u001b[38;5;28;01mif\u001b[39;00m \u001b[38;5;28mself\u001b[39m\u001b[38;5;241m.\u001b[39m_experimental_compile \u001b[38;5;28;01melse\u001b[39;00m \u001b[38;5;124m\"\u001b[39m\u001b[38;5;124mnonXla\u001b[39m\u001b[38;5;124m\"\u001b[39m\n\u001b[0;32m    830\u001b[0m   new_tracing_count \u001b[38;5;241m=\u001b[39m \u001b[38;5;28mself\u001b[39m\u001b[38;5;241m.\u001b[39mexperimental_get_tracing_count()\n",
      "File \u001b[1;32mD:\\anaconda\\envs\\mediapipe\\lib\\site-packages\\tensorflow\\python\\eager\\def_function.py:855\u001b[0m, in \u001b[0;36mFunction._call\u001b[1;34m(self, *args, **kwds)\u001b[0m\n\u001b[0;32m    852\u001b[0m   \u001b[38;5;28mself\u001b[39m\u001b[38;5;241m.\u001b[39m_lock\u001b[38;5;241m.\u001b[39mrelease()\n\u001b[0;32m    853\u001b[0m   \u001b[38;5;66;03m# In this case we have created variables on the first call, so we run the\u001b[39;00m\n\u001b[0;32m    854\u001b[0m   \u001b[38;5;66;03m# defunned version which is guaranteed to never create variables.\u001b[39;00m\n\u001b[1;32m--> 855\u001b[0m   \u001b[38;5;28;01mreturn\u001b[39;00m \u001b[38;5;28;43mself\u001b[39;49m\u001b[38;5;241;43m.\u001b[39;49m\u001b[43m_stateless_fn\u001b[49m\u001b[43m(\u001b[49m\u001b[38;5;241;43m*\u001b[39;49m\u001b[43margs\u001b[49m\u001b[43m,\u001b[49m\u001b[43m \u001b[49m\u001b[38;5;241;43m*\u001b[39;49m\u001b[38;5;241;43m*\u001b[39;49m\u001b[43mkwds\u001b[49m\u001b[43m)\u001b[49m  \u001b[38;5;66;03m# pylint: disable=not-callable\u001b[39;00m\n\u001b[0;32m    856\u001b[0m \u001b[38;5;28;01melif\u001b[39;00m \u001b[38;5;28mself\u001b[39m\u001b[38;5;241m.\u001b[39m_stateful_fn \u001b[38;5;129;01mis\u001b[39;00m \u001b[38;5;129;01mnot\u001b[39;00m \u001b[38;5;28;01mNone\u001b[39;00m:\n\u001b[0;32m    857\u001b[0m   \u001b[38;5;66;03m# Release the lock early so that multiple threads can perform the call\u001b[39;00m\n\u001b[0;32m    858\u001b[0m   \u001b[38;5;66;03m# in parallel.\u001b[39;00m\n\u001b[0;32m    859\u001b[0m   \u001b[38;5;28mself\u001b[39m\u001b[38;5;241m.\u001b[39m_lock\u001b[38;5;241m.\u001b[39mrelease()\n",
      "File \u001b[1;32mD:\\anaconda\\envs\\mediapipe\\lib\\site-packages\\tensorflow\\python\\eager\\function.py:2942\u001b[0m, in \u001b[0;36mFunction.__call__\u001b[1;34m(self, *args, **kwargs)\u001b[0m\n\u001b[0;32m   2939\u001b[0m \u001b[38;5;28;01mwith\u001b[39;00m \u001b[38;5;28mself\u001b[39m\u001b[38;5;241m.\u001b[39m_lock:\n\u001b[0;32m   2940\u001b[0m   (graph_function,\n\u001b[0;32m   2941\u001b[0m    filtered_flat_args) \u001b[38;5;241m=\u001b[39m \u001b[38;5;28mself\u001b[39m\u001b[38;5;241m.\u001b[39m_maybe_define_function(args, kwargs)\n\u001b[1;32m-> 2942\u001b[0m \u001b[38;5;28;01mreturn\u001b[39;00m \u001b[43mgraph_function\u001b[49m\u001b[38;5;241;43m.\u001b[39;49m\u001b[43m_call_flat\u001b[49m\u001b[43m(\u001b[49m\n\u001b[0;32m   2943\u001b[0m \u001b[43m    \u001b[49m\u001b[43mfiltered_flat_args\u001b[49m\u001b[43m,\u001b[49m\u001b[43m \u001b[49m\u001b[43mcaptured_inputs\u001b[49m\u001b[38;5;241;43m=\u001b[39;49m\u001b[43mgraph_function\u001b[49m\u001b[38;5;241;43m.\u001b[39;49m\u001b[43mcaptured_inputs\u001b[49m\u001b[43m)\u001b[49m\n",
      "File \u001b[1;32mD:\\anaconda\\envs\\mediapipe\\lib\\site-packages\\tensorflow\\python\\eager\\function.py:1918\u001b[0m, in \u001b[0;36mConcreteFunction._call_flat\u001b[1;34m(self, args, captured_inputs, cancellation_manager)\u001b[0m\n\u001b[0;32m   1914\u001b[0m possible_gradient_type \u001b[38;5;241m=\u001b[39m gradients_util\u001b[38;5;241m.\u001b[39mPossibleTapeGradientTypes(args)\n\u001b[0;32m   1915\u001b[0m \u001b[38;5;28;01mif\u001b[39;00m (possible_gradient_type \u001b[38;5;241m==\u001b[39m gradients_util\u001b[38;5;241m.\u001b[39mPOSSIBLE_GRADIENT_TYPES_NONE\n\u001b[0;32m   1916\u001b[0m     \u001b[38;5;129;01mand\u001b[39;00m executing_eagerly):\n\u001b[0;32m   1917\u001b[0m   \u001b[38;5;66;03m# No tape is watching; skip to running the function.\u001b[39;00m\n\u001b[1;32m-> 1918\u001b[0m   \u001b[38;5;28;01mreturn\u001b[39;00m \u001b[38;5;28mself\u001b[39m\u001b[38;5;241m.\u001b[39m_build_call_outputs(\u001b[38;5;28;43mself\u001b[39;49m\u001b[38;5;241;43m.\u001b[39;49m\u001b[43m_inference_function\u001b[49m\u001b[38;5;241;43m.\u001b[39;49m\u001b[43mcall\u001b[49m\u001b[43m(\u001b[49m\n\u001b[0;32m   1919\u001b[0m \u001b[43m      \u001b[49m\u001b[43mctx\u001b[49m\u001b[43m,\u001b[49m\u001b[43m \u001b[49m\u001b[43margs\u001b[49m\u001b[43m,\u001b[49m\u001b[43m \u001b[49m\u001b[43mcancellation_manager\u001b[49m\u001b[38;5;241;43m=\u001b[39;49m\u001b[43mcancellation_manager\u001b[49m\u001b[43m)\u001b[49m)\n\u001b[0;32m   1920\u001b[0m forward_backward \u001b[38;5;241m=\u001b[39m \u001b[38;5;28mself\u001b[39m\u001b[38;5;241m.\u001b[39m_select_forward_and_backward_functions(\n\u001b[0;32m   1921\u001b[0m     args,\n\u001b[0;32m   1922\u001b[0m     possible_gradient_type,\n\u001b[0;32m   1923\u001b[0m     executing_eagerly)\n\u001b[0;32m   1924\u001b[0m forward_function, args_with_tangents \u001b[38;5;241m=\u001b[39m forward_backward\u001b[38;5;241m.\u001b[39mforward()\n",
      "File \u001b[1;32mD:\\anaconda\\envs\\mediapipe\\lib\\site-packages\\tensorflow\\python\\eager\\function.py:555\u001b[0m, in \u001b[0;36m_EagerDefinedFunction.call\u001b[1;34m(self, ctx, args, cancellation_manager)\u001b[0m\n\u001b[0;32m    553\u001b[0m \u001b[38;5;28;01mwith\u001b[39;00m _InterpolateFunctionError(\u001b[38;5;28mself\u001b[39m):\n\u001b[0;32m    554\u001b[0m   \u001b[38;5;28;01mif\u001b[39;00m cancellation_manager \u001b[38;5;129;01mis\u001b[39;00m \u001b[38;5;28;01mNone\u001b[39;00m:\n\u001b[1;32m--> 555\u001b[0m     outputs \u001b[38;5;241m=\u001b[39m \u001b[43mexecute\u001b[49m\u001b[38;5;241;43m.\u001b[39;49m\u001b[43mexecute\u001b[49m\u001b[43m(\u001b[49m\n\u001b[0;32m    556\u001b[0m \u001b[43m        \u001b[49m\u001b[38;5;28;43mstr\u001b[39;49m\u001b[43m(\u001b[49m\u001b[38;5;28;43mself\u001b[39;49m\u001b[38;5;241;43m.\u001b[39;49m\u001b[43msignature\u001b[49m\u001b[38;5;241;43m.\u001b[39;49m\u001b[43mname\u001b[49m\u001b[43m)\u001b[49m\u001b[43m,\u001b[49m\n\u001b[0;32m    557\u001b[0m \u001b[43m        \u001b[49m\u001b[43mnum_outputs\u001b[49m\u001b[38;5;241;43m=\u001b[39;49m\u001b[38;5;28;43mself\u001b[39;49m\u001b[38;5;241;43m.\u001b[39;49m\u001b[43m_num_outputs\u001b[49m\u001b[43m,\u001b[49m\n\u001b[0;32m    558\u001b[0m \u001b[43m        \u001b[49m\u001b[43minputs\u001b[49m\u001b[38;5;241;43m=\u001b[39;49m\u001b[43margs\u001b[49m\u001b[43m,\u001b[49m\n\u001b[0;32m    559\u001b[0m \u001b[43m        \u001b[49m\u001b[43mattrs\u001b[49m\u001b[38;5;241;43m=\u001b[39;49m\u001b[43mattrs\u001b[49m\u001b[43m,\u001b[49m\n\u001b[0;32m    560\u001b[0m \u001b[43m        \u001b[49m\u001b[43mctx\u001b[49m\u001b[38;5;241;43m=\u001b[39;49m\u001b[43mctx\u001b[49m\u001b[43m)\u001b[49m\n\u001b[0;32m    561\u001b[0m   \u001b[38;5;28;01melse\u001b[39;00m:\n\u001b[0;32m    562\u001b[0m     outputs \u001b[38;5;241m=\u001b[39m execute\u001b[38;5;241m.\u001b[39mexecute_with_cancellation(\n\u001b[0;32m    563\u001b[0m         \u001b[38;5;28mstr\u001b[39m(\u001b[38;5;28mself\u001b[39m\u001b[38;5;241m.\u001b[39msignature\u001b[38;5;241m.\u001b[39mname),\n\u001b[0;32m    564\u001b[0m         num_outputs\u001b[38;5;241m=\u001b[39m\u001b[38;5;28mself\u001b[39m\u001b[38;5;241m.\u001b[39m_num_outputs,\n\u001b[1;32m   (...)\u001b[0m\n\u001b[0;32m    567\u001b[0m         ctx\u001b[38;5;241m=\u001b[39mctx,\n\u001b[0;32m    568\u001b[0m         cancellation_manager\u001b[38;5;241m=\u001b[39mcancellation_manager)\n",
      "File \u001b[1;32mD:\\anaconda\\envs\\mediapipe\\lib\\site-packages\\tensorflow\\python\\eager\\execute.py:59\u001b[0m, in \u001b[0;36mquick_execute\u001b[1;34m(op_name, num_outputs, inputs, attrs, ctx, name)\u001b[0m\n\u001b[0;32m     57\u001b[0m \u001b[38;5;28;01mtry\u001b[39;00m:\n\u001b[0;32m     58\u001b[0m   ctx\u001b[38;5;241m.\u001b[39mensure_initialized()\n\u001b[1;32m---> 59\u001b[0m   tensors \u001b[38;5;241m=\u001b[39m \u001b[43mpywrap_tfe\u001b[49m\u001b[38;5;241;43m.\u001b[39;49m\u001b[43mTFE_Py_Execute\u001b[49m\u001b[43m(\u001b[49m\u001b[43mctx\u001b[49m\u001b[38;5;241;43m.\u001b[39;49m\u001b[43m_handle\u001b[49m\u001b[43m,\u001b[49m\u001b[43m \u001b[49m\u001b[43mdevice_name\u001b[49m\u001b[43m,\u001b[49m\u001b[43m \u001b[49m\u001b[43mop_name\u001b[49m\u001b[43m,\u001b[49m\n\u001b[0;32m     60\u001b[0m \u001b[43m                                      \u001b[49m\u001b[43minputs\u001b[49m\u001b[43m,\u001b[49m\u001b[43m \u001b[49m\u001b[43mattrs\u001b[49m\u001b[43m,\u001b[49m\u001b[43m \u001b[49m\u001b[43mnum_outputs\u001b[49m\u001b[43m)\u001b[49m\n\u001b[0;32m     61\u001b[0m \u001b[38;5;28;01mexcept\u001b[39;00m core\u001b[38;5;241m.\u001b[39m_NotOkStatusException \u001b[38;5;28;01mas\u001b[39;00m e:\n\u001b[0;32m     62\u001b[0m   \u001b[38;5;28;01mif\u001b[39;00m name \u001b[38;5;129;01mis\u001b[39;00m \u001b[38;5;129;01mnot\u001b[39;00m \u001b[38;5;28;01mNone\u001b[39;00m:\n",
      "\u001b[1;31mInvalidArgumentError\u001b[0m: 2 root error(s) found.\n  (0) Invalid argument:  indices[22,257] = -4 is not in [0, 49528)\n\t [[node sequential_35/embedding_34/embedding_lookup (defined at C:\\Users\\user\\AppData\\Local\\Temp\\ipykernel_5812\\2939073853.py:5) ]]\n\t [[Adam/Adam/update/AssignSubVariableOp/_35]]\n  (1) Invalid argument:  indices[22,257] = -4 is not in [0, 49528)\n\t [[node sequential_35/embedding_34/embedding_lookup (defined at C:\\Users\\user\\AppData\\Local\\Temp\\ipykernel_5812\\2939073853.py:5) ]]\n0 successful operations.\n0 derived errors ignored. [Op:__inference_train_function_58769]\n\nErrors may have originated from an input operation.\nInput Source operations connected to node sequential_35/embedding_34/embedding_lookup:\n sequential_35/embedding_34/embedding_lookup/57533 (defined at D:\\anaconda\\envs\\mediapipe\\lib\\contextlib.py:113)\n\nInput Source operations connected to node sequential_35/embedding_34/embedding_lookup:\n sequential_35/embedding_34/embedding_lookup/57533 (defined at D:\\anaconda\\envs\\mediapipe\\lib\\contextlib.py:113)\n\nFunction call stack:\ntrain_function -> train_function\n"
     ]
    }
   ],
   "source": [
    "from tensorflow.keras.callbacks import TensorBoard\n",
    "import os\n",
    "# log_dir = os.path.join('Logs')\n",
    "# tb_callback = TensorBoard(log_dir=log_dir)\n",
    "model.fit(x,y, epochs=16)"
   ]
  },
  {
   "cell_type": "code",
   "execution_count": 132,
   "id": "b16aaaed",
   "metadata": {},
   "outputs": [],
   "source": [
    "for i in range(len(X_train)):\n",
    "    if(len(X_train[i])!=512):\n",
    "        print('fail')"
   ]
  },
  {
   "cell_type": "code",
   "execution_count": 46,
   "id": "f99d45b7",
   "metadata": {},
   "outputs": [
    {
     "data": {
      "text/plain": [
       "array([[0, 0, 1, 0, 0],\n",
       "       [0, 0, 1, 0, 0],\n",
       "       [0, 0, 1, 0, 0],\n",
       "       ...,\n",
       "       [0, 1, 0, 0, 0],\n",
       "       [0, 0, 1, 0, 0],\n",
       "       [0, 0, 0, 1, 0]])"
      ]
     },
     "execution_count": 46,
     "metadata": {},
     "output_type": "execute_result"
    }
   ],
   "source": [
    "y_train"
   ]
  },
  {
   "cell_type": "code",
   "execution_count": 54,
   "id": "e832a981",
   "metadata": {},
   "outputs": [
    {
     "data": {
      "text/plain": [
       "(49528,)"
      ]
     },
     "execution_count": 54,
     "metadata": {},
     "output_type": "execute_result"
    }
   ],
   "source": [
    "np.array(sentiment).shape\n"
   ]
  },
  {
   "cell_type": "code",
   "execution_count": 141,
   "id": "f9979618",
   "metadata": {},
   "outputs": [
    {
     "data": {
      "text/plain": [
       "Unnamed: 0                                                 3895\n",
       "Info                                             本次交易為關係人交易 \\n否\n",
       "Label                                                       0.0\n",
       "Words                             ['次', '交易', '為', '關係人', '交易']\n",
       "Vectors       [array([-0.6673892 ,  3.3785224 , -3.5420296 ,...\n",
       "newLabel                                                      2\n",
       "Name: 3895, dtype: object"
      ]
     },
     "execution_count": 141,
     "metadata": {},
     "output_type": "execute_result"
    }
   ],
   "source": [
    "test.iloc[3895]"
   ]
  },
  {
   "cell_type": "code",
   "execution_count": 126,
   "id": "63d3e4a1",
   "metadata": {},
   "outputs": [
    {
     "data": {
      "text/plain": [
       "' 交付或付款條件 含付款期間及金額  契約限制條款及其他重要\\n約定事項 \\n無'"
      ]
     },
     "execution_count": 126,
     "metadata": {},
     "output_type": "execute_result"
    }
   ],
   "source": [
    "copydata['Info'][100]"
   ]
  },
  {
   "cell_type": "code",
   "execution_count": null,
   "id": "b45d7f8d",
   "metadata": {},
   "outputs": [],
   "source": []
  }
 ],
 "metadata": {
  "kernelspec": {
   "display_name": "Python 3 (ipykernel)",
   "language": "python",
   "name": "python3"
  },
  "language_info": {
   "codemirror_mode": {
    "name": "ipython",
    "version": 3
   },
   "file_extension": ".py",
   "mimetype": "text/x-python",
   "name": "python",
   "nbconvert_exporter": "python",
   "pygments_lexer": "ipython3",
   "version": "3.8.13"
  }
 },
 "nbformat": 4,
 "nbformat_minor": 5
}
