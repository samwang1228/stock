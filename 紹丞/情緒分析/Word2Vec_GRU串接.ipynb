{
 "cells": [
  {
   "cell_type": "code",
   "execution_count": 1,
   "id": "096f4045",
   "metadata": {},
   "outputs": [],
   "source": [
    "import pandas as pd"
   ]
  },
  {
   "cell_type": "code",
   "execution_count": 2,
   "id": "190a98c1",
   "metadata": {},
   "outputs": [],
   "source": [
    "data=pd.read_pickle('2317_vector_full_data.pkl')"
   ]
  },
  {
   "cell_type": "code",
   "execution_count": 3,
   "id": "999bd2bc",
   "metadata": {},
   "outputs": [
    {
     "name": "stdout",
     "output_type": "stream",
     "text": [
      "0                               董事會決議日期   \n",
      "1                     發放股利種類及金額 現金股利美金   元\n",
      "2                                其他應敘明事項 無\n",
      "3                               董事會決議日期   \n",
      "4         發放股利種類及金額 \\n股票股利美金   元 配發新股  股  \n",
      "                       ...                \n",
      "49523                         本次交易為關係人交易 否\n",
      "49524                        董事會通過日期 \\n不適用\n",
      "49525                        監察人承認日期 \\n不適用\n",
      "49526                    本次交易會計師出具非合理性意見 否\n",
      "49527                           其他敘明事項 \\n無\n",
      "Name: Info, Length: 49528, dtype: object\n",
      "1000                 [董事會, 通過, 日期, 不, 適用]\n",
      "1001    [監察人, 承認, 審計, 委員會, 同意, 日期, 不, 適用]\n",
      "Name: Words, dtype: object\n",
      "1000    [[0.060508467, 0.3024362, 1.744864, -1.9498981...\n",
      "1001    [[3.9632685, -2.7145953, 2.6416998, -1.0490379...\n",
      "Name: Vectors, dtype: object\n",
      "1000    0.0\n",
      "1001    0.0\n",
      "Name: Label, dtype: object\n"
     ]
    }
   ],
   "source": [
    "#使用方式 與格式 1\n",
    "print(data['Info'])\n",
    "print(data['Words'][1000:1002])\n",
    "print(data['Vectors'][1000:1002])\n",
    "print(data['Label'][1000:1002])"
   ]
  },
  {
   "cell_type": "code",
   "execution_count": 31,
   "id": "3577aa53",
   "metadata": {},
   "outputs": [
    {
     "name": "stdout",
     "output_type": "stream",
     "text": [
      "0                               董事會決議日期   \n",
      "1                     發放股利種類及金額 現金股利美金   元\n",
      "2                                其他應敘明事項 無\n",
      "3                               董事會決議日期   \n",
      "4         發放股利種類及金額 \\n股票股利美金   元 配發新股  股  \n",
      "                       ...                \n",
      "49523                         本次交易為關係人交易 否\n",
      "49524                        董事會通過日期 \\n不適用\n",
      "49525                        監察人承認日期 \\n不適用\n",
      "49526                    本次交易會計師出具非合理性意見 否\n",
      "49527                           其他敘明事項 \\n無\n",
      "Name: Info, Length: 49528, dtype: object\n",
      "0                                  [董事會, 決議, 日期]\n",
      "1                [發放, 股利, 種類, 金額, 現金, 股利, 美金, 元]\n",
      "2                                 [應, 敘明, 事項, 無]\n",
      "3                                  [董事會, 決議, 日期]\n",
      "4        [發放, 股利, 種類, 金額, 股票, 股利, 美金, 配發, 新股, 股]\n",
      "                          ...                   \n",
      "49523                     [次, 交易, 為, 關係人, 交易, 否]\n",
      "49524                       [董事會, 通過, 日期, 不, 適用]\n",
      "49525                       [監察人, 承認, 日期, 不, 適用]\n",
      "49526            [次, 交易, 會計師, 出具, 非, 合理性, 意見, 否]\n",
      "49527                                [敘明, 事項, 無]\n",
      "Name: Words, Length: 49528, dtype: object\n",
      "0        [[0.060508467, 0.3024362, 1.744864, -1.9498981...\n",
      "1        [[-0.9777799, -3.4325135, -1.0522126, 0.633181...\n",
      "2        [[2.303132, 3.6259599, -2.6627507, -1.6006417,...\n",
      "3        [[0.060508467, 0.3024362, 1.744864, -1.9498981...\n",
      "4        [[-0.9777799, -3.4325135, -1.0522126, 0.633181...\n",
      "                               ...                        \n",
      "49523    [[-0.6673892, 3.3785224, -3.5420296, 1.7105144...\n",
      "49524    [[0.060508467, 0.3024362, 1.744864, -1.9498981...\n",
      "49525    [[3.9632685, -2.7145953, 2.6416998, -1.0490379...\n",
      "49526    [[-0.6673892, 3.3785224, -3.5420296, 1.7105144...\n",
      "49527    [[5.5520926, 1.5312529, -3.252409, 0.13662224,...\n",
      "Name: Vectors, Length: 49528, dtype: object\n",
      "1000    0.0\n",
      "1001    0.0\n",
      "Name: Label, dtype: object\n"
     ]
    }
   ],
   "source": [
    "#使用方式 與格式 2\n",
    "print(data.Info)\n",
    "print(data.Words)\n",
    "print(data.Vectors)\n",
    "print(data.Label[1000:1002])"
   ]
  },
  {
   "cell_type": "code",
   "execution_count": 4,
   "id": "ce67d741",
   "metadata": {},
   "outputs": [
    {
     "name": "stderr",
     "output_type": "stream",
     "text": [
      "C:\\Users\\user\\AppData\\Local\\Temp\\ipykernel_30888\\1167576641.py:12: SettingWithCopyWarning: \n",
      "A value is trying to be set on a copy of a slice from a DataFrame\n",
      "\n",
      "See the caveats in the documentation: https://pandas.pydata.org/pandas-docs/stable/user_guide/indexing.html#returning-a-view-versus-a-copy\n",
      "  copydata['newLabel'][i]=1\n",
      "C:\\Users\\user\\AppData\\Local\\Temp\\ipykernel_30888\\1167576641.py:10: SettingWithCopyWarning: \n",
      "A value is trying to be set on a copy of a slice from a DataFrame\n",
      "\n",
      "See the caveats in the documentation: https://pandas.pydata.org/pandas-docs/stable/user_guide/indexing.html#returning-a-view-versus-a-copy\n",
      "  copydata['newLabel'][i]=2\n",
      "C:\\Users\\user\\AppData\\Local\\Temp\\ipykernel_30888\\1167576641.py:6: SettingWithCopyWarning: \n",
      "A value is trying to be set on a copy of a slice from a DataFrame\n",
      "\n",
      "See the caveats in the documentation: https://pandas.pydata.org/pandas-docs/stable/user_guide/indexing.html#returning-a-view-versus-a-copy\n",
      "  copydata['newLabel'][i]=3\n",
      "C:\\Users\\user\\AppData\\Local\\Temp\\ipykernel_30888\\1167576641.py:8: SettingWithCopyWarning: \n",
      "A value is trying to be set on a copy of a slice from a DataFrame\n",
      "\n",
      "See the caveats in the documentation: https://pandas.pydata.org/pandas-docs/stable/user_guide/indexing.html#returning-a-view-versus-a-copy\n",
      "  copydata['newLabel'][i]=4\n",
      "C:\\Users\\user\\AppData\\Local\\Temp\\ipykernel_30888\\1167576641.py:14: SettingWithCopyWarning: \n",
      "A value is trying to be set on a copy of a slice from a DataFrame\n",
      "\n",
      "See the caveats in the documentation: https://pandas.pydata.org/pandas-docs/stable/user_guide/indexing.html#returning-a-view-versus-a-copy\n",
      "  copydata['newLabel'][i]=0\n"
     ]
    },
    {
     "data": {
      "text/plain": [
       "0        1\n",
       "1        1\n",
       "2        1\n",
       "3        1\n",
       "4        1\n",
       "        ..\n",
       "49523    3\n",
       "49524    3\n",
       "49525    3\n",
       "49526    3\n",
       "49527    3\n",
       "Name: newLabel, Length: 49528, dtype: int64"
      ]
     },
     "execution_count": 4,
     "metadata": {},
     "output_type": "execute_result"
    }
   ],
   "source": [
    "copydata=data.copy()\n",
    "copydata['newLabel']=0\n",
    "copydata['Label']=copydata['Label'].astype(float)\n",
    "for i in range(len(data)):\n",
    "    if(copydata['Label'][i]>=0.3 and copydata['Label'][i]<0.7):\n",
    "        copydata['newLabel'][i]=3\n",
    "    elif(copydata['Label'][i]>=0.7 and copydata['Label'][i]<=1.0):\n",
    "        copydata['newLabel'][i]=4\n",
    "    elif(copydata['Label'][i]==0.0):\n",
    "        copydata['newLabel'][i]=2\n",
    "    elif(copydata['Label'][i]>-0.7 and copydata['Label'][i]<=-0.2):\n",
    "        copydata['newLabel'][i]=1\n",
    "    elif(copydata['Label'][i]<=-0.7 and copydata['Label'][i]>=-1.0):\n",
    "        copydata['newLabel'][i]=0\n",
    "copydata['newLabel']        \n"
   ]
  },
  {
   "cell_type": "code",
   "execution_count": 20,
   "id": "288c3b90",
   "metadata": {},
   "outputs": [
    {
     "data": {
      "text/plain": [
       "numpy.float64"
      ]
     },
     "execution_count": 20,
     "metadata": {},
     "output_type": "execute_result"
    }
   ],
   "source": [
    "type(copydata['Label'][0])"
   ]
  },
  {
   "cell_type": "code",
   "execution_count": 21,
   "id": "19d907f6",
   "metadata": {},
   "outputs": [],
   "source": [
    "copydata['Label']=copydata['Label'].astype(int)"
   ]
  },
  {
   "cell_type": "code",
   "execution_count": 4,
   "id": "21db5497",
   "metadata": {},
   "outputs": [
    {
     "data": {
      "text/plain": [
       "1"
      ]
     },
     "execution_count": 4,
     "metadata": {},
     "output_type": "execute_result"
    }
   ],
   "source": [
    "copydata['newLabel'][10000]"
   ]
  },
  {
   "cell_type": "code",
   "execution_count": 5,
   "id": "ac29f2e3",
   "metadata": {},
   "outputs": [
    {
     "data": {
      "text/plain": [
       "'-0.4799997965494791'"
      ]
     },
     "execution_count": 5,
     "metadata": {},
     "output_type": "execute_result"
    }
   ],
   "source": [
    "data['Label'][10000]"
   ]
  },
  {
   "cell_type": "code",
   "execution_count": 12,
   "id": "c9e6ec30",
   "metadata": {},
   "outputs": [
    {
     "ename": "AttributeError",
     "evalue": "'list' object has no attribute 'abs'",
     "output_type": "error",
     "traceback": [
      "\u001b[1;31m---------------------------------------------------------------------------\u001b[0m",
      "\u001b[1;31mAttributeError\u001b[0m                            Traceback (most recent call last)",
      "Input \u001b[1;32mIn [12]\u001b[0m, in \u001b[0;36m<cell line: 1>\u001b[1;34m()\u001b[0m\n\u001b[1;32m----> 1\u001b[0m \u001b[43mcopydata\u001b[49m\u001b[38;5;241;43m.\u001b[39;49m\u001b[43mVectors\u001b[49m\u001b[43m[\u001b[49m\u001b[38;5;241;43m0\u001b[39;49m\u001b[43m]\u001b[49m\u001b[38;5;241;43m.\u001b[39;49m\u001b[43mabs\u001b[49m()\n",
      "\u001b[1;31mAttributeError\u001b[0m: 'list' object has no attribute 'abs'"
     ]
    }
   ],
   "source": [
    "copydata.Vectors[0].abs()"
   ]
  },
  {
   "cell_type": "code",
   "execution_count": 59,
   "id": "c2b9f966",
   "metadata": {},
   "outputs": [
    {
     "data": {
      "text/plain": [
       "' 發放股利種類及金額 現金股利美金   元'"
      ]
     },
     "execution_count": 59,
     "metadata": {},
     "output_type": "execute_result"
    }
   ],
   "source": [
    "copydata['Info'][1]"
   ]
  },
  {
   "cell_type": "code",
   "execution_count": 13,
   "id": "c02cc39a",
   "metadata": {},
   "outputs": [
    {
     "name": "stderr",
     "output_type": "stream",
     "text": [
      "100%|██████████████████████████████████████████████████████████████████████████| 49528/49528 [00:07<00:00, 6295.96it/s]\n"
     ]
    }
   ],
   "source": [
    "from tqdm import tqdm\n",
    "counter=[]\n",
    "temp=[]\n",
    "for i in tqdm(range(len(copydata))):\n",
    "    temp=copydata['Vectors'][i][0].tolist()\n",
    "    for j in range(len(copydata['Vectors'][i])):\n",
    "        temp=temp+copydata['Vectors'][i][j].tolist()\n",
    "    counter.append(temp)\n",
    "# print(np.array(copydata['Vectors'][5000]).flatten().size)"
   ]
  },
  {
   "cell_type": "code",
   "execution_count": 20,
   "id": "2abc2511",
   "metadata": {},
   "outputs": [
    {
     "data": {
      "text/plain": [
       "1.082322359085083"
      ]
     },
     "execution_count": 20,
     "metadata": {},
     "output_type": "execute_result"
    }
   ],
   "source": [
    "for i in tqdm(range(len(counter))):\n",
    "    for j in range(len(counter[i])):\n",
    "        counter[i][j]=abs(counter[i][j])\n",
    "counter[0][4]"
   ]
  },
  {
   "cell_type": "code",
   "execution_count": 21,
   "id": "4858b39b",
   "metadata": {},
   "outputs": [],
   "source": [
    "sentiment=[]\n",
    "for i in range(len(copydata)):\n",
    "    sentiment.append(copydata['newLabel'][i])"
   ]
  },
  {
   "cell_type": "code",
   "execution_count": 70,
   "id": "050a2da8",
   "metadata": {
    "scrolled": true
   },
   "outputs": [
    {
     "data": {
      "text/plain": [
       "240"
      ]
     },
     "execution_count": 70,
     "metadata": {},
     "output_type": "execute_result"
    }
   ],
   "source": [
    "import numpy as np\n",
    "np.array(copydata['Vectors'][0]).flatten().size "
   ]
  },
  {
   "cell_type": "code",
   "execution_count": 22,
   "id": "eb6e9b17",
   "metadata": {
    "scrolled": true
   },
   "outputs": [
    {
     "data": {
      "text/plain": [
       "array([[0, 1, 0, 0, 0],\n",
       "       [0, 1, 0, 0, 0],\n",
       "       [0, 1, 0, 0, 0],\n",
       "       ...,\n",
       "       [0, 0, 0, 1, 0],\n",
       "       [0, 0, 0, 1, 0],\n",
       "       [0, 0, 0, 1, 0]])"
      ]
     },
     "execution_count": 22,
     "metadata": {},
     "output_type": "execute_result"
    }
   ],
   "source": [
    "from sklearn.model_selection import train_test_split # to split test and train\n",
    "from tensorflow.keras.utils import to_categorical # to categorical data\n",
    "y = to_categorical(sentiment).astype(int)\n",
    "y"
   ]
  },
  {
   "cell_type": "code",
   "execution_count": 27,
   "id": "31586030",
   "metadata": {},
   "outputs": [],
   "source": [
    "from tensorflow.keras.datasets import  imdb \n",
    "from tensorflow.keras.models import Sequential\n",
    "from tensorflow.keras.layers import Embedding\n",
    "from tensorflow.keras.preprocessing import sequence\n",
    "from tensorflow.keras.layers import Dense\n",
    "from tensorflow.keras.layers import GRU\n",
    "import numpy as np"
   ]
  },
  {
   "cell_type": "code",
   "execution_count": 115,
   "id": "cd1d4308",
   "metadata": {},
   "outputs": [
    {
     "data": {
      "text/plain": [
       "(49528,)"
      ]
     },
     "execution_count": 115,
     "metadata": {},
     "output_type": "execute_result"
    }
   ],
   "source": [
    "np.array(sentiment).shape"
   ]
  },
  {
   "cell_type": "code",
   "execution_count": 29,
   "id": "0403c5d6",
   "metadata": {},
   "outputs": [
    {
     "name": "stderr",
     "output_type": "stream",
     "text": [
      "C:\\Users\\user\\AppData\\Local\\Temp\\ipykernel_30888\\1490299990.py:1: VisibleDeprecationWarning: Creating an ndarray from ragged nested sequences (which is a list-or-tuple of lists-or-tuples-or ndarrays with different lengths or shapes) is deprecated. If you meant to do this, you must specify 'dtype=object' when creating the ndarray\n",
      "  x=sequence.pad_sequences(np.array(counter),maxlen=512,dtype='float32')\n"
     ]
    }
   ],
   "source": [
    "x=sequence.pad_sequences(np.array(counter),maxlen=512,dtype='float32')\n",
    "# for i in range(len(copydata)):\n",
    "#     prinlen(len(counter[0][0]))\n",
    "# X_train.shape,y_train.shape ,x.shape"
   ]
  },
  {
   "cell_type": "code",
   "execution_count": 105,
   "id": "4f10b4ca",
   "metadata": {},
   "outputs": [],
   "source": [
    "X_train, X_test, y_train, y_test = train_test_split(x, y, test_size=0.05)"
   ]
  },
  {
   "cell_type": "code",
   "execution_count": 108,
   "id": "4a640e06",
   "metadata": {},
   "outputs": [
    {
     "data": {
      "text/plain": [
       "(array([[ 0.        ,  0.        ,  0.        , ...,  0.06664681,\n",
       "          2.2931826 , -0.6105696 ],\n",
       "        [-0.2988216 ,  0.14024633,  3.5166476 , ..., -1.2650552 ,\n",
       "         -3.0302546 , -1.9531665 ],\n",
       "        [ 0.        ,  0.        ,  0.        , ...,  0.52202034,\n",
       "         -1.4835407 ,  0.8500348 ],\n",
       "        ...,\n",
       "        [ 0.        ,  0.        ,  0.        , ...,  0.48199058,\n",
       "         -1.3232802 ,  1.6739393 ],\n",
       "        [-0.404489  ,  1.4311732 ,  2.3006833 , ..., -0.763865  ,\n",
       "          6.255383  , -1.4383389 ],\n",
       "        [ 0.        ,  0.        ,  0.        , ...,  0.52202034,\n",
       "         -1.4835407 ,  0.8500348 ]], dtype=float32),\n",
       " array([[0, 1, 0, 0, 0],\n",
       "        [0, 1, 0, 0, 0],\n",
       "        [0, 1, 0, 0, 0],\n",
       "        ...,\n",
       "        [0, 0, 0, 1, 0],\n",
       "        [0, 0, 0, 1, 0],\n",
       "        [0, 0, 0, 1, 0]]))"
      ]
     },
     "execution_count": 108,
     "metadata": {},
     "output_type": "execute_result"
    }
   ],
   "source": [
    "x,y"
   ]
  },
  {
   "cell_type": "code",
   "execution_count": 30,
   "id": "ef014f4d",
   "metadata": {},
   "outputs": [
    {
     "name": "stdout",
     "output_type": "stream",
     "text": [
      "Model: \"sequential_1\"\n",
      "_________________________________________________________________\n",
      "Layer (type)                 Output Shape              Param #   \n",
      "=================================================================\n",
      "embedding_1 (Embedding)      (None, 512, 151)          7478728   \n",
      "_________________________________________________________________\n",
      "gru_1 (GRU)                  (None, 151)               137712    \n",
      "_________________________________________________________________\n",
      "dense_1 (Dense)              (None, 5)                 760       \n",
      "=================================================================\n",
      "Total params: 7,617,200\n",
      "Trainable params: 7,617,200\n",
      "Non-trainable params: 0\n",
      "_________________________________________________________________\n",
      "None\n"
     ]
    }
   ],
   "source": [
    "from tensorflow.keras.initializers import Constant\n",
    "from tensorflow.keras import layers\n",
    "model = Sequential()\n",
    "model.add(Embedding(49528,151,input_length=512))\n",
    "# model.add(layers.SimpleRNN(80))\n",
    "# model.add(layers.Flatten())\n",
    "model.add(GRU(151))\n",
    "model.add(Dense(5,activation='softmax'))\n",
    "model.compile(loss='categorical_crossentropy',optimizer='adam',metrics=['accuracy'])\n",
    "print(model.summary())"
   ]
  },
  {
   "cell_type": "code",
   "execution_count": 31,
   "id": "f4457746",
   "metadata": {},
   "outputs": [
    {
     "name": "stdout",
     "output_type": "stream",
     "text": [
      "Epoch 1/16\n",
      "1548/1548 [==============================] - 146s 91ms/step - loss: 0.8161 - accuracy: 0.7568\n",
      "Epoch 2/16\n",
      "1548/1548 [==============================] - 141s 91ms/step - loss: 0.7879 - accuracy: 0.7594\n",
      "Epoch 3/16\n",
      "1548/1548 [==============================] - 140s 91ms/step - loss: 0.7866 - accuracy: 0.7607\n",
      "Epoch 4/16\n",
      "1548/1548 [==============================] - 135s 87ms/step - loss: 0.7801 - accuracy: 0.7633\n",
      "Epoch 5/16\n",
      "1548/1548 [==============================] - 134s 87ms/step - loss: 0.7795 - accuracy: 0.7632\n",
      "Epoch 6/16\n",
      "1548/1548 [==============================] - 141s 91ms/step - loss: 0.7832 - accuracy: 0.7614\n",
      "Epoch 7/16\n",
      "1548/1548 [==============================] - 138s 89ms/step - loss: 0.7795 - accuracy: 0.7625\n",
      "Epoch 8/16\n",
      "1548/1548 [==============================] - 131s 85ms/step - loss: 0.7802 - accuracy: 0.7619\n",
      "Epoch 9/16\n",
      "1548/1548 [==============================] - 135s 87ms/step - loss: 0.7946 - accuracy: 0.7561\n",
      "Epoch 10/16\n",
      "1548/1548 [==============================] - 137s 89ms/step - loss: 0.7767 - accuracy: 0.7627\n",
      "Epoch 11/16\n",
      "1548/1548 [==============================] - 135s 87ms/step - loss: 0.7772 - accuracy: 0.7623\n",
      "Epoch 12/16\n",
      "1548/1548 [==============================] - 134s 87ms/step - loss: 0.7815 - accuracy: 0.7611\n",
      "Epoch 13/16\n",
      "1548/1548 [==============================] - 133s 86ms/step - loss: 0.7786 - accuracy: 0.7599\n",
      "Epoch 14/16\n",
      "1548/1548 [==============================] - 133s 86ms/step - loss: 0.7741 - accuracy: 0.7615\n",
      "Epoch 15/16\n",
      "1548/1548 [==============================] - 133s 86ms/step - loss: 0.7781 - accuracy: 0.7584\n",
      "Epoch 16/16\n",
      "1548/1548 [==============================] - 133s 86ms/step - loss: 0.7668 - accuracy: 0.7635\n"
     ]
    },
    {
     "data": {
      "text/plain": [
       "<tensorflow.python.keras.callbacks.History at 0x1473379fe80>"
      ]
     },
     "execution_count": 31,
     "metadata": {},
     "output_type": "execute_result"
    }
   ],
   "source": [
    "from tensorflow.keras.callbacks import TensorBoard\n",
    "import os\n",
    "# log_dir = os.path.join('Logs')\n",
    "# tb_callback = TensorBoard(log_dir=log_dir)\n",
    "model.fit(x,y, epochs=16)"
   ]
  },
  {
   "cell_type": "code",
   "execution_count": 32,
   "id": "b16aaaed",
   "metadata": {},
   "outputs": [],
   "source": [
    "model.save('abs16.h5')"
   ]
  },
  {
   "cell_type": "code",
   "execution_count": 36,
   "id": "f99d45b7",
   "metadata": {},
   "outputs": [
    {
     "data": {
      "text/plain": [
       "array([[8.6281886e-03, 1.5024301e-01, 7.4090683e-01, 7.2569638e-02,\n",
       "        2.7652318e-02],\n",
       "       [6.8489206e-03, 1.5055352e-01, 7.6132047e-01, 6.3994616e-02,\n",
       "        1.7282428e-02],\n",
       "       [7.5515918e-03, 1.3500440e-01, 7.7148598e-01, 6.4537302e-02,\n",
       "        2.1420691e-02],\n",
       "       ...,\n",
       "       [3.4300899e-04, 2.8487043e-02, 9.1361535e-01, 3.6738805e-02,\n",
       "        2.0815851e-02],\n",
       "       [2.1504441e-03, 7.2452046e-02, 8.6558050e-01, 4.3731570e-02,\n",
       "        1.6085476e-02],\n",
       "       [7.6571140e-03, 1.3433954e-01, 7.7211010e-01, 6.4583942e-02,\n",
       "        2.1309262e-02]], dtype=float32)"
      ]
     },
     "execution_count": 36,
     "metadata": {},
     "output_type": "execute_result"
    }
   ],
   "source": [
    "model.predict(x)"
   ]
  },
  {
   "cell_type": "code",
   "execution_count": 37,
   "id": "e832a981",
   "metadata": {},
   "outputs": [
    {
     "data": {
      "text/plain": [
       "array([[0, 1, 0, 0, 0],\n",
       "       [0, 1, 0, 0, 0],\n",
       "       [0, 1, 0, 0, 0],\n",
       "       ...,\n",
       "       [0, 0, 0, 1, 0],\n",
       "       [0, 0, 0, 1, 0],\n",
       "       [0, 0, 0, 1, 0]])"
      ]
     },
     "execution_count": 37,
     "metadata": {},
     "output_type": "execute_result"
    }
   ],
   "source": [
    "y\n"
   ]
  },
  {
   "cell_type": "code",
   "execution_count": 141,
   "id": "f9979618",
   "metadata": {},
   "outputs": [
    {
     "data": {
      "text/plain": [
       "Unnamed: 0                                                 3895\n",
       "Info                                             本次交易為關係人交易 \\n否\n",
       "Label                                                       0.0\n",
       "Words                             ['次', '交易', '為', '關係人', '交易']\n",
       "Vectors       [array([-0.6673892 ,  3.3785224 , -3.5420296 ,...\n",
       "newLabel                                                      2\n",
       "Name: 3895, dtype: object"
      ]
     },
     "execution_count": 141,
     "metadata": {},
     "output_type": "execute_result"
    }
   ],
   "source": [
    "test.iloc[3895]"
   ]
  },
  {
   "cell_type": "code",
   "execution_count": 126,
   "id": "63d3e4a1",
   "metadata": {},
   "outputs": [
    {
     "data": {
      "text/plain": [
       "' 交付或付款條件 含付款期間及金額  契約限制條款及其他重要\\n約定事項 \\n無'"
      ]
     },
     "execution_count": 126,
     "metadata": {},
     "output_type": "execute_result"
    }
   ],
   "source": [
    "copydata['Info'][100]"
   ]
  },
  {
   "cell_type": "code",
   "execution_count": null,
   "id": "b45d7f8d",
   "metadata": {},
   "outputs": [],
   "source": []
  }
 ],
 "metadata": {
  "kernelspec": {
   "display_name": "Python 3 (ipykernel)",
   "language": "python",
   "name": "python3"
  },
  "language_info": {
   "codemirror_mode": {
    "name": "ipython",
    "version": 3
   },
   "file_extension": ".py",
   "mimetype": "text/x-python",
   "name": "python",
   "nbconvert_exporter": "python",
   "pygments_lexer": "ipython3",
   "version": "3.8.13"
  }
 },
 "nbformat": 4,
 "nbformat_minor": 5
}
