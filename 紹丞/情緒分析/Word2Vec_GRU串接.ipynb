{
 "cells": [
  {
   "cell_type": "markdown",
   "id": "b907a462",
   "metadata": {},
   "source": [
    "conda install -c conda-forge imbalanced-learn  \n",
    "\n",
    "pip uninstall scikit-learn\n",
    "\n",
    "pip install scikit-learn==1.1.0"
   ]
  },
  {
   "cell_type": "code",
   "execution_count": 1,
   "id": "096f4045",
   "metadata": {},
   "outputs": [],
   "source": [
    "import pandas as pd"
   ]
  },
  {
   "cell_type": "code",
   "execution_count": 2,
   "id": "190a98c1",
   "metadata": {},
   "outputs": [],
   "source": [
    "data=pd.read_pickle('2317_vector_full_data.pkl')"
   ]
  },
  {
   "cell_type": "code",
   "execution_count": 3,
   "id": "999bd2bc",
   "metadata": {},
   "outputs": [
    {
     "name": "stdout",
     "output_type": "stream",
     "text": [
      "0                               董事會決議日期   \n",
      "1                     發放股利種類及金額 現金股利美金   元\n",
      "2                                其他應敘明事項 無\n",
      "3                               董事會決議日期   \n",
      "4         發放股利種類及金額 \\n股票股利美金   元 配發新股  股  \n",
      "                       ...                \n",
      "49523                         本次交易為關係人交易 否\n",
      "49524                        董事會通過日期 \\n不適用\n",
      "49525                        監察人承認日期 \\n不適用\n",
      "49526                    本次交易會計師出具非合理性意見 否\n",
      "49527                           其他敘明事項 \\n無\n",
      "Name: Info, Length: 49528, dtype: object\n",
      "1000                 [董事會, 通過, 日期, 不, 適用]\n",
      "1001    [監察人, 承認, 審計, 委員會, 同意, 日期, 不, 適用]\n",
      "Name: Words, dtype: object\n",
      "1000    [[0.060508467, 0.3024362, 1.744864, -1.9498981...\n",
      "1001    [[3.9632685, -2.7145953, 2.6416998, -1.0490379...\n",
      "Name: Vectors, dtype: object\n",
      "1000    0.0\n",
      "1001    0.0\n",
      "Name: Label, dtype: object\n"
     ]
    }
   ],
   "source": [
    "#使用方式 與格式 1\n",
    "print(data['Info'])\n",
    "print(data['Words'][1000:1002])\n",
    "print(data['Vectors'][1000:1002])\n",
    "print(data['Label'][1000:1002])"
   ]
  },
  {
   "cell_type": "markdown",
   "id": "bd2a2353",
   "metadata": {},
   "source": [
    "# redefine label 0超不好 1不好 2中立 3好 4超好"
   ]
  },
  {
   "cell_type": "code",
   "execution_count": 4,
   "id": "ce67d741",
   "metadata": {},
   "outputs": [
    {
     "name": "stderr",
     "output_type": "stream",
     "text": [
      "C:\\Users\\user\\AppData\\Local\\Temp\\ipykernel_19260\\1167576641.py:12: SettingWithCopyWarning: \n",
      "A value is trying to be set on a copy of a slice from a DataFrame\n",
      "\n",
      "See the caveats in the documentation: https://pandas.pydata.org/pandas-docs/stable/user_guide/indexing.html#returning-a-view-versus-a-copy\n",
      "  copydata['newLabel'][i]=1\n",
      "C:\\Users\\user\\AppData\\Local\\Temp\\ipykernel_19260\\1167576641.py:10: SettingWithCopyWarning: \n",
      "A value is trying to be set on a copy of a slice from a DataFrame\n",
      "\n",
      "See the caveats in the documentation: https://pandas.pydata.org/pandas-docs/stable/user_guide/indexing.html#returning-a-view-versus-a-copy\n",
      "  copydata['newLabel'][i]=2\n",
      "C:\\Users\\user\\AppData\\Local\\Temp\\ipykernel_19260\\1167576641.py:6: SettingWithCopyWarning: \n",
      "A value is trying to be set on a copy of a slice from a DataFrame\n",
      "\n",
      "See the caveats in the documentation: https://pandas.pydata.org/pandas-docs/stable/user_guide/indexing.html#returning-a-view-versus-a-copy\n",
      "  copydata['newLabel'][i]=3\n",
      "C:\\Users\\user\\AppData\\Local\\Temp\\ipykernel_19260\\1167576641.py:8: SettingWithCopyWarning: \n",
      "A value is trying to be set on a copy of a slice from a DataFrame\n",
      "\n",
      "See the caveats in the documentation: https://pandas.pydata.org/pandas-docs/stable/user_guide/indexing.html#returning-a-view-versus-a-copy\n",
      "  copydata['newLabel'][i]=4\n",
      "C:\\Users\\user\\AppData\\Local\\Temp\\ipykernel_19260\\1167576641.py:14: SettingWithCopyWarning: \n",
      "A value is trying to be set on a copy of a slice from a DataFrame\n",
      "\n",
      "See the caveats in the documentation: https://pandas.pydata.org/pandas-docs/stable/user_guide/indexing.html#returning-a-view-versus-a-copy\n",
      "  copydata['newLabel'][i]=0\n"
     ]
    },
    {
     "data": {
      "text/plain": [
       "0        1\n",
       "1        1\n",
       "2        1\n",
       "3        1\n",
       "4        1\n",
       "        ..\n",
       "49523    3\n",
       "49524    3\n",
       "49525    3\n",
       "49526    3\n",
       "49527    3\n",
       "Name: newLabel, Length: 49528, dtype: int64"
      ]
     },
     "execution_count": 4,
     "metadata": {},
     "output_type": "execute_result"
    }
   ],
   "source": [
    "copydata=data.copy()\n",
    "copydata['newLabel']=0\n",
    "copydata['Label']=copydata['Label'].astype(float)\n",
    "for i in range(len(data)):\n",
    "    if(copydata['Label'][i]>=0.3 and copydata['Label'][i]<0.7):\n",
    "        copydata['newLabel'][i]=3\n",
    "    elif(copydata['Label'][i]>=0.7 and copydata['Label'][i]<=1.0):\n",
    "        copydata['newLabel'][i]=4\n",
    "    elif(copydata['Label'][i]==0.0):\n",
    "        copydata['newLabel'][i]=2\n",
    "    elif(copydata['Label'][i]>-0.7 and copydata['Label'][i]<=-0.2):\n",
    "        copydata['newLabel'][i]=1\n",
    "    elif(copydata['Label'][i]<=-0.7 and copydata['Label'][i]>=-1.0):\n",
    "        copydata['newLabel'][i]=0\n",
    "copydata['newLabel']        \n"
   ]
  },
  {
   "cell_type": "markdown",
   "id": "bbafbe48",
   "metadata": {},
   "source": [
    "# 攤平陣列"
   ]
  },
  {
   "cell_type": "code",
   "execution_count": 5,
   "id": "c02cc39a",
   "metadata": {},
   "outputs": [],
   "source": [
    "from tqdm import tqdm\n",
    "def doubbleArr2One(copydata):\n",
    "    counter=[]\n",
    "    temp=[]\n",
    "    for i in tqdm(range(len(copydata))):\n",
    "        temp=copydata['Vectors'][i][0].tolist()\n",
    "        for j in range(len(copydata['Vectors'][i])):\n",
    "            temp=temp+copydata['Vectors'][i][j].tolist()\n",
    "        counter.append(temp)\n",
    "    return counter\n",
    "# print(np.array(copydata['Vectors'][5000]).flatten().size)"
   ]
  },
  {
   "cell_type": "code",
   "execution_count": 6,
   "id": "914fa77c",
   "metadata": {},
   "outputs": [
    {
     "name": "stderr",
     "output_type": "stream",
     "text": [
      "100%|██████████████████████████████████████████████████████████████████████████| 49528/49528 [00:07<00:00, 6368.46it/s]\n",
      "100%|██████████████████████████████████████████████████████████████████████████| 49528/49528 [00:17<00:00, 2832.58it/s]\n",
      "100%|██████████████████████████████████████████████████████████████████████████| 49528/49528 [00:09<00:00, 4966.50it/s]\n"
     ]
    },
    {
     "data": {
      "text/plain": [
       "(14.076935529708862, -15.159257888793945)"
      ]
     },
     "execution_count": 6,
     "metadata": {},
     "output_type": "execute_result"
    }
   ],
   "source": [
    "counter=doubbleArr2One(copydata)\n",
    "minValue=counter[0][0]\n",
    "for i in tqdm(range(len(counter))):\n",
    "    for j in range(len(counter[i])):\n",
    "        minValue=min(minValue,counter[i][j])\n",
    "for i in tqdm(range(len(counter))):\n",
    "    for j in range(len(counter[i])):\n",
    "        counter[i][j]-=minValue\n",
    "counter[0][4],minValue"
   ]
  },
  {
   "cell_type": "code",
   "execution_count": 7,
   "id": "4858b39b",
   "metadata": {},
   "outputs": [],
   "source": [
    "sentiment=[]\n",
    "for i in range(len(copydata)):\n",
    "    sentiment.append(copydata['newLabel'][i])"
   ]
  },
  {
   "cell_type": "code",
   "execution_count": 9,
   "id": "31586030",
   "metadata": {},
   "outputs": [],
   "source": [
    "from tensorflow.keras.datasets import  imdb \n",
    "from tensorflow.keras.models import Sequential\n",
    "from tensorflow.keras.layers import Embedding\n",
    "from tensorflow.keras.preprocessing import sequence\n",
    "from tensorflow.keras.layers import Dense\n",
    "from tensorflow.keras.layers import GRU\n",
    "import numpy as np\n",
    "from sklearn.model_selection import train_test_split # to split test and train\n",
    "from tensorflow.keras.utils import to_categorical # to categorical data"
   ]
  },
  {
   "cell_type": "code",
   "execution_count": 10,
   "id": "cd1d4308",
   "metadata": {},
   "outputs": [
    {
     "name": "stderr",
     "output_type": "stream",
     "text": [
      "C:\\Users\\user\\AppData\\Local\\Temp\\ipykernel_19260\\505788222.py:1: VisibleDeprecationWarning: Creating an ndarray from ragged nested sequences (which is a list-or-tuple of lists-or-tuples-or ndarrays with different lengths or shapes) is deprecated. If you meant to do this, you must specify 'dtype=object' when creating the ndarray.\n",
      "  oldx=sequence.pad_sequences(np.array(counter),maxlen=512,dtype='float32')\n"
     ]
    }
   ],
   "source": [
    "oldy = to_categorical(sentiment).astype(int)\n",
    "oldx=sequence.pad_sequences(np.array(counter),maxlen=512,dtype='float32')\n"
   ]
  },
  {
   "cell_type": "markdown",
   "id": "8eb18427",
   "metadata": {},
   "source": [
    "# 查看資料占比"
   ]
  },
  {
   "cell_type": "code",
   "execution_count": 18,
   "id": "d70acd64",
   "metadata": {},
   "outputs": [
    {
     "data": {
      "image/png": "[encoded data removed]",
      "text/plain": [
       "<Figure size 720x360 with 1 Axes>"
      ]
     },
     "metadata": {},
     "output_type": "display_data"
    },
    {
     "data": {
      "text/plain": [
       "34669"
      ]
     },
     "execution_count": 18,
     "metadata": {},
     "output_type": "execute_result"
    }
   ],
   "source": [
    "import numpy as np\n",
    "from sklearn.model_selection import train_test_split\n",
    "X_train, X_test, y_train, y_test = train_test_split(oldx, copydata['newLabel'], test_size=0.3,random_state=11)\n",
    "import matplotlib.pyplot as plt\n",
    "plt.figure( figsize=(10,5) )\n",
    "y_train.value_counts().plot( kind='pie', colors=['mediumseagreen','skyblue','lightcoral','mediumturquoise','mediumslateblue'], autopct='%1.2f%%' )\n",
    "plt.title( 'origin data' )  # 圖標題\n",
    "plt.ylabel( '' )\n",
    "plt.show()\n",
    "# .value_counts()\n",
    "len(y_train)"
   ]
  },
  {
   "cell_type": "markdown",
   "id": "afccc209",
   "metadata": {},
   "source": [
    "# oversample "
   ]
  },
  {
   "cell_type": "code",
   "execution_count": 24,
   "id": "b7574219",
   "metadata": {},
   "outputs": [
    {
     "data": {
      "image/png": "[encoded data removed]",
      "text/plain": [
       "<Figure size 720x360 with 1 Axes>"
      ]
     },
     "metadata": {},
     "output_type": "display_data"
    },
    {
     "data": {
      "text/plain": [
       "'oversample size為131905'"
      ]
     },
     "execution_count": 24,
     "metadata": {},
     "output_type": "execute_result"
    }
   ],
   "source": [
    "from imblearn.over_sampling import SMOTE\n",
    "X_train_balance_over, y_train_balance_over = SMOTE().fit_resample(X_train, y_train)\n",
    "import matplotlib.pyplot as plt\n",
    "plt.figure( figsize=(10,5) )\n",
    "y_train_balance_over.value_counts().plot( kind='pie', colors=['mediumseagreen','skyblue','lightcoral','mediumturquoise','mediumslateblue'], autopct='%1.2f%%' )\n",
    "plt.title( 'oversample data' )  # 圖標題\n",
    "plt.ylabel( '' )\n",
    "plt.show()\n",
    "f'oversample size為{len(y_train_balance_over)}'"
   ]
  },
  {
   "cell_type": "markdown",
   "id": "6c8dab9e",
   "metadata": {},
   "source": [
    "# undersample "
   ]
  },
  {
   "cell_type": "code",
   "execution_count": null,
   "id": "c9a7030a",
   "metadata": {},
   "outputs": [],
   "source": [
    "from imblearn.under_sampling import TomekLinks\n",
    "X_train_balance_under, y_train_balance_under = TomekLinks().fit_resample(X_train, y_train)\n",
    "import matplotlib.pyplot as plt\n",
    "plt.figure( figsize=(10,5) )\n",
    "y_train_balance_under.value_counts().plot( kind='pie', colors=['mediumseagreen','skyblue','lightcoral','mediumturquoise','mediumslateblue'], autopct='%1.2f%%' )\n",
    "plt.title( 'undersample data' )  # 圖標題\n",
    "plt.ylabel( '' )\n",
    "plt.show()\n",
    "f'undersample size為{len(y_train_balance_under)}'"
   ]
  },
  {
   "cell_type": "markdown",
   "id": "54166e28",
   "metadata": {},
   "source": [
    "# oversample and undersample  "
   ]
  },
  {
   "cell_type": "code",
   "execution_count": 29,
   "id": "1522f30e",
   "metadata": {},
   "outputs": [],
   "source": [
    "from imblearn.over_sampling import SMOTE\n",
    "from imblearn.under_sampling import TomekLinks\n",
    "X_res, y_res = SMOTE().fit_resample(X_train, y_train)\n",
    "X_res, y_res = TomekLinks().fit_resample(X_res, y_res)\n",
    "import matplotlib.pyplot as plt\n",
    "plt.figure( figsize=(10,5) )\n",
    "y_res.value_counts().plot( kind='pie', colors=['mediumseagreen','skyblue','lightcoral','mediumturquoise','mediumslateblue'], autopct='%1.2f%%' )\n",
    "plt.title( 'balance data' )  # 圖標題\n",
    "plt.ylabel( '' )\n",
    "plt.show()\n",
    "f'balance size為{len(y_res)}'"
   ]
  },
  {
   "cell_type": "code",
   "execution_count": null,
   "id": "263eb965",
   "metadata": {},
   "outputs": [],
   "source": [
    "y_res = to_categorical(y_res).astype(int)"
   ]
  },
  {
   "cell_type": "markdown",
   "id": "c448a044",
   "metadata": {},
   "source": [
    "# create model"
   ]
  },
  {
   "cell_type": "code",
   "execution_count": 56,
   "id": "ef014f4d",
   "metadata": {},
   "outputs": [
    {
     "name": "stdout",
     "output_type": "stream",
     "text": [
      "Model: \"sequential_4\"\n",
      "_________________________________________________________________\n",
      "Layer (type)                 Output Shape              Param #   \n",
      "=================================================================\n",
      "embedding_4 (Embedding)      (None, 512, 64)           908800    \n",
      "_________________________________________________________________\n",
      "gru_4 (GRU)                  (None, 64)                24960     \n",
      "_________________________________________________________________\n",
      "dense_4 (Dense)              (None, 5)                 325       \n",
      "=================================================================\n",
      "Total params: 934,085\n",
      "Trainable params: 934,085\n",
      "Non-trainable params: 0\n",
      "_________________________________________________________________\n",
      "None\n"
     ]
    }
   ],
   "source": [
    "from tensorflow.keras.initializers import Constant\n",
    "from tensorflow.keras import layers\n",
    "model = Sequential()\n",
    "model.add(Embedding(14200,64,input_length=512))\n",
    "# model.add(layers.SimpleRNN(80))\n",
    "# model.add(layers.Flatten())\n",
    "model.add(GRU(64))\n",
    "model.add(Dense(5,activation='softmax'))\n",
    "model.compile(loss='categorical_crossentropy',optimizer='adam',metrics=['accuracy'])\n",
    "print(model.summary())"
   ]
  },
  {
   "cell_type": "code",
   "execution_count": 1,
   "id": "f4457746",
   "metadata": {},
   "outputs": [],
   "source": [
    "from tensorflow.keras.callbacks import TensorBoard\n",
    "import os\n",
    "log_dir = os.path.join('Logs')\n",
    "tb_callback = TensorBoard(log_dir=log_dir)\n",
    "model.fit(x_res,y_res, epochs=10 ,validation_split=0.1,callbacks=[tb_callback])"
   ]
  },
  {
   "cell_type": "code",
   "execution_count": 62,
   "id": "b16aaaed",
   "metadata": {},
   "outputs": [],
   "source": [
    "model.save('final.h5')"
   ]
  },
  {
   "cell_type": "markdown",
   "id": "d0d3dd15",
   "metadata": {},
   "source": [
    "# check result"
   ]
  },
  {
   "cell_type": "code",
   "execution_count": 64,
   "id": "f99d45b7",
   "metadata": {},
   "outputs": [],
   "source": [
    "res=model.predict(oldx)"
   ]
  },
  {
   "cell_type": "code",
   "execution_count": 71,
   "id": "e832a981",
   "metadata": {},
   "outputs": [],
   "source": [
    "label=[]\n",
    "for i in range(len(res)):\n",
    "    label.append(np.argmax(res[i]))"
   ]
  },
  {
   "cell_type": "code",
   "execution_count": 72,
   "id": "f9979618",
   "metadata": {},
   "outputs": [
    {
     "data": {
      "text/plain": [
       "(49528, 20863)"
      ]
     },
     "execution_count": 72,
     "metadata": {},
     "output_type": "execute_result"
    }
   ],
   "source": [
    "c=0\n",
    "for i in range(len(label)):\n",
    "    if(label[i]!=2):\n",
    "        c+=1\n",
    "len(label),c"
   ]
  },
  {
   "cell_type": "code",
   "execution_count": 67,
   "id": "b6b4011d",
   "metadata": {},
   "outputs": [
    {
     "name": "stdout",
     "output_type": "stream",
     "text": [
      "1548/1548 [==============================] - 19s 12ms/step - loss: 1.0139 - accuracy: 0.7373\n"
     ]
    },
    {
     "data": {
      "text/plain": [
       "[1.0138849020004272, 0.7372597455978394]"
      ]
     },
     "execution_count": 67,
     "metadata": {},
     "output_type": "execute_result"
    }
   ],
   "source": [
    "model.evaluate(oldx,oldy)"
   ]
  },
  {
   "cell_type": "code",
   "execution_count": null,
   "id": "8b199527",
   "metadata": {},
   "outputs": [],
   "source": []
  },
  {
   "cell_type": "code",
   "execution_count": 83,
   "id": "63d3e4a1",
   "metadata": {},
   "outputs": [
    {
     "name": "stdout",
     "output_type": "stream",
     "text": [
      "1548/1548 [==============================] - 16s 10ms/step - loss: 0.3651 - accuracy: 0.8402\n"
     ]
    },
    {
     "data": {
      "text/plain": [
       "[0.3651164770126343, 0.840171217918396]"
      ]
     },
     "execution_count": 83,
     "metadata": {},
     "output_type": "execute_result"
    }
   ],
   "source": [
    "model.evaluate(oldx,oldy)"
   ]
  },
  {
   "cell_type": "code",
   "execution_count": 61,
   "id": "b45d7f8d",
   "metadata": {},
   "outputs": [],
   "source": [
    "counter=0\n",
    "for i in range(len(y)):\n",
    "    if (np.argmax(y[i])!=2):\n",
    "        counter+=1"
   ]
  },
  {
   "cell_type": "code",
   "execution_count": 63,
   "id": "c110bc24",
   "metadata": {},
   "outputs": [
    {
     "data": {
      "text/plain": [
       "(11850, 49528)"
      ]
     },
     "execution_count": 63,
     "metadata": {},
     "output_type": "execute_result"
    }
   ],
   "source": [
    "counter,len(y)"
   ]
  },
  {
   "cell_type": "markdown",
   "id": "64327c31",
   "metadata": {},
   "source": [
    "# Balance data"
   ]
  },
  {
   "cell_type": "code",
   "execution_count": 41,
   "id": "d3eaeed1",
   "metadata": {},
   "outputs": [
    {
     "name": "stderr",
     "output_type": "stream",
     "text": [
      "100%|██████████████████████████████████████████████████████████████████████████| 10540/10540 [00:01<00:00, 6559.49it/s]\n",
      "100%|██████████████████████████████████████████████████████████████████████████| 10540/10540 [00:01<00:00, 8627.22it/s]\n",
      "C:\\Users\\user\\AppData\\Local\\Temp\\ipykernel_3216\\776273037.py:37: VisibleDeprecationWarning: Creating an ndarray from ragged nested sequences (which is a list-or-tuple of lists-or-tuples-or ndarrays with different lengths or shapes) is deprecated. If you meant to do this, you must specify 'dtype=object' when creating the ndarray\n",
      "  x=sequence.pad_sequences(np.array(x),maxlen=512,dtype='float32')\n"
     ]
    },
    {
     "name": "stdout",
     "output_type": "stream",
     "text": [
      "攤平 0.06050846725702286\n"
     ]
    }
   ],
   "source": [
    "def balanceData(copydata):\n",
    "    balance=[]\n",
    "    fx=[]\n",
    "    fy=[]\n",
    "    counter2=0\n",
    "    counter1=0\n",
    "#   只增加一半為中立的data\n",
    "    for i in range(len(copydata)):\n",
    "        if(copydata['newLabel'][i]==2):\n",
    "            if(counter2<=3002):\n",
    "                balance.append(pd.DataFrame(copydata.iloc[i]))\n",
    "                counter2+=1\n",
    "        elif(copydata['newLabel'][i]==1):\n",
    "            if(counter1<=3002):\n",
    "                balance.append(pd.DataFrame(copydata.iloc[i]))\n",
    "                counter1+=1\n",
    "        else:\n",
    "            balance.append(pd.DataFrame(copydata.iloc[i]))\n",
    "    filter1=balance[0].T\n",
    "    for i in range(len(balance)-1):\n",
    "        filter1=pd.concat([filter1,balance[i+1].T], join='inner')\n",
    "#   index會亂掉要重製\n",
    "    filter1=filter1.reset_index()\n",
    "#   只取出label\n",
    "    for i in range((len(filter1))):\n",
    "        fy.append(filter1['newLabel'][i])\n",
    "#   攤平vector\n",
    "    x=doubbleArr2One(filter1)\n",
    "    minValue=x[0][0]\n",
    "    for i in tqdm(range(len(x))):\n",
    "        for j in range(len(x[i])):\n",
    "#             filter1['Vectors'][i][j]=abs(filter1['Vectors'][i][j])\n",
    "              x[i][j]+=15.159257888793945\n",
    "#               print(x[i][j])\n",
    "    print('攤平',minValue)\n",
    "#   fixed size\n",
    "    x=sequence.pad_sequences(np.array(x),maxlen=512,dtype='float32')\n",
    "#   one hot   \n",
    "    y=to_categorical(fy).astype(int)\n",
    "    return x,y\n",
    "x,y=balanceData(copydata)"
   ]
  },
  {
   "cell_type": "code",
   "execution_count": 65,
   "id": "13b94a20",
   "metadata": {},
   "outputs": [
    {
     "data": {
      "text/plain": [
       "([333, 7316, 37678, 3002, 1199],\n",
       " [333, 3003, 3003, 3002, 1199],\n",
       " [864, 501, 48158, 0, 5])"
      ]
     },
     "execution_count": 65,
     "metadata": {},
     "output_type": "execute_result"
    }
   ],
   "source": [
    "oldcounter=[0,0,0,0,0]\n",
    "counter=[0,0,0,0,0]\n",
    "predict_counter=[0,0,0,0,0]\n",
    "for i in range(len(copydata)):\n",
    "    for j in range(5):\n",
    "        if(copydata['newLabel'][i]==j):\n",
    "            oldcounter[j]+=1\n",
    "for i in range(len(y)):\n",
    "    for j in range(5):\n",
    "        if(np.argmax(y[i])==j):\n",
    "            counter[j]+=1\n",
    "for i in range(len(res)):\n",
    "    for j in range(5):\n",
    "        if(np.argmax(res[i])==j):\n",
    "            predict_counter[j]+=1\n",
    "oldcounter,counter,predict_counter        "
   ]
  },
  {
   "cell_type": "code",
   "execution_count": 85,
   "id": "bec4ab71",
   "metadata": {},
   "outputs": [
    {
     "name": "stderr",
     "output_type": "stream",
     "text": [
      "C:\\Users\\user\\AppData\\Local\\Temp\\ipykernel_3116\\4277280088.py:2: SettingWithCopyWarning: \n",
      "A value is trying to be set on a copy of a slice from a DataFrame\n",
      "\n",
      "See the caveats in the documentation: https://pandas.pydata.org/pandas-docs/stable/user_guide/indexing.html#returning-a-view-versus-a-copy\n",
      "  copydata['predict'][i]=np.argmax(res[i])\n"
     ]
    },
    {
     "data": {
      "text/plain": [
       "0        1\n",
       "1        1\n",
       "2        2\n",
       "3        1\n",
       "4        2\n",
       "        ..\n",
       "49523    3\n",
       "49524    3\n",
       "49525    3\n",
       "49526    1\n",
       "49527    1\n",
       "Name: predict, Length: 49528, dtype: int64"
      ]
     },
     "execution_count": 85,
     "metadata": {},
     "output_type": "execute_result"
    }
   ],
   "source": [
    "\n",
    "for i in range(len(copydata)):\n",
    "    copydata['predict'][i]=np.argmax(res[i])\n",
    "copydata['predict']"
   ]
  },
  {
   "cell_type": "code",
   "execution_count": 88,
   "id": "a30d5ca9",
   "metadata": {},
   "outputs": [
    {
     "name": "stdout",
     "output_type": "stream",
     "text": [
      " 取得或處分之具體目的或用途 \n",
      "營運需求\n",
      " 取得或處分之具體目的或用途 \n",
      "營運需求\n",
      " 取得或處分之具體目的或用途 \n",
      "營運需求\n",
      " 取得或處分之具體目的或用途 \n",
      "營運需求\n",
      " 取得或處分之具體目的或用途 \n",
      "營運需求\n",
      " 取得或處分之具體目的或用途 \n",
      "營運需求\n",
      " 取得或處分之具體目的或用途 \n",
      "營運需求\n",
      " 取得或處分之具體目的或用途 \n",
      "營運需求\n",
      " 取得或處分之具體目的或用途 \n",
      "營運需求\n",
      " 取得或處分之具體目的或用途 \n",
      "營運需求\n",
      " 取得或處分之具體目的或用途 \n",
      "營運需求\n",
      " 取得或處分之具體目的或用途 \n",
      "營運需求\n",
      " 取得或處分之具體目的或用途 \n",
      "營運需求\n",
      " 取得或處分之具體目的或用途 \n",
      "營運需求\n",
      " 取得或處分之具體目的或用途 \n",
      "營運需求\n",
      " 取得或處分之具體目的或用途 \n",
      "營運需求\n",
      " 取得或處分之具體目的或用途 \n",
      "營運需求\n",
      " 取得或處分之具體目的或用途 \n",
      "營運需求\n",
      " 取得或處分之具體目的或用途 \n",
      "營運需求\n",
      " 取得或處分之具體目的或用途 \n",
      "營運需求\n",
      " 取得或處分之具體目的或用途 \n",
      "營運需求\n",
      " 取得或處分之具體目的或用途 \n",
      "營運需求\n",
      " 取得或處分之具體目的或用途 \n",
      "營運需求\n",
      " 取得或處分之具體目的或用途 \n",
      "營運需求\n"
     ]
    }
   ],
   "source": [
    "for i in range(len(copydata)):\n",
    "    if(copydata['predict'][i]==4):\n",
    "        print(copydata['Info'][i])"
   ]
  },
  {
   "cell_type": "code",
   "execution_count": 86,
   "id": "2198cf11",
   "metadata": {},
   "outputs": [],
   "source": [
    "predict=[]\n",
    "info=[]\n",
    "for i in range(len(copydata)):\n",
    "    predict.append(copydata['predict'][i])\n",
    "    info.append(copydata['Info'][i])\n",
    "df_label=pd.DataFrame(label,columns=['Label'])\n",
    "df_info=pd.DataFrame(info,columns=['Info'])\n",
    "df_label=df_label.merge(df_info, how='inner', left_index=True, right_index=True)\n",
    "df_label.to_csv('labelData.csv')\n",
    "df_label.to_excel('labelData.xlsx')"
   ]
  },
  {
   "cell_type": "code",
   "execution_count": 68,
   "id": "4d2edebb",
   "metadata": {},
   "outputs": [
    {
     "name": "stdout",
     "output_type": "stream",
     "text": [
      "1548/1548 [==============================] - 19s 12ms/step - loss: 1.0220 - accuracy: 0.7407\n"
     ]
    },
    {
     "data": {
      "text/plain": [
       "[1.0219806432724, 0.7407324910163879]"
      ]
     },
     "execution_count": 68,
     "metadata": {},
     "output_type": "execute_result"
    }
   ],
   "source": [
    "model.load_weights('0808balance_abs16.h5')\n",
    "model.evaluate(oldx,oldy)"
   ]
  },
  {
   "cell_type": "code",
   "execution_count": 3,
   "id": "d7bd6fc2",
   "metadata": {},
   "outputs": [
    {
     "data": {
      "text/html": [
       "<div>\n",
       "<style scoped>\n",
       "    .dataframe tbody tr th:only-of-type {\n",
       "        vertical-align: middle;\n",
       "    }\n",
       "\n",
       "    .dataframe tbody tr th {\n",
       "        vertical-align: top;\n",
       "    }\n",
       "\n",
       "    .dataframe thead th {\n",
       "        text-align: right;\n",
       "    }\n",
       "</style>\n",
       "<table border=\"1\" class=\"dataframe\">\n",
       "  <thead>\n",
       "    <tr style=\"text-align: right;\">\n",
       "      <th></th>\n",
       "      <th>Unnamed: 0</th>\n",
       "      <th>Label</th>\n",
       "      <th>Info</th>\n",
       "    </tr>\n",
       "  </thead>\n",
       "  <tbody>\n",
       "    <tr>\n",
       "      <th>0</th>\n",
       "      <td>0</td>\n",
       "      <td>2</td>\n",
       "      <td>董事會決議日期</td>\n",
       "    </tr>\n",
       "    <tr>\n",
       "      <th>1</th>\n",
       "      <td>1</td>\n",
       "      <td>3</td>\n",
       "      <td>發放股利種類及金額 現金股利美金   元</td>\n",
       "    </tr>\n",
       "    <tr>\n",
       "      <th>2</th>\n",
       "      <td>2</td>\n",
       "      <td>3</td>\n",
       "      <td>其他應敘明事項 無</td>\n",
       "    </tr>\n",
       "    <tr>\n",
       "      <th>3</th>\n",
       "      <td>3</td>\n",
       "      <td>2</td>\n",
       "      <td>董事會決議日期</td>\n",
       "    </tr>\n",
       "    <tr>\n",
       "      <th>4</th>\n",
       "      <td>4</td>\n",
       "      <td>2</td>\n",
       "      <td>發放股利種類及金額 \\n股票股利美金   元 配發新股  股</td>\n",
       "    </tr>\n",
       "    <tr>\n",
       "      <th>...</th>\n",
       "      <td>...</td>\n",
       "      <td>...</td>\n",
       "      <td>...</td>\n",
       "    </tr>\n",
       "    <tr>\n",
       "      <th>49523</th>\n",
       "      <td>49523</td>\n",
       "      <td>3</td>\n",
       "      <td>本次交易為關係人交易 否</td>\n",
       "    </tr>\n",
       "    <tr>\n",
       "      <th>49524</th>\n",
       "      <td>49524</td>\n",
       "      <td>3</td>\n",
       "      <td>董事會通過日期 \\n不適用</td>\n",
       "    </tr>\n",
       "    <tr>\n",
       "      <th>49525</th>\n",
       "      <td>49525</td>\n",
       "      <td>3</td>\n",
       "      <td>監察人承認日期 \\n不適用</td>\n",
       "    </tr>\n",
       "    <tr>\n",
       "      <th>49526</th>\n",
       "      <td>49526</td>\n",
       "      <td>3</td>\n",
       "      <td>本次交易會計師出具非合理性意見 否</td>\n",
       "    </tr>\n",
       "    <tr>\n",
       "      <th>49527</th>\n",
       "      <td>49527</td>\n",
       "      <td>3</td>\n",
       "      <td>其他敘明事項 \\n無</td>\n",
       "    </tr>\n",
       "  </tbody>\n",
       "</table>\n",
       "<p>49528 rows × 3 columns</p>\n",
       "</div>"
      ],
      "text/plain": [
       "       Unnamed: 0  Label                               Info\n",
       "0               0      2                         董事會決議日期   \n",
       "1               1      3               發放股利種類及金額 現金股利美金   元\n",
       "2               2      3                          其他應敘明事項 無\n",
       "3               3      2                         董事會決議日期   \n",
       "4               4      2   發放股利種類及金額 \\n股票股利美金   元 配發新股  股  \n",
       "...           ...    ...                                ...\n",
       "49523       49523      3                       本次交易為關係人交易 否\n",
       "49524       49524      3                      董事會通過日期 \\n不適用\n",
       "49525       49525      3                      監察人承認日期 \\n不適用\n",
       "49526       49526      3                  本次交易會計師出具非合理性意見 否\n",
       "49527       49527      3                         其他敘明事項 \\n無\n",
       "\n",
       "[49528 rows x 3 columns]"
      ]
     },
     "execution_count": 3,
     "metadata": {},
     "output_type": "execute_result"
    }
   ],
   "source": [
    "import pandas as pd \n",
    "df=pd.read_csv('predictlabelData.csv')\n",
    "df\n"
   ]
  },
  {
   "cell_type": "code",
   "execution_count": null,
   "id": "ad0f1c83",
   "metadata": {},
   "outputs": [],
   "source": []
  }
 ],
 "metadata": {
  "kernelspec": {
   "display_name": "Python 3",
   "language": "python",
   "name": "python3"
  },
  "language_info": {
   "codemirror_mode": {
    "name": "ipython",
    "version": 3
   },
   "file_extension": ".py",
   "mimetype": "text/x-python",
   "name": "python",
   "nbconvert_exporter": "python",
   "pygments_lexer": "ipython3",
   "version": "3.8.8"
  }
 },
 "nbformat": 4,
 "nbformat_minor": 5
}
