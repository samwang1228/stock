{
 "cells": [
  {
   "cell_type": "code",
   "execution_count": 1,
   "id": "1d7694dc",
   "metadata": {},
   "outputs": [],
   "source": [
    "import csv"
   ]
  },
  {
   "cell_type": "code",
   "execution_count": 7,
   "id": "e00a486f",
   "metadata": {},
   "outputs": [],
   "source": [
    "def flatten_list(_2d_list):\n",
    "    flat_list = []\n",
    "    # Iterate through the outer list\n",
    "    for element in _2d_list:\n",
    "        if type(element) is list:\n",
    "            # If the element is of type list, iterate through the sublist\n",
    "            for item in element:\n",
    "                flat_list.append(item)\n",
    "        else:\n",
    "            flat_list.append(element)\n",
    "    return flat_list"
   ]
  },
  {
   "cell_type": "code",
   "execution_count": 7,
   "id": "8aab79ba",
   "metadata": {},
   "outputs": [],
   "source": [
    "# 分行 以篇為單位時用不到\n",
    "def split_line(data_list):\n",
    "    sentences = []\n",
    "    for info in data_list[1:]:\n",
    "        sentences.append(info[3].split('\\n'))\n",
    "        sentences.append(info[4].split('\\n'))\n",
    "    sentences = flatten_list(sentences)\n",
    "    return sentences"
   ]
  },
  {
   "cell_type": "code",
   "execution_count": 24,
   "id": "708ade89",
   "metadata": {},
   "outputs": [],
   "source": [
    "def get_articles_list(data_list):\n",
    "    articles = []\n",
    "    for info in data_list[1:]:  # csv 第一行是欄位名稱的資料，不需要留下\n",
    "        articles.append(info[3]+info[4])\n",
    "    return articles"
   ]
  },
  {
   "cell_type": "code",
   "execution_count": 29,
   "id": "68c57d17",
   "metadata": {},
   "outputs": [],
   "source": [
    "def extract_ckip_word(ws_list, pos_list):\n",
    "    pos_remove_list = ['WHITESPACE', 'Ca', 'DE', 'P', 'T', 'I']  # 要過濾掉的詞性\n",
    "    result = []\n",
    "    for i in range(len(ws_list)):\n",
    "        temp_sentence = []\n",
    "        for j in range(len(ws_list[i])):\n",
    "            for remove_pos in pos_remove_list:\n",
    "                if remove_pos in pos_list[i][j]:\n",
    "                    # print(remove_pos)\n",
    "                    is_remove_pos = True\n",
    "                    break\n",
    "                else:\n",
    "                    is_remove_pos = False\n",
    "            if is_remove_pos == False:\n",
    "                temp_sentence.append(ws_list[i][j])\n",
    "        if temp_sentence != []:\n",
    "            result.append(temp_sentence)\n",
    "    extract_result = []\n",
    "    for sentence in result:\n",
    "        temp_sentence = []\n",
    "        for word in sentence:\n",
    "            temp_sentence.append(word.replace(' ', ''))\n",
    "        extract_result.append(temp_sentence)\n",
    "    return extract_result\n",
    "\n",
    "\n",
    "def save_data(data, name):\n",
    "    data_dict = {'text': data}\n",
    "    data_df = pd.DataFrame(data_dict)\n",
    "    data_df.to_pickle(name+'.pkl')"
   ]
  },
  {
   "cell_type": "code",
   "execution_count": 21,
   "id": "90bce68f",
   "metadata": {},
   "outputs": [],
   "source": [
    "import csv\n",
    "import pandas as pd\n",
    "file = open('info_data/material_information_2021.csv',\n",
    "            encoding=\"utf-8\")  # 2021所有重訊\n",
    "reader = csv.reader(file)\n",
    "data_list = list(reader)\n",
    "file.close()"
   ]
  },
  {
   "cell_type": "code",
   "execution_count": 4,
   "id": "e2791489",
   "metadata": {},
   "outputs": [],
   "source": [
    "# 去標點符號、數字\n",
    "from zhon.hanzi import punctuation\n",
    "import string\n",
    "punctuation_str = punctuation+string.punctuation\n",
    "number = '0123456789'\n",
    "for info in data_list:\n",
    "    # 去標點符號\n",
    "    for i in punctuation_str:\n",
    "        info[3] = info[3].replace(i, ' ')  # 3標題\n",
    "        info[4] = info[4].replace(i, ' ')  # 4內文\n",
    "    # 去數字\n",
    "    for i in number:\n",
    "        info[3] = info[3].replace(i, '')\n",
    "        info[4] = info[4].replace(i, '')\n",
    "    info[3] = info[3].replace('\\t', '')\n",
    "    info[3] = info[3].replace(' ', '')\n",
    "    info[3] = info[3].replace('\\n', ' ')\n",
    "    info[4] = info[4].replace('\\t', '')\n",
    "    info[4] = info[4].replace(' ', '')\n",
    "    info[4] = info[4].replace('\\n', ' ')\n",
    "# print(data_list[1][4])"
   ]
  },
  {
   "cell_type": "code",
   "execution_count": 28,
   "id": "6258fab1",
   "metadata": {},
   "outputs": [],
   "source": [
    "articles = get_articles_list(data_list)\n",
    "# print(articles[:2])"
   ]
  },
  {
   "cell_type": "code",
   "execution_count": 30,
   "id": "34a042dd",
   "metadata": {},
   "outputs": [],
   "source": [
    "from ckiptagger import WS, POS, NER\n",
    "ws_list = []\n",
    "pos_list = []\n",
    "ws = WS(\"./data\")\n",
    "pos = POS(\"./data\")\n",
    "count = 0\n",
    "length = len(articles)\n",
    "for text in articles:\n",
    "    ws_results = ws([text])\n",
    "    pos_results = pos(ws_results)\n",
    "    ws_list = ws_list+ws_results\n",
    "    pos_list = pos_list+pos_results\n",
    "    count += 1\n",
    "    if count % 300 == 0:  # 用來查看進度\n",
    "        print(count, '/', length)\n",
    "    if count % 5000 == 1000:  # 每5000篇會自動儲存\n",
    "        temp_result = extract_ckip_word(ws_list, pos_list)  # 過濾詞性\n",
    "        save_data(temp_result, 'FPM_input'+str(count))  # 儲存結果"
   ]
  },
  {
   "cell_type": "code",
   "execution_count": 31,
   "id": "e5e2d2ed",
   "metadata": {},
   "outputs": [],
   "source": [
    "# 全部完成後儲存\n",
    "result = extract_ckip_word(ws_list, pos_list)\n",
    "save_data(result, 'FPM_full_input')\n",
    "# w2v_full_input的資料原本是有經過分行的(程式碼需加入分行split_line(data_list)，清除符號時不會去除\\n)，這裡直接使用沒有分行的也可以\n",
    "save_data(result, 'w2v_full_input')"
   ]
  },
  {
   "cell_type": "code",
   "execution_count": null,
   "id": "5cca95e8",
   "metadata": {},
   "outputs": [],
   "source": []
  }
 ],
 "metadata": {
  "kernelspec": {
   "display_name": "Python 3 (ipykernel)",
   "language": "python",
   "name": "python3"
  },
  "language_info": {
   "codemirror_mode": {
    "name": "ipython",
    "version": 3
   },
   "file_extension": ".py",
   "mimetype": "text/x-python",
   "name": "python",
   "nbconvert_exporter": "python",
   "pygments_lexer": "ipython3",
   "version": "3.9.5"
  }
 },
 "nbformat": 4,
 "nbformat_minor": 5
}
