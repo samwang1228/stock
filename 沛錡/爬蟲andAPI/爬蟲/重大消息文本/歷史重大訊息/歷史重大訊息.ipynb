{
 "cells": [
  {
   "cell_type": "code",
   "execution_count": 1,
   "id": "f6fdc779",
   "metadata": {},
   "outputs": [],
   "source": [
    "from selenium import webdriver\n",
    "driver = webdriver.Firefox()"
   ]
  },
  {
   "cell_type": "code",
   "execution_count": 2,
   "id": "1c29d7a8",
   "metadata": {},
   "outputs": [],
   "source": [
    "co_id='2498'\n",
    "year='111'"
   ]
  },
  {
   "cell_type": "code",
   "execution_count": 3,
   "id": "c726f22c",
   "metadata": {},
   "outputs": [],
   "source": [
    "url=\"https://mops.twse.com.tw/mops/web/ajax_t05st01?co_id=\"+co_id+\"&year=\"+year+\"&TYPEK=all&encodeURIComponent=1&step=1&firstin=1&off=1\""
   ]
  },
  {
   "cell_type": "code",
   "execution_count": 4,
   "id": "7ea8e93b",
   "metadata": {},
   "outputs": [
    {
     "name": "stdout",
     "output_type": "stream",
     "text": [
      "<html><head>\n",
      "\t<title>公開資訊觀測站</title>\n",
      "\t\n",
      "\t\n",
      "\t<link href=\"css/css2.css\" rel=\"stylesheet\" type=\"text/css\" media=\"Screen\"> \n",
      "\t\n",
      "\t<script async=\"\" src=\"//www.google-analytics.com/analytics.js\"></script><script type=\"text/javascript\" src=\"js/mops2.js\"></script>\n",
      "</head>\n",
      "\n",
      "<body>\n",
      "<table class=\"noBorder\"><tbody><tr><td class=\"compName\" align=\"center\">\n",
      "<b>\n",
      "本資料由　(上市公司) 2498 \n",
      "宏達電　公司提供</b>\n",
      "</td></tr>\n",
      "<tr><td class=\"reportCont\"></td></tr></tbody></table>\n",
      "<form action=\"/mops/web/ajax_t05st01\" name=\"t05st01_fm\" id=\"t05st01_fm\" method=\"post\" onsubmit=\"return false;\">\n",
      "<input type=\"hidden\" name=\"firstin\" value=\"true\">\n",
      "<input type=\"hidden\" name=\"b_date\" value=\"\">\n",
      "<input type=\"hidden\" name=\"e_date\" value=\"\">\n",
      "<input type=\"hidden\" name=\"TYPEK\">\n",
      "<input type=\"hidden\" name=\"year\" value=\"111\">\n",
      "<input type=\"hidden\" name=\"month\" value=\"all\">\n",
      "<input type=\"hidden\" name=\"type\" value=\"\">\n",
      "<input type=\"hidden\" name=\"co_id\">\n",
      "<input type=\"hidden\" name=\"spoke_date\">\n",
      "<input type=\"hidden\" name=\"spoke_time\">\n",
      "<input type=\"hidden\" name=\"seq_no\">\n",
      "<input type=\"hidden\" name=\"MEETING_STEP\">\n",
      "<input type=\"hidden\" name=\"e_month\" value=\"all\">\n",
      "<input type=\"hidden\" name=\"step\" value=\"2\"><input type=\"hidden\" name=\"off\" value=\"1\"><center><b>請至<button class=\"reportCont\" style=\"text-align:left;background-color:transparent;border:0;cursor:pointer;\" onmousemove=\"window.status=&quot;t211sb01&quot;;\" onclick=\"document.t05st01_fm.TYPEK.value=&quot;sii&quot;;document.t05st01_fm.co_id.value=&quot;2498&quot;;document.t05st01_fm.step.value=&quot;1&quot;;document.t05st01_fm.MEETING_STEP.value=&quot;0&quot;; action=&quot;/mops/web/ajax_t211sb01&quot;;openWindow(this.form,&quot;&quot;);\"><font color=\"blue\"><u>財務及交易資訊重點專區</u></font></button>參考公司相關財務資訊</b></center>\n",
      "<br>\n",
      "<table class=\"hasBorder\">\n",
      "<tbody><tr class=\"tblHead\"><th>公司代號</th><th>公司名稱</th><th>發言日期</th><th>發言時間</th><th>主旨</th><th>&nbsp;</th></tr>\n",
      "<tr class=\"even\">\n",
      "<td style=\"text-align:left !important;\">&nbsp;2498</td><td style=\"text-align:left !important;\">&nbsp;宏達電</td><td style=\"text-align:left !important;\">&nbsp;111/01/07</td><td style=\"text-align:left !important;\">&nbsp;15:00:21</td><td style=\"text-align:left !important;\"><pre style=\"font-family:0\u000e�;\"><font size=\"3\">&nbsp;代子公司威宏電子(上海)有限公司公告參與投資基金</font></pre></td><td align=\"center\"><input type=\"button\" value=\"詳細資料\" onclick=\"document.t05st01_fm.action='ajax_t05st01';document.t05st01_fm.seq_no.value='1';document.t05st01_fm.spoke_time.value='150021';document.t05st01_fm.spoke_date.value='20220107';document.t05st01_fm.co_id.value='2498';document.t05st01_fm.TYPEK.value='sii';openWindow(this.form ,'');\">\n",
      "</td>\n",
      "</tr>\n",
      "<tr class=\"odd\">\n",
      "<td style=\"text-align:left !important;\">&nbsp;2498</td><td style=\"text-align:left !important;\">&nbsp;宏達電</td><td style=\"text-align:left !important;\">&nbsp;111/03/01</td><td style=\"text-align:left !important;\">&nbsp;15:00:02</td><td style=\"text-align:left !important;\"><pre style=\"font-family:0\u000e�;\"><font size=\"3\">&nbsp;本公司受邀參加瑞銀證券與台灣證交所舉辦之UBS x TWSE Taiwan Corporate Day 2022</font></pre></td><td align=\"center\"><input type=\"button\" value=\"詳細資料\" onclick=\"document.t05st01_fm.action='ajax_t05st01';document.t05st01_fm.seq_no.value='1';document.t05st01_fm.spoke_time.value='150002';document.t05st01_fm.spoke_date.value='20220301';document.t05st01_fm.co_id.value='2498';document.t05st01_fm.TYPEK.value='sii';openWindow(this.form ,'');\">\n",
      "</td>\n",
      "</tr>\n",
      "<tr class=\"even\">\n",
      "<td style=\"text-align:left !important;\">&nbsp;2498</td><td style=\"text-align:left !important;\">&nbsp;宏達電</td><td style=\"text-align:left !important;\">&nbsp;111/03/08</td><td style=\"text-align:left !important;\">&nbsp;06:50:10</td><td style=\"text-align:left !important;\"><pre style=\"font-family:0\u000e�;\"><font size=\"3\">&nbsp;公告本公司董事會通過110年度合併財務報告</font></pre></td><td align=\"center\"><input type=\"button\" value=\"詳細資料\" onclick=\"document.t05st01_fm.action='ajax_t05st01';document.t05st01_fm.seq_no.value='1';document.t05st01_fm.spoke_time.value='65010';document.t05st01_fm.spoke_date.value='20220308';document.t05st01_fm.co_id.value='2498';document.t05st01_fm.TYPEK.value='sii';openWindow(this.form ,'');\">\n",
      "</td>\n",
      "</tr>\n",
      "<tr class=\"odd\">\n",
      "<td style=\"text-align:left !important;\">&nbsp;2498</td><td style=\"text-align:left !important;\">&nbsp;宏達電</td><td style=\"text-align:left !important;\">&nbsp;111/03/08</td><td style=\"text-align:left !important;\">&nbsp;06:50:26</td><td style=\"text-align:left !important;\"><pre style=\"font-family:0\u000e�;\"><font size=\"3\">&nbsp;公告本公司董事會決議110年度虧損撥補案</font></pre></td><td align=\"center\"><input type=\"button\" value=\"詳細資料\" onclick=\"document.t05st01_fm.action='ajax_t05st01';document.t05st01_fm.seq_no.value='2';document.t05st01_fm.spoke_time.value='65026';document.t05st01_fm.spoke_date.value='20220308';document.t05st01_fm.co_id.value='2498';document.t05st01_fm.TYPEK.value='sii';openWindow(this.form ,'');\">\n",
      "</td>\n",
      "</tr>\n",
      "<tr class=\"even\">\n",
      "<td style=\"text-align:left !important;\">&nbsp;2498</td><td style=\"text-align:left !important;\">&nbsp;宏達電</td><td style=\"text-align:left !important;\">&nbsp;111/03/08</td><td style=\"text-align:left !important;\">&nbsp;06:50:41</td><td style=\"text-align:left !important;\"><pre style=\"font-family:0\u000e�;\"><font size=\"3\">&nbsp;本公司董事會決議召開民國111年股東常會</font></pre></td><td align=\"center\"><input type=\"button\" value=\"詳細資料\" onclick=\"document.t05st01_fm.action='ajax_t05st01';document.t05st01_fm.seq_no.value='3';document.t05st01_fm.spoke_time.value='65041';document.t05st01_fm.spoke_date.value='20220308';document.t05st01_fm.co_id.value='2498';document.t05st01_fm.TYPEK.value='sii';openWindow(this.form ,'');\">\n",
      "</td>\n",
      "</tr>\n",
      "<tr class=\"odd\">\n",
      "<td style=\"text-align:left !important;\">&nbsp;2498</td><td style=\"text-align:left !important;\">&nbsp;宏達電</td><td style=\"text-align:left !important;\">&nbsp;111/03/08</td><td style=\"text-align:left !important;\">&nbsp;06:50:54</td><td style=\"text-align:left !important;\"><pre style=\"font-family:0\u000e�;\"><font size=\"3\">&nbsp;公告本公司董事會通過海外子公司架構重組計劃案</font></pre></td><td align=\"center\"><input type=\"button\" value=\"詳細資料\" onclick=\"document.t05st01_fm.action='ajax_t05st01';document.t05st01_fm.seq_no.value='4';document.t05st01_fm.spoke_time.value='65054';document.t05st01_fm.spoke_date.value='20220308';document.t05st01_fm.co_id.value='2498';document.t05st01_fm.TYPEK.value='sii';openWindow(this.form ,'');\">\n",
      "</td>\n",
      "</tr>\n",
      "<tr class=\"even\">\n",
      "<td style=\"text-align:left !important;\">&nbsp;2498</td><td style=\"text-align:left !important;\">&nbsp;宏達電</td><td style=\"text-align:left !important;\">&nbsp;111/03/08</td><td style=\"text-align:left !important;\">&nbsp;06:51:08</td><td style=\"text-align:left !important;\"><pre style=\"font-family:0\u000e�;\"><font size=\"3\">&nbsp;公告本公司董事會通過員工認股權憑證轉換普通股之\n",
      "增資基準日</font></pre></td><td align=\"center\"><input type=\"button\" value=\"詳細資料\" onclick=\"document.t05st01_fm.action='ajax_t05st01';document.t05st01_fm.seq_no.value='5';document.t05st01_fm.spoke_time.value='65108';document.t05st01_fm.spoke_date.value='20220308';document.t05st01_fm.co_id.value='2498';document.t05st01_fm.TYPEK.value='sii';openWindow(this.form ,'');\">\n",
      "</td>\n",
      "</tr>\n",
      "<tr class=\"odd\">\n",
      "<td style=\"text-align:left !important;\">&nbsp;2498</td><td style=\"text-align:left !important;\">&nbsp;宏達電</td><td style=\"text-align:left !important;\">&nbsp;111/03/16</td><td style=\"text-align:left !important;\">&nbsp;15:00:09</td><td style=\"text-align:left !important;\"><pre style=\"font-family:0\u000e�;\"><font size=\"3\">&nbsp;本公司受邀參加美銀證券舉辦之BofA 2022 APAC TMT Conference</font></pre></td><td align=\"center\"><input type=\"button\" value=\"詳細資料\" onclick=\"document.t05st01_fm.action='ajax_t05st01';document.t05st01_fm.seq_no.value='1';document.t05st01_fm.spoke_time.value='150009';document.t05st01_fm.spoke_date.value='20220316';document.t05st01_fm.co_id.value='2498';document.t05st01_fm.TYPEK.value='sii';openWindow(this.form ,'');\">\n",
      "</td>\n",
      "</tr>\n",
      "<tr class=\"even\">\n",
      "<td style=\"text-align:left !important;\">&nbsp;2498</td><td style=\"text-align:left !important;\">&nbsp;宏達電</td><td style=\"text-align:left !important;\">&nbsp;111/03/22</td><td style=\"text-align:left !important;\">&nbsp;15:00:05</td><td style=\"text-align:left !important;\"><pre style=\"font-family:0\u000e�;\"><font size=\"3\">&nbsp;本公司受邀參加瑞士信貸舉辦之25th Credit Suisse Asian Investment Conference</font></pre></td><td align=\"center\"><input type=\"button\" value=\"詳細資料\" onclick=\"document.t05st01_fm.action='ajax_t05st01';document.t05st01_fm.seq_no.value='1';document.t05st01_fm.spoke_time.value='150005';document.t05st01_fm.spoke_date.value='20220322';document.t05st01_fm.co_id.value='2498';document.t05st01_fm.TYPEK.value='sii';openWindow(this.form ,'');\">\n",
      "</td>\n",
      "</tr>\n",
      "<tr class=\"odd\">\n",
      "<td style=\"text-align:left !important;\">&nbsp;2498</td><td style=\"text-align:left !important;\">&nbsp;宏達電</td><td style=\"text-align:left !important;\">&nbsp;111/05/03</td><td style=\"text-align:left !important;\">&nbsp;06:50:49</td><td style=\"text-align:left !important;\"><pre style=\"font-family:0\u000e�;\"><font size=\"3\">&nbsp;公告本公司董事會通過111年第1季合併財務報告</font></pre></td><td align=\"center\"><input type=\"button\" value=\"詳細資料\" onclick=\"document.t05st01_fm.action='ajax_t05st01';document.t05st01_fm.seq_no.value='1';document.t05st01_fm.spoke_time.value='65049';document.t05st01_fm.spoke_date.value='20220503';document.t05st01_fm.co_id.value='2498';document.t05st01_fm.TYPEK.value='sii';openWindow(this.form ,'');\">\n",
      "</td>\n",
      "</tr>\n",
      "<tr class=\"even\">\n",
      "<td style=\"text-align:left !important;\">&nbsp;2498</td><td style=\"text-align:left !important;\">&nbsp;宏達電</td><td style=\"text-align:left !important;\">&nbsp;111/05/03</td><td style=\"text-align:left !important;\">&nbsp;06:51:14</td><td style=\"text-align:left !important;\"><pre style=\"font-family:0\u000e�;\"><font size=\"3\">&nbsp;為進行集團內部組織架構重組計劃，董事會通過擬向子公司\n",
      "HTC Netherlands B.V.購買子公司HTC Europe Co.Ltd.100%股權</font></pre></td><td align=\"center\"><input type=\"button\" value=\"詳細資料\" onclick=\"document.t05st01_fm.action='ajax_t05st01';document.t05st01_fm.seq_no.value='2';document.t05st01_fm.spoke_time.value='65114';document.t05st01_fm.spoke_date.value='20220503';document.t05st01_fm.co_id.value='2498';document.t05st01_fm.TYPEK.value='sii';openWindow(this.form ,'');\">\n",
      "</td>\n",
      "</tr>\n",
      "<tr class=\"odd\">\n",
      "<td style=\"text-align:left !important;\">&nbsp;2498</td><td style=\"text-align:left !important;\">&nbsp;宏達電</td><td style=\"text-align:left !important;\">&nbsp;111/05/03</td><td style=\"text-align:left !important;\">&nbsp;06:51:31</td><td style=\"text-align:left !important;\"><pre style=\"font-family:0\u000e�;\"><font size=\"3\">&nbsp;公告本公司董事會通過員工認股權憑證轉換普通股之\n",
      "增資基準日</font></pre></td><td align=\"center\"><input type=\"button\" value=\"詳細資料\" onclick=\"document.t05st01_fm.action='ajax_t05st01';document.t05st01_fm.seq_no.value='3';document.t05st01_fm.spoke_time.value='65131';document.t05st01_fm.spoke_date.value='20220503';document.t05st01_fm.co_id.value='2498';document.t05st01_fm.TYPEK.value='sii';openWindow(this.form ,'');\">\n",
      "</td>\n",
      "</tr>\n",
      "<tr class=\"even\">\n",
      "<td style=\"text-align:left !important;\">&nbsp;2498</td><td style=\"text-align:left !important;\">&nbsp;宏達電</td><td style=\"text-align:left !important;\">&nbsp;111/05/04</td><td style=\"text-align:left !important;\">&nbsp;15:00:04</td><td style=\"text-align:left !important;\"><pre style=\"font-family:0\u000e�;\"><font size=\"3\">&nbsp;本公司受邀參加大和國泰證券舉辦之Daiwa Taiwan Corporate Day 2022</font></pre></td><td align=\"center\"><input type=\"button\" value=\"詳細資料\" onclick=\"document.t05st01_fm.action='ajax_t05st01';document.t05st01_fm.seq_no.value='1';document.t05st01_fm.spoke_time.value='150004';document.t05st01_fm.spoke_date.value='20220504';document.t05st01_fm.co_id.value='2498';document.t05st01_fm.TYPEK.value='sii';openWindow(this.form ,'');\">\n",
      "</td>\n",
      "</tr>\n",
      "<tr class=\"odd\">\n",
      "<td style=\"text-align:left !important;\">&nbsp;2498</td><td style=\"text-align:left !important;\">&nbsp;宏達電</td><td style=\"text-align:left !important;\">&nbsp;111/06/17</td><td style=\"text-align:left !important;\">&nbsp;17:10:57</td><td style=\"text-align:left !important;\"><pre style=\"font-family:0\u000e�;\"><font size=\"3\">&nbsp;公告本公司111年股東常會重要決議事項</font></pre></td><td align=\"center\"><input type=\"button\" value=\"詳細資料\" onclick=\"document.t05st01_fm.action='ajax_t05st01';document.t05st01_fm.seq_no.value='1';document.t05st01_fm.spoke_time.value='171057';document.t05st01_fm.spoke_date.value='20220617';document.t05st01_fm.co_id.value='2498';document.t05st01_fm.TYPEK.value='sii';openWindow(this.form ,'');\">\n",
      "</td>\n",
      "</tr>\n",
      "<tr class=\"even\">\n",
      "<td style=\"text-align:left !important;\">&nbsp;2498</td><td style=\"text-align:left !important;\">&nbsp;宏達電</td><td style=\"text-align:left !important;\">&nbsp;111/06/17</td><td style=\"text-align:left !important;\">&nbsp;17:11:15</td><td style=\"text-align:left !important;\"><pre style=\"font-family:0\u000e�;\"><font size=\"3\">&nbsp;公告本公司111年股東常會改選董事(含獨立董事)當選名單</font></pre></td><td align=\"center\"><input type=\"button\" value=\"詳細資料\" onclick=\"document.t05st01_fm.action='ajax_t05st01';document.t05st01_fm.seq_no.value='2';document.t05st01_fm.spoke_time.value='171115';document.t05st01_fm.spoke_date.value='20220617';document.t05st01_fm.co_id.value='2498';document.t05st01_fm.TYPEK.value='sii';openWindow(this.form ,'');\">\n",
      "</td>\n",
      "</tr>\n",
      "<tr class=\"odd\">\n",
      "<td style=\"text-align:left !important;\">&nbsp;2498</td><td style=\"text-align:left !important;\">&nbsp;宏達電</td><td style=\"text-align:left !important;\">&nbsp;111/06/17</td><td style=\"text-align:left !important;\">&nbsp;17:11:29</td><td style=\"text-align:left !important;\"><pre style=\"font-family:0\u000e�;\"><font size=\"3\">&nbsp;公告本公司111年股東常會通過解除董事競業禁止之限制案</font></pre></td><td align=\"center\"><input type=\"button\" value=\"詳細資料\" onclick=\"document.t05st01_fm.action='ajax_t05st01';document.t05st01_fm.seq_no.value='3';document.t05st01_fm.spoke_time.value='171129';document.t05st01_fm.spoke_date.value='20220617';document.t05st01_fm.co_id.value='2498';document.t05st01_fm.TYPEK.value='sii';openWindow(this.form ,'');\">\n",
      "</td>\n",
      "</tr>\n",
      "<tr class=\"even\">\n",
      "<td style=\"text-align:left !important;\">&nbsp;2498</td><td style=\"text-align:left !important;\">&nbsp;宏達電</td><td style=\"text-align:left !important;\">&nbsp;111/06/17</td><td style=\"text-align:left !important;\">&nbsp;17:11:45</td><td style=\"text-align:left !important;\"><pre style=\"font-family:0\u000e�;\"><font size=\"3\">&nbsp;公告本公司董事會推選董事長</font></pre></td><td align=\"center\"><input type=\"button\" value=\"詳細資料\" onclick=\"document.t05st01_fm.action='ajax_t05st01';document.t05st01_fm.seq_no.value='4';document.t05st01_fm.spoke_time.value='171145';document.t05st01_fm.spoke_date.value='20220617';document.t05st01_fm.co_id.value='2498';document.t05st01_fm.TYPEK.value='sii';openWindow(this.form ,'');\">\n",
      "</td>\n",
      "</tr>\n",
      "<tr class=\"odd\">\n",
      "<td style=\"text-align:left !important;\">&nbsp;2498</td><td style=\"text-align:left !important;\">&nbsp;宏達電</td><td style=\"text-align:left !important;\">&nbsp;111/06/17</td><td style=\"text-align:left !important;\">&nbsp;17:11:57</td><td style=\"text-align:left !important;\"><pre style=\"font-family:0\u000e�;\"><font size=\"3\">&nbsp;公告本公司董事會委任第五屆薪資報酬委員會委員</font></pre></td><td align=\"center\"><input type=\"button\" value=\"詳細資料\" onclick=\"document.t05st01_fm.action='ajax_t05st01';document.t05st01_fm.seq_no.value='5';document.t05st01_fm.spoke_time.value='171157';document.t05st01_fm.spoke_date.value='20220617';document.t05st01_fm.co_id.value='2498';document.t05st01_fm.TYPEK.value='sii';openWindow(this.form ,'');\">\n",
      "</td>\n",
      "</tr>\n",
      "<tr class=\"even\">\n",
      "<td style=\"text-align:left !important;\">&nbsp;2498</td><td style=\"text-align:left !important;\">&nbsp;宏達電</td><td style=\"text-align:left !important;\">&nbsp;111/06/17</td><td style=\"text-align:left !important;\">&nbsp;17:12:12</td><td style=\"text-align:left !important;\"><pre style=\"font-family:0\u000e�;\"><font size=\"3\">&nbsp;公告本公司第二屆審計委員會委員</font></pre></td><td align=\"center\"><input type=\"button\" value=\"詳細資料\" onclick=\"document.t05st01_fm.action='ajax_t05st01';document.t05st01_fm.seq_no.value='6';document.t05st01_fm.spoke_time.value='171212';document.t05st01_fm.spoke_date.value='20220617';document.t05st01_fm.co_id.value='2498';document.t05st01_fm.TYPEK.value='sii';openWindow(this.form ,'');\">\n",
      "</td>\n",
      "</tr>\n",
      "<tr class=\"odd\">\n",
      "<td style=\"text-align:left !important;\">&nbsp;2498</td><td style=\"text-align:left !important;\">&nbsp;宏達電</td><td style=\"text-align:left !important;\">&nbsp;111/06/29</td><td style=\"text-align:left !important;\">&nbsp;16:00:07</td><td style=\"text-align:left !important;\"><pre style=\"font-family:0\u000e�;\"><font size=\"3\">&nbsp;係因本公司有價證券於集中交易市場達公布注意交易資訊\n",
      "標準，故公布相關財務業務等重大訊息，以利投資人區別瞭解</font></pre></td><td align=\"center\"><input type=\"button\" value=\"詳細資料\" onclick=\"document.t05st01_fm.action='ajax_t05st01';document.t05st01_fm.seq_no.value='1';document.t05st01_fm.spoke_time.value='160007';document.t05st01_fm.spoke_date.value='20220629';document.t05st01_fm.co_id.value='2498';document.t05st01_fm.TYPEK.value='sii';openWindow(this.form ,'');\">\n",
      "</td>\n",
      "</tr>\n",
      "</tbody></table></form>\n",
      "\n",
      "\n",
      "\n",
      "</body></html>\n"
     ]
    }
   ],
   "source": [
    "driver.get(url)\n",
    "print(driver.page_source)"
   ]
  },
  {
   "cell_type": "code",
   "execution_count": 5,
   "id": "05ce8741",
   "metadata": {},
   "outputs": [],
   "source": [
    "import time as t\n",
    "import bs4"
   ]
  },
  {
   "cell_type": "code",
   "execution_count": 6,
   "id": "b3518939",
   "metadata": {},
   "outputs": [],
   "source": [
    "t.sleep(1)\n",
    "original_window = driver.current_window_handle\n",
    "assert len(driver.window_handles) == 1"
   ]
  },
  {
   "cell_type": "code",
   "execution_count": 7,
   "id": "2c1c630e",
   "metadata": {},
   "outputs": [],
   "source": [
    "data = {'date': [], 'time': [], \"title\": [], 'content': [], 'co_id': [], 'date_of_event': []}\n",
    "for i in driver.find_elements(\"xpath\",\"//input[@value='詳細資料']\"):\n",
    "    i.click()\n",
    "    for window_handle in driver.window_handles:\n",
    "        t.sleep(3)\n",
    "        if window_handle != original_window:\n",
    "            driver.switch_to.window(window_handle)\n",
    "            break\n",
    "    soup = bs4.BeautifulSoup(driver.page_source, 'html.parser')\n",
    "    rowDatas=soup.find_all('td')\n",
    "    \n",
    "    #date\n",
    "    date=(rowDatas[6].text.replace(u'\\xa0', u''))\n",
    "    date=date.replace(u'/',u'')\n",
    "    y=str(int(date[:3])+1911)\n",
    "    m=date[3:5]\n",
    "    d=date[5:7]\n",
    "    date=y+m+d\n",
    "    data['date'].append(date)\n",
    "    \n",
    "    #time\n",
    "    data['time'].append(rowDatas[8].text.replace(u'\\xa0', u''))\n",
    "\n",
    "    #title\n",
    "    data['title'].append(rowDatas[16].text.replace(u'\\xa0', u''))\n",
    "\n",
    "    #date of event 實際發生日\n",
    "    date=(rowDatas[20].text.replace(u'\\xa0', u''))\n",
    "    date=date.replace(u'/',u'')\n",
    "    y=str(int(date[:3])+1911)\n",
    "    m=date[3:5]\n",
    "    d=date[5:7]\n",
    "    date=y+m+d\n",
    "    data['date_of_event'].append(date)\n",
    "    \n",
    "    #content\n",
    "    data['content'].append(rowDatas[22].text.replace(u'\\xa0', u''))\n",
    "    \n",
    "    #co_id\n",
    "    data['co_id'].append(co_id)\n",
    "    \n",
    "    driver.close()\n",
    "    driver.switch_to.window(original_window)"
   ]
  },
  {
   "cell_type": "code",
   "execution_count": 8,
   "id": "6226dbf3",
   "metadata": {},
   "outputs": [],
   "source": [
    "driver.quit()"
   ]
  },
  {
   "cell_type": "code",
   "execution_count": 9,
   "id": "993c2af7",
   "metadata": {},
   "outputs": [
    {
     "name": "stdout",
     "output_type": "stream",
     "text": [
      "{'date': ['20220107', '20220301', '20220308', '20220308', '20220308', '20220308', '20220308', '20220316', '20220322', '20220503', '20220503', '20220503', '20220504', '20220617', '20220617', '20220617', '20220617', '20220617', '20220617', '20220629'], 'time': ['15:00:21', '15:00:02', '06:50:10', '06:50:26', '06:50:41', '06:50:54', '06:51:08', '15:00:09', '15:00:05', '06:50:49', '06:51:14', '06:51:31', '15:00:04', '17:10:57', '17:11:15', '17:11:29', '17:11:45', '17:11:57', '17:12:12', '16:00:07'], 'title': ['代子公司威宏電子(上海)有限公司公告參與投資基金', '本公司受邀參加瑞銀證券與台灣證交所舉辦之UBS x TWSE Taiwan Corporate Day 2022', '公告本公司董事會通過110年度合併財務報告', '公告本公司董事會決議110年度虧損撥補案', '本公司董事會決議召開民國111年股東常會', '公告本公司董事會通過海外子公司架構重組計劃案', '公告本公司董事會通過員工認股權憑證轉換普通股之\\n增資基準日', '本公司受邀參加美銀證券舉辦之BofA 2022 APAC TMT Conference', '本公司受邀參加瑞士信貸舉辦之25th Credit Suisse Asian Investment Conference', '公告本公司董事會通過111年第1季合併財務報告', '為進行集團內部組織架構重組計劃，董事會通過擬向子公司\\nHTC Netherlands B.V.購買子公司HTC Europe Co.Ltd.100%股權', '公告本公司董事會通過員工認股權憑證轉換普通股之\\n增資基準日', '本公司受邀參加大和國泰證券舉辦之Daiwa Taiwan Corporate Day 2022', '公告本公司111年股東常會重要決議事項', '公告本公司111年股東常會改選董事(含獨立董事)當選名單', '公告本公司111年股東常會通過解除董事競業禁止之限制案', '公告本公司董事會推選董事長', '公告本公司董事會委任第五屆薪資報酬委員會委員', '公告本公司第二屆審計委員會委員', '係因本公司有價證券於集中交易市場達公布注意交易資訊\\n標準，故公布相關財務業務等重大訊息，以利投資人區別瞭解'], 'content': ['1.事實發生日:自民國111/1/7至民國111/1/7\\n2.本次新增（減少）投資方式:\\n子公司威宏電子(上海)有限公司將作為投資主體，投資於\\n昆橋二期（蘇州）新興產業創業投資合夥企業(有限合夥)\\n不超過人民幣5千萬元及\\n昆橋二期（厦門）半導體產業股權投資合夥企業(有限合夥) \\n不超過人民幣2億5千萬元，合計不超過人民幣3億元。\\n3.交易單位數量、每單位價格及交易總金額:\\n交易單位數量: 不適用\\n交易單位價格: 不適用\\n交易總金額:人民幣3億元\\n4.大陸被投資公司之公司名稱:\\n昆橋二期（蘇州）新興產業創業投資合夥企業(有限合夥)及\\n昆橋二期（厦門）半導體產業股權投資合夥企業(有限合夥)\\n5.前開大陸被投資公司之實收資本額:\\n不適用\\n6.前開大陸被投資公司本次擬新增資本額:\\n人民幣30億元\\n7.前開大陸被投資公司主要營業項目:\\n股權投資、投資管理\\n8.前開大陸被投資公司最近年度財務報表會計師意見型態:\\n不適用\\n9.前開大陸被投資公司最近年度財務報表權益總額:\\n不適用\\n10.前開大陸被投資公司最近年度財務報表損益金額:\\n不適用\\n11.迄目前為止，對前開大陸被投資公司之實際投資金額:\\n無\\n12.交易相對人及其與公司之關係:\\n非關係人\\n13.交易相對人為關係人者，並應公告選定關係人為交易對象之原因及前次移轉\\n之所有人、前次移轉之所有人與公司及交易相對人間相互之關係、前次移轉日期及移轉金額:\\n不適用\\n14.交易標的最近五年內所有權人曾為公司之關係人者，尚應公告關係人之取得\\n及處分日期、價格及交易當時與公司之關係:\\n不適用\\n15.處分利益（或損失）:\\n不適用\\n16.交付或付款條件（含付款期間及金額）、契約限制條款及其他重要約定事項:\\n依合約進行投資\\n17.本次交易之決定方式、價格決定之參考依據及決策單位:\\n威宏電子(上海)有限公司董事會及股東會決議\\n18.經紀人:\\n不適用\\n19.取得或處分之具體目的:\\n長期投資\\n20.本次交易表示異議董事之意見:\\n無\\n21.本次交易為關係人交易:否\\n22.董事會通過日期:\\n111年01月07日\\n23.監察人承認或審計委員會同意日期:\\n不適用\\n24.迄目前為止，投審會核准赴大陸地區投資總額（含本次投資）:\\n美金278,600,000元\\n25.迄目前為止，投審會核准赴大陸地區投資總額（含本次投資）占最近期財務報表\\n實收資本額之比率:\\n107.26%\\n26.迄目前為止，投審會核准赴大陸地區投資總額（含本次投資）占最近期財務報表\\n總資產之比率:\\n18.61%\\n27.迄目前為止，投審會核准赴大陸地區投資總額（含本次投資）占最近期財務報表\\n歸屬於母公司業主之權益之比率:\\n31.84%\\n28.迄目前為止，實際赴大陸地區投資總額:\\n美金277,900,000元\\n29.迄目前為止，實際赴大陸地區投資總額占最近期財務報表實收資本額之比率:\\n107.02%\\n30.迄目前為止，實際赴大陸地區投資總額占最近期財務報表總資產之比率:\\n18.56%\\n31.迄目前為止，實際赴大陸地區投資總額占最近期財務報表歸屬於母公司業主之權益之比率:\\n31.77%\\n32.最近三年度認列投資大陸損益金額:\\n107年度 台幣887,871,000元\\n108年度 台幣219,721,000元\\n109年度 台幣 -42,167,000元\\n33.最近三年度獲利匯回金額:\\n0 元\\n34.本次交易會計師出具非合理性意見:不適用\\n35.會計師事務所名稱:\\n不適用\\n36.會計師姓名:\\n不適用\\n37.會計師開業證書字號:\\n不適用\\n38.其他敘明事項:\\n無', '符合條款第四條第XX款：12\\n事實發生日：111/03/02\\n1.召開法人說明會之日期：111/03/02\\n2.召開法人說明會之時間：13 時 00 分 \\n3.召開法人說明會之地點：線上法說會\\n4.法人說明會擇要訊息：本公司受邀參加瑞銀證券與台灣證交所舉辦之線上法說會UBS x TWSE Taiwan Corporate Day 2022，會中就本公司已公開之資訊進行說明。\\n5.其他應敘明事項：無。\\n完整財務業務資訊請至公開資訊觀測站之法人說明會一覽表或法說會項目下查閱。', '1.提報董事會或經董事會決議日期:111/03/07\\n2.審計委員會通過日期:111/03/04\\n3.財務報告或年度自結財務資訊報導期間\\n起訖日期(XXX/XX/XX~XXX/XX/XX):110/01/01~110/12/31\\n4.1月1日累計至本期止營業收入(仟元):5,253,279\\n5.1月1日累計至本期止營業毛利(毛損) (仟元):1,636,057\\n6.1月1日累計至本期止營業利益(損失) (仟元):-4,116,434\\n7.1月1日累計至本期止稅前淨利(淨損) (仟元):-3,104,565\\n8.1月1日累計至本期止本期淨利(淨損) (仟元):-3,101,817\\n9.1月1日累計至本期止歸屬於母公司業主淨利(損) (仟元):-3,073,132\\n10.1月1日累計至本期止基本每股盈餘(損失) (元):-3.75\\n11.期末總資產(仟元):44,184,957\\n12.期末總負債(仟元):16,962,055\\n13.期末歸屬於母公司業主之權益(仟元):27,222,902\\n14.其他應敘明事項:無', '1. 董事會擬議日期：111/03/07\\n2. 股利所屬年(季)度：110年 年度\\n3. 股利所屬期間：110/01/01 至 110/12/31\\n4. 股東配發內容：\\n\\u3000(1)盈餘分配之現金股利(元/股)：0\\n\\u3000(2)法定盈餘公積發放之現金(元/股)：0\\n\\u3000(3)資本公積發放之現金(元/股)：0\\n\\u3000(4)股東配發之現金(股利)總金額(元)：0\\n\\u3000(5)盈餘轉增資配股(元/股)：0\\n\\u3000(6)法定盈餘公積轉增資配股(元/股)：0\\n\\u3000(7)資本公積轉增資配股(元/股)：0\\n\\u3000(8)股東配股總股數(股)：0\\n5. 其他應敘明事項：\\n其他調整事項包含：\\n(1)確定福利計劃之再衡量數:NT$16,262,654\\n(2)處分透過其他綜合損益按公允價值衡量之\\n權益工具:NT$-169,622,740\\n(3)法定盈餘公積彌補虧損:NT$3,226,492,528\\n6. 普通股每股面額欄位：新台幣10.0000元', '1.董事會決議日期:111/03/07\\n2.股東會召開日期:111/06/17\\n3.股東會召開地點:新店彭園會館 (地址:新北市新店區北新路三段219號2樓)\\n4.召集事由一、報告事項:\\n(1) 民國110年度營業狀況報告\\n(2) 審計委員會查核報告\\n(3) 修正「108年度第二次員工認股權憑證發行及認股辦法」報告\\n5.召集事由二、承認事項:\\n(1) 民國110年度營業報告書及財務報表案\\n(2) 民國110年度虧損撥補案\\n6.召集事由三、討論事項:\\n(1) 修正「公司章程」案\\n(2) 修正「取得或處分資產處理程序」案\\n(3) 修正「股東會議事規則」案\\n7.召集事由四、選舉事項:全面改選本公司董事(含獨立董事)案\\n8.召集事由五、其他議案:解除本公司董事(含獨立董事)競業禁止之限制案\\n9.召集事由六、臨時動議:無\\n10.停止過戶起始日期:111/04/19\\n11.停止過戶截止日期:111/06/17\\n12.其他應敘明事項:依公司法規定，訂定自111年3月11日起至111年3月21日止\\n為書面受理股東提案及書面受理股東提名期間。受理處所為本公司新店辦公大樓\\n（地址：新北市231新店區中興路三段88號）。', '1.事實發生日:111/03/07\\n2.公司名稱:宏達國際電子股份有限公司\\n3.與公司關係(請輸入本公司或子公司):本公司\\n4.相互持股比例:不適用\\n5.發生緣由:\\n(一) 考量集團未來營運及稅務規劃，本公司擬調整現有海外子公司架構，將英國子公司\\n     HTC Europe Co. Ltd.建立為本公司之下第一層控股公司，並將業務相關的\\n     關係企業股權調整至HTC Europe Co. Ltd.之下，以優化集團架構。\\n(二) 本公司董事會已同意授權董事長或其指定之人就後續執行海外子公司架構調整\\n     計畫案核決相關細節，並進行本案相關文件擬具及簽署等必要事宜。\\n6.因應措施:無\\n7.其他應敘明事項:無', '1.董事會決議日期:111/03/07\\n2.增資資金來源:員工認股權憑證執行轉換普通股\\n3.是否採總括申報發行新股(是，請併敘明預定發行期間/否):否\\n4.全案發行總金額及股數(如屬盈餘或公積轉增資，發行股數則不含配發給員工部分):\\n不適用\\n5.採總括申報發行新股案件，本次發行金額及股數:不適用\\n6.採總括申報發行新股案件，本次發行後，剩餘之金額及股數餘額:不適用\\n7.每股面額:新台幣10元\\n8.發行價格:每股認購價格新台幣35.5元\\n9.員工認購股數或配發金額:5,046,800股\\n10.公開銷售股數:不適用\\n11.原股東認購或無償配發比例:不適用\\n12.畸零股及逾期未認購股份之處理方式:不適用\\n13.本次發行新股之權利義務:與原發行普通股相同\\n14.本次增資資金用途:吸引及留任公司所需人才\\n15.其他應敘明事項:增資發行新股之基準日為111年3月8日', '符合條款第四條第XX款：12\\n事實發生日：111/03/17\\n1.召開法人說明會之日期：111/03/17 ~ 111/03/18\\n2.召開法人說明會之時間：10 時 00 分 \\n3.召開法人說明會之地點：線上法說會\\n4.法人說明會擇要訊息：本公司受邀參加美銀證券舉辦之線上機構投資人說明會BofA 2022 APAC TMT Conference，會中就本公司已公開之資訊進行說明。\\n5.其他應敘明事項：無。\\n完整財務業務資訊請至公開資訊觀測站之法人說明會一覽表或法說會項目下查閱。', '符合條款第四條第XX款：12\\n事實發生日：111/03/23\\n1.召開法人說明會之日期：111/03/23\\n2.召開法人說明會之時間：15 時 00 分 \\n3.召開法人說明會之地點：線上法說會\\n4.法人說明會擇要訊息：本公司受邀參加111年3月23日15時00分及111年3月29日10時00分，瑞士信貸舉辦之25th Credit Suisse Asian Investment Conference，會中就本公司已公開之資訊進行說明。\\n5.其他應敘明事項：無。\\n完整財務業務資訊請至公開資訊觀測站之法人說明會一覽表或法說會項目下查閱。', '1.提報董事會或經董事會決議日期:111/04/29\\n2.審計委員會通過日期:111/04/28\\n3.財務報告或年度自結財務資訊報導期間\\n起訖日期(XXX/XX/XX~XXX/XX/XX):111/01/01~111/03/31\\n4.1月1日累計至本期止營業收入(仟元):1,104,152\\n5.1月1日累計至本期止營業毛利(毛損) (仟元):417,468\\n6.1月1日累計至本期止營業利益(損失) (仟元):-1,044,660\\n7.1月1日累計至本期止稅前淨利(淨損) (仟元):-756,478\\n8.1月1日累計至本期止本期淨利(淨損) (仟元):-755,664\\n9.1月1日累計至本期止歸屬於母公司業主淨利(損) (仟元):-755,664\\n10.1月1日累計至本期止基本每股盈餘(損失) (元):-0.92\\n11.期末總資產(仟元):45,311,868\\n12.期末總負債(仟元):18,026,634\\n13.期末歸屬於母公司業主之權益(仟元):27,285,234\\n14.其他應敘明事項:無', '1.標的物之名稱及性質（屬特別股者，並應標明特別股約定發行條件，如股息率等）:\\nHTC Europe Co. Ltd. 100%股權\\n2.事實發生日:111/4/29~111/4/29\\n3.交易數量、每單位價格及交易總金額:\\n104,061,442股；交易總金額為英鎊239,690,916元 (約合新台幣89.62億元)\\n4.交易相對人及其與公司之關係（交易相對人如屬自然人，且非公司之\\n關係人者，得免揭露其姓名）:\\n本公司及其100%持有之子公司\\n5.交易相對人為關係人者，並應公告選定關係人為交易對象之原因及前次移\\n轉之所有人、前次移轉之所有人與公司及交易相對人間相互之關係、前次\\n移轉日期及移轉金額:\\n選定關係人為交易對象之原因：為進行集團內部組織架構重組計劃\\n前次移轉之所有人、移轉價格及取得日期：不適用\\n6.交易標的最近五年內所有權人曾為公司之關係人者，尚應公告關係人之取\\n得及處分日期、價格及交易當時與公司之關係:\\n不適用\\n7.本次係處分債權之相關事項（含處分之債權附隨擔保品種類、處分債權\\n如有屬對關係人債權者尚需公告關係人名稱及本次處分該關係人之債權\\n帳面金額:\\n不適用\\n8.處分利益（或損失）（取得有價證券者不適用）（原遞延者應列表說明\\n認列情形）:\\n不適用\\n9.交付或付款條件（含付款期間及金額）、契約限制條款及其他重要約定\\n事項:\\n依合約辦理\\n10.本次交易之決定方式、價格決定之參考依據及決策單位:\\n依本公司董事會決議辦理，以2021年12月31日會計師查核簽證HTC Europe Co. Ltd.\\n財務報表所示之股權淨值作為轉讓價格。\\n11.取得或處分有價證券標的公司每股淨值:\\n不適用\\n12.迄目前為止，累積持有本交易證券（含本次交易）之數量、金額、持股\\n比例及權利受限情形（如質押情形）:\\n數量：104,061,442股\\n金額：英鎊239,690,916元\\n持股比例：100%\\n權利受限情形：無\\n13.迄目前為止，依「公開發行公司取得或處分資產處理準則」第三條所列\\n之有價證券投資（含本次交易）占公司最近期財務報表中總資產及歸屬\\n於母公司業主之權益之比例暨最近期財務報表中營運資金數額（註二）:\\n占公司最近期財務報表中總資產比例：64.19% \\n占公司最近期財務報表中歸屬於母公司業主之權益之比例：105.91%\\n最近期財務報表中營運資金數額：新台幣-10,442,230仟元\\n14.經紀人及經紀費用:\\n不適用\\n15.取得或處分之具體目的或用途:\\n為進行集團內部組織架構重組計劃\\n16.本次交易表示異議董事之意見:\\n無\\n17.本次交易為關係人交易:是\\n18.董事會通過日期:\\n民國111年4月29日\\n19.監察人承認或審計委員會同意日期:\\n民國111年4月28日\\n20.本次交易會計師出具非合理性意見:否\\n21.會計師事務所名稱:\\n安永會計師事務所\\n22.會計師姓名:\\n林宜賢會計師\\n23.會計師開業證書字號:\\n北市財二字第9020529100號\\n24.是否涉及營運模式變更:否\\n25.營運模式變更說明:\\n不適用\\n26.過去一年及預計未來一年內與交易相對人交易情形:\\n不適用\\n27.資金來源:\\n自有資金\\n28.其他敘明事項:\\n無', '1.董事會決議日期:111/04/29\\n2.增資資金來源:員工認股權憑證執行轉換普通股\\n3.是否採總括申報發行新股(是，請併敘明預定發行期間/否):否\\n4.全案發行總金額及股數(如屬盈餘或公積轉增資，發行股數則不含配發給員工部分):\\n不適用\\n5.採總括申報發行新股案件，本次發行金額及股數:不適用\\n6.採總括申報發行新股案件，本次發行後，剩餘之金額及股數餘額:不適用\\n7.每股面額:新台幣10元\\n8.發行價格:每股認購價格新台幣35.5元\\n9.員工認購股數或配發金額:422,400股\\n10.公開銷售股數:不適用\\n11.原股東認購或無償配發比例:不適用\\n12.畸零股及逾期未認購股份之處理方式:不適用\\n13.本次發行新股之權利義務:與原發行普通股相同\\n14.本次增資資金用途:吸引及留任公司所需人才\\n15.其他應敘明事項:增資發行新股之基準日為111年5月3日', '符合條款第四條第XX款：12\\n事實發生日：111/05/05\\n1.召開法人說明會之日期：111/05/05\\n2.召開法人說明會之時間：10 時 00 分 \\n3.召開法人說明會之地點：線上法說會\\n4.法人說明會擇要訊息：本公司受邀參加大和國泰證券舉辦之Daiwa Taiwan Corporate Day 2022，會中就本公司已公開之資訊進行說明。\\n5.其他應敘明事項：無。\\n完整財務業務資訊請至公開資訊觀測站之法人說明會一覽表或法說會項目下查閱。', '1.股東常會日期:111/06/17\\n2.重要決議事項一、盈餘分配或盈虧撥補:通過承認民國110年度虧損撥補案。\\n3.重要決議事項二、章程修訂:通過修正「公司章程」案。\\n4.重要決議事項三、營業報告書及財務報表:\\n 通過承認民國110年度營業報告書及財務報表案。\\n5.重要決議事項四、董監事選舉:\\n 全面改選本公司董事(含獨立董事)案。\\n6.重要決議事項五、其他事項:\\n  (1)通過修正「取得或處分資產處理程序」案。\\n  (2)通過修正「股東會議事規則」案。\\n  (3)通過解除本公司董事(含獨立董事)競業禁止之限制案。\\n7.其他應敘明事項:各項議案表決情形請參考公開資訊觀測站「股東會議案決議情形」。', '1.發生變動日期:111/06/17\\n2.選任或變動人員別（請輸入法人董事、法人監察人、獨立董事、自然人董事\\n  或自然人監察人）:自然人董事及獨立董事\\n3.舊任者職稱及姓名:\\n 董事:王雪紅、卓火土、陳文琦、David Bruce Yoffie\\n 獨立董事:林振國、Josef Felder、Vincent Thai (蔡純清)\\n4.舊任者簡歷:\\n 董事:\\n 王雪紅 / 宏達國際電子(股)公司董事長兼總經理\\n 卓火土 / 財團法人宏達文教基金會董事長\\n 陳文琦 / 威盛電子股份有限公司董事長兼總經理\\n David Bruce Yoffie / 哈佛商學院國際工商管理學教授\\n 獨立董事:\\n 林振國 / 前財政部部長\\n Josef Felder / 蘇黎世Flughafen Zurich AG獨立董事\\n Vincent Thai (蔡純清) / Playmind Ltd創辦人暨董事長\\n5.新任者職稱及姓名:\\n 董事:王雪紅、卓火土、陳文琦、David Bruce Yoffie\\n 獨立董事:林振國、Michael C. Lu (呂淳祺)、Vincent Thai (蔡純清)\\n6.新任者簡歷:\\n 董事:\\n 王雪紅 / 宏達國際電子(股)公司董事長兼總經理\\n 卓火土 / 財團法人宏達文教基金會董事長\\n 陳文琦 / 威盛電子股份有限公司董事長兼總經理\\n David Bruce Yoffie / 哈佛商學院國際工商管理學教授\\n 獨立董事:\\n 林振國 / 前財政部部長\\n Michael C. Lu (呂淳祺) / 加州大學柏克萊分校公衛學院院長\\n Vincent Thai (蔡純清) / Playmind Ltd創辦人暨董事長\\n7.異動情形（請輸入「辭職」、「解任」、「任期屆滿」、「逝世」或「新任」）:\\n 任期屆滿\\n8.異動原因:任期屆滿改選\\n9.新任者選任時持股數:\\n 王雪紅: 32,272,427 股\\n 卓火土: 96,530 股\\n 陳文琦: 22,391,389 股\\n David Bruce Yoffie: 0 股\\n 林振國: 0 股\\n Michael C. Lu (呂淳祺): 0 股\\n Vincent Thai (蔡純清): 0 股\\n10.原任期（例xx/xx/xx ~ xx/xx/xx）:108/06/21~111/06/20\\n11.新任生效日期:111/06/17\\n12.同任期董事變動比率:不適用。\\n13.同任期獨立董事變動比率:不適用。\\n14.同任期監察人變動比率:不適用。\\n15.屬三分之一以上董事發生變動（請輸入是或否）:否\\n16.其他應敘明事項:無', '1.股東會決議日:111/06/17\\n2.許可從事競業行為之董事姓名及職稱:\\n 董事:王雪紅\\n 董事:陳文琦\\n 董事:卓火土\\n 董事:David Bruce Yoffie\\n3.許可從事競業行為之項目:董事為自己或他人為屬於公司營業範圍內之行為\\n4.許可從事競業行為之期間:任職本公司董事職務之期間\\n5.決議情形（請依公司法第209條說明表決結果）:\\n 經票決結果，贊成權數502,198,472權，佔出席總權數93.29%；\\n 反對權數10,565,885權，佔出席總權數1.96%；\\n 無效權數0權；棄權/未投票權數25,505,692權，佔出席總權數 4.73%，\\n 贊成權數超過法定權數數額，照案通過。\\n6.所許可之競業行為如屬大陸地區事業之營業者，董事姓名及職稱\\n（非屬大陸地區事業之營業者，以下請輸〝不適用〞）:不適用\\n7.所擔任該大陸地區事業之公司名稱及職務:不適用\\n8.所擔任該大陸地區事業地址:不適用\\n9.所擔任該大陸地區事業營業項目:不適用\\n10.對本公司財務業務之影響程度:無\\n11.董事如有對該大陸地區事業從事投資者，其投資金額及持股比例:不適用\\n12.其他應敘明事項:無', '1.董事會決議日期或發生變動日期:111/06/17\\n2.人員別（請輸入董事長或總經理）:董事長\\n3.舊任者姓名:王雪紅\\n4.舊任者簡歷:本公司董事長暨總經理\\n5.新任者姓名:王雪紅\\n6.新任者簡歷:本公司董事長暨總經理\\n7.異動情形（請輸入「辭職」、「解任」、「任期屆滿」、「職務調整」、「資遣」、\\n「退休」、「逝世」或「新任」）:任期屆滿\\n8.異動原因:任期屆滿改選\\n9.新任生效日期:111/06/17\\n10.其他應敘明事項:無', '1.發生變動日期:111/06/17\\n2.功能性委員會名稱:薪資報酬委員會\\n3.舊任者姓名:林振國、Vincent Thai(蔡純清)、吳永成\\n4.舊任者簡歷:\\n 林振國 / 前財政部部長\\n Vincent Thai (蔡純清) / Playmind Ltd創辦人暨董事長\\n 吳永成 / 本公司薪酬委員會委員\\n5.新任者姓名:林振國、Vincent Thai(蔡純清)、吳永成\\n6.新任者簡歷:\\n 林振國 / 前財政部部長\\n Vincent Thai (蔡純清) / Playmind Ltd創辦人暨董事長\\n 吳永成 / 本公司薪酬委員會委員\\n7.異動情形（請輸入「辭職」、「解任」、「任期屆滿」、「逝世」或「新任」）:\\n 任期屆滿\\n8.異動原因:任期屆滿改選。\\n9.原任期（例xx/xx/xx ~ xx/xx/xx）:108/06/21~111/06/20\\n10.新任生效日期:111/06/17\\n11.其他應敘明事項:無', '1.發生變動日期:111/06/17\\n2.功能性委員會名稱:審計委員會\\n3.舊任者姓名:林振國、Josef Felder、Vincent Thai(蔡純清)\\n4.舊任者簡歷:\\n 林振國 / 前財政部部長\\n Josef Felder / 蘇黎世Flughafen Zurich AG獨立董事\\n Vincent Thai (蔡純清) / Playmind Ltd創辦人暨董事長\\n5.新任者姓名:林振國、Michael C. Lu(呂淳祺)、Vincent Thai(蔡純清)\\n6.新任者簡歷:\\n 林振國 / 前財政部部長\\n Michael C. Lu (呂淳祺) / 加州大學柏克萊分校公衛學院院長\\n Vincent Thai (蔡純清) / Playmind Ltd創辦人暨董事長\\n7.異動情形（請輸入「辭職」、「解任」、「任期屆滿」、「逝世」或「新任」）:\\n 任期屆滿\\n8.異動原因:任期屆滿改選。\\n9.原任期（例xx/xx/xx ~ xx/xx/xx）:108/06/21~111/06/20\\n10.新任生效日期:111/06/17\\n11.其他應敘明事項:無', '1.事實發生日:111/06/29\\n2.發生緣由:依據臺灣證券交易所股份有限公司通知辦理。\\n3.財務業務資訊:\\n期間                      (月)                 (季)          (最近四季累計)\\n                   最近一月   與去年   最近一季    與去年    (110年第2季\\n                   (111年5月) 同期     (111年第1季)同期       至111年第1季)\\n                              增減%                增減%\\n                   ================   ==================  ===================\\n科目               (IFRS合併自結數)    (IFRS合併核閱數)    (IFRS合併核閱數)\\n                   ================   ==================  ===================\\n\\n營業收入              304       0%       1,104      -6%              5,182\\n(百萬)\\t\\u3000\\n稅前淨利             -281      39%        -756      27%             -2,822\\n(百萬)\\n歸屬母公司業主淨利   -285      38%        -756      26%             -2,810\\n(百萬)\\t\\u3000\\t\\u3000\\t\\u3000\\t\\u3000\\n每股盈餘            -0.35      38%       -0.92      26%              -3.43\\n(元)\\n4.有無「臺灣證券交易所股份有限公司對有價證券上市公司重大訊息之查證暨公開處理\\n  程序」第4條所列重大訊息之情事（如「有」，請說明）:無\\n5.有無「臺灣證券交易所股份有限公司對有價證券上市公司重大訊息之查證暨公開處理\\n  程序」第11條所列重大訊息說明記者會之情事:無\\n6.完整財務資訊請至公開資訊觀測站查閱，路徑如下：\\n(1)近期營業收入及損益資訊：基本資料>精華版\\n(2)歷史每月營業收入：營運概況>每月營收>採用IFRSs後之月營業收入資訊\\n(3)歷史損益(會計師查核/核閱數)：財務報表>採IFRSs後>合併/個別報表>綜合損益表\\n(4)歷史損益(自願性公告自結數)：營運概況>自結損益公告:\\n7.其他應敘明事項:無'], 'co_id': ['2498', '2498', '2498', '2498', '2498', '2498', '2498', '2498', '2498', '2498', '2498', '2498', '2498', '2498', '2498', '2498', '2498', '2498', '2498', '2498'], 'date_of_event': ['20220107', '20220302', '20220307', '20220307', '20220307', '20220307', '20220307', '20220317', '20220323', '20220429', '20220429', '20220429', '20220505', '20220617', '20220617', '20220617', '20220617', '20220617', '20220617', '20220629']}\n"
     ]
    }
   ],
   "source": [
    "print(data)\n"
   ]
  },
  {
   "cell_type": "code",
   "execution_count": 9,
   "id": "075d7597",
   "metadata": {},
   "outputs": [],
   "source": []
  },
  {
   "cell_type": "code",
   "execution_count": null,
   "id": "08843694",
   "metadata": {},
   "outputs": [],
   "source": []
  }
 ],
 "metadata": {
  "kernelspec": {
   "display_name": "Python 3 (ipykernel)",
   "language": "python",
   "name": "python3"
  },
  "language_info": {
   "codemirror_mode": {
    "name": "ipython",
    "version": 3
   },
   "file_extension": ".py",
   "mimetype": "text/x-python",
   "name": "python",
   "nbconvert_exporter": "python",
   "pygments_lexer": "ipython3",
   "version": "3.9.5"
  }
 },
 "nbformat": 4,
 "nbformat_minor": 5
}
