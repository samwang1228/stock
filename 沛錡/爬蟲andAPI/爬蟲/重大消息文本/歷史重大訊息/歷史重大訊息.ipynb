{
 "cells": [
  {
   "cell_type": "code",
   "execution_count": 1,
   "id": "f6fdc779",
   "metadata": {},
   "outputs": [],
   "source": [
    "from selenium import webdriver\n",
    "driver = webdriver.Edge()"
   ]
  },
  {
   "cell_type": "code",
   "execution_count": 2,
   "id": "c726f22c",
   "metadata": {},
   "outputs": [],
   "source": [
    "url=\"https://mops.twse.com.tw/mops/web/ajax_t05st01?co_id=2498&year=111&TYPEK=all&encodeURIComponent=1&step=1&firstin=1&off=1\""
   ]
  },
  {
   "cell_type": "code",
   "execution_count": 3,
   "id": "7ea8e93b",
   "metadata": {},
   "outputs": [
    {
     "name": "stdout",
     "output_type": "stream",
     "text": [
      "<html><head>\n",
      "\t<title>公開資訊觀測站</title>\n",
      "\t\n",
      "\t\n",
      "\t<link href=\"css/css2.css\" rel=\"stylesheet\" type=\"text/css\" media=\"Screen\"> \n",
      "\t\n",
      "\t<script async=\"\" src=\"//www.google-analytics.com/analytics.js\"></script><script type=\"text/javascript\" src=\"js/mops2.js\"></script>\n",
      "</head>\n",
      "\n",
      "<body>\n",
      "<table class=\"noBorder\"><tbody><tr><td class=\"compName\" align=\"center\">\n",
      "<b>\n",
      "本資料由　(上市公司) 2498 \n",
      "宏達電　公司提供</b>\n",
      "</td></tr>\n",
      "<tr><td class=\"reportCont\"></td></tr></tbody></table>\n",
      "<form action=\"/mops/web/ajax_t05st01\" name=\"t05st01_fm\" id=\"t05st01_fm\" method=\"post\" onsubmit=\"return false;\">\n",
      "<input type=\"hidden\" name=\"firstin\" value=\"true\">\n",
      "<input type=\"hidden\" name=\"b_date\" value=\"\">\n",
      "<input type=\"hidden\" name=\"e_date\" value=\"\">\n",
      "<input type=\"hidden\" name=\"TYPEK\">\n",
      "<input type=\"hidden\" name=\"year\" value=\"111\">\n",
      "<input type=\"hidden\" name=\"month\" value=\"all\">\n",
      "<input type=\"hidden\" name=\"type\" value=\"\">\n",
      "<input type=\"hidden\" name=\"co_id\">\n",
      "<input type=\"hidden\" name=\"spoke_date\">\n",
      "<input type=\"hidden\" name=\"spoke_time\">\n",
      "<input type=\"hidden\" name=\"seq_no\">\n",
      "<input type=\"hidden\" name=\"MEETING_STEP\">\n",
      "<input type=\"hidden\" name=\"e_month\" value=\"all\">\n",
      "<input type=\"hidden\" name=\"step\" value=\"2\"><input type=\"hidden\" name=\"off\" value=\"1\"><center><b>請至<button class=\"reportCont\" style=\"text-align:left;background-color:transparent;border:0;cursor:pointer;\" onmousemove=\"window.status=&quot;t211sb01&quot;;\" onclick=\"document.t05st01_fm.TYPEK.value=&quot;sii&quot;;document.t05st01_fm.co_id.value=&quot;2498&quot;;document.t05st01_fm.step.value=&quot;1&quot;;document.t05st01_fm.MEETING_STEP.value=&quot;0&quot;; action=&quot;/mops/web/ajax_t211sb01&quot;;openWindow(this.form,&quot;&quot;);\"><font color=\"blue\"><u>財務及交易資訊重點專區</u></font></button>參考公司相關財務資訊</b></center>\n",
      "<br>\n",
      "<table class=\"hasBorder\">\n",
      "<tbody><tr class=\"tblHead\"><th>公司代號</th><th>公司名稱</th><th>發言日期</th><th>發言時間</th><th>主旨</th><th>&nbsp;</th></tr>\n",
      "<tr class=\"even\">\n",
      "<td style=\"text-align:left !important;\">&nbsp;2498</td><td style=\"text-align:left !important;\">&nbsp;宏達電</td><td style=\"text-align:left !important;\">&nbsp;111/01/07</td><td style=\"text-align:left !important;\">&nbsp;15:00:21</td><td style=\"text-align:left !important;\"><pre style=\"font-family:0\u000e�;\"><font size=\"3\">&nbsp;代子公司威宏電子(上海)有限公司公告參與投資基金</font></pre></td><td align=\"center\"><input type=\"button\" value=\"詳細資料\" onclick=\"document.t05st01_fm.action='ajax_t05st01';document.t05st01_fm.seq_no.value='1';document.t05st01_fm.spoke_time.value='150021';document.t05st01_fm.spoke_date.value='20220107';document.t05st01_fm.co_id.value='2498';document.t05st01_fm.TYPEK.value='sii';openWindow(this.form ,'');\">\n",
      "</td>\n",
      "</tr>\n",
      "<tr class=\"odd\">\n",
      "<td style=\"text-align:left !important;\">&nbsp;2498</td><td style=\"text-align:left !important;\">&nbsp;宏達電</td><td style=\"text-align:left !important;\">&nbsp;111/03/01</td><td style=\"text-align:left !important;\">&nbsp;15:00:02</td><td style=\"text-align:left !important;\"><pre style=\"font-family:0\u000e�;\"><font size=\"3\">&nbsp;本公司受邀參加瑞銀證券與台灣證交所舉辦之UBS x TWSE Taiwan Corporate Day 2022</font></pre></td><td align=\"center\"><input type=\"button\" value=\"詳細資料\" onclick=\"document.t05st01_fm.action='ajax_t05st01';document.t05st01_fm.seq_no.value='1';document.t05st01_fm.spoke_time.value='150002';document.t05st01_fm.spoke_date.value='20220301';document.t05st01_fm.co_id.value='2498';document.t05st01_fm.TYPEK.value='sii';openWindow(this.form ,'');\">\n",
      "</td>\n",
      "</tr>\n",
      "<tr class=\"even\">\n",
      "<td style=\"text-align:left !important;\">&nbsp;2498</td><td style=\"text-align:left !important;\">&nbsp;宏達電</td><td style=\"text-align:left !important;\">&nbsp;111/03/08</td><td style=\"text-align:left !important;\">&nbsp;06:50:10</td><td style=\"text-align:left !important;\"><pre style=\"font-family:0\u000e�;\"><font size=\"3\">&nbsp;公告本公司董事會通過110年度合併財務報告</font></pre></td><td align=\"center\"><input type=\"button\" value=\"詳細資料\" onclick=\"document.t05st01_fm.action='ajax_t05st01';document.t05st01_fm.seq_no.value='1';document.t05st01_fm.spoke_time.value='65010';document.t05st01_fm.spoke_date.value='20220308';document.t05st01_fm.co_id.value='2498';document.t05st01_fm.TYPEK.value='sii';openWindow(this.form ,'');\">\n",
      "</td>\n",
      "</tr>\n",
      "<tr class=\"odd\">\n",
      "<td style=\"text-align:left !important;\">&nbsp;2498</td><td style=\"text-align:left !important;\">&nbsp;宏達電</td><td style=\"text-align:left !important;\">&nbsp;111/03/08</td><td style=\"text-align:left !important;\">&nbsp;06:50:26</td><td style=\"text-align:left !important;\"><pre style=\"font-family:0\u000e�;\"><font size=\"3\">&nbsp;公告本公司董事會決議110年度虧損撥補案</font></pre></td><td align=\"center\"><input type=\"button\" value=\"詳細資料\" onclick=\"document.t05st01_fm.action='ajax_t05st01';document.t05st01_fm.seq_no.value='2';document.t05st01_fm.spoke_time.value='65026';document.t05st01_fm.spoke_date.value='20220308';document.t05st01_fm.co_id.value='2498';document.t05st01_fm.TYPEK.value='sii';openWindow(this.form ,'');\">\n",
      "</td>\n",
      "</tr>\n",
      "<tr class=\"even\">\n",
      "<td style=\"text-align:left !important;\">&nbsp;2498</td><td style=\"text-align:left !important;\">&nbsp;宏達電</td><td style=\"text-align:left !important;\">&nbsp;111/03/08</td><td style=\"text-align:left !important;\">&nbsp;06:50:41</td><td style=\"text-align:left !important;\"><pre style=\"font-family:0\u000e�;\"><font size=\"3\">&nbsp;本公司董事會決議召開民國111年股東常會</font></pre></td><td align=\"center\"><input type=\"button\" value=\"詳細資料\" onclick=\"document.t05st01_fm.action='ajax_t05st01';document.t05st01_fm.seq_no.value='3';document.t05st01_fm.spoke_time.value='65041';document.t05st01_fm.spoke_date.value='20220308';document.t05st01_fm.co_id.value='2498';document.t05st01_fm.TYPEK.value='sii';openWindow(this.form ,'');\">\n",
      "</td>\n",
      "</tr>\n",
      "<tr class=\"odd\">\n",
      "<td style=\"text-align:left !important;\">&nbsp;2498</td><td style=\"text-align:left !important;\">&nbsp;宏達電</td><td style=\"text-align:left !important;\">&nbsp;111/03/08</td><td style=\"text-align:left !important;\">&nbsp;06:50:54</td><td style=\"text-align:left !important;\"><pre style=\"font-family:0\u000e�;\"><font size=\"3\">&nbsp;公告本公司董事會通過海外子公司架構重組計劃案</font></pre></td><td align=\"center\"><input type=\"button\" value=\"詳細資料\" onclick=\"document.t05st01_fm.action='ajax_t05st01';document.t05st01_fm.seq_no.value='4';document.t05st01_fm.spoke_time.value='65054';document.t05st01_fm.spoke_date.value='20220308';document.t05st01_fm.co_id.value='2498';document.t05st01_fm.TYPEK.value='sii';openWindow(this.form ,'');\">\n",
      "</td>\n",
      "</tr>\n",
      "<tr class=\"even\">\n",
      "<td style=\"text-align:left !important;\">&nbsp;2498</td><td style=\"text-align:left !important;\">&nbsp;宏達電</td><td style=\"text-align:left !important;\">&nbsp;111/03/08</td><td style=\"text-align:left !important;\">&nbsp;06:51:08</td><td style=\"text-align:left !important;\"><pre style=\"font-family:0\u000e�;\"><font size=\"3\">&nbsp;公告本公司董事會通過員工認股權憑證轉換普通股之\n",
      "增資基準日</font></pre></td><td align=\"center\"><input type=\"button\" value=\"詳細資料\" onclick=\"document.t05st01_fm.action='ajax_t05st01';document.t05st01_fm.seq_no.value='5';document.t05st01_fm.spoke_time.value='65108';document.t05st01_fm.spoke_date.value='20220308';document.t05st01_fm.co_id.value='2498';document.t05st01_fm.TYPEK.value='sii';openWindow(this.form ,'');\">\n",
      "</td>\n",
      "</tr>\n",
      "<tr class=\"odd\">\n",
      "<td style=\"text-align:left !important;\">&nbsp;2498</td><td style=\"text-align:left !important;\">&nbsp;宏達電</td><td style=\"text-align:left !important;\">&nbsp;111/03/16</td><td style=\"text-align:left !important;\">&nbsp;15:00:09</td><td style=\"text-align:left !important;\"><pre style=\"font-family:0\u000e�;\"><font size=\"3\">&nbsp;本公司受邀參加美銀證券舉辦之BofA 2022 APAC TMT Conference</font></pre></td><td align=\"center\"><input type=\"button\" value=\"詳細資料\" onclick=\"document.t05st01_fm.action='ajax_t05st01';document.t05st01_fm.seq_no.value='1';document.t05st01_fm.spoke_time.value='150009';document.t05st01_fm.spoke_date.value='20220316';document.t05st01_fm.co_id.value='2498';document.t05st01_fm.TYPEK.value='sii';openWindow(this.form ,'');\">\n",
      "</td>\n",
      "</tr>\n",
      "<tr class=\"even\">\n",
      "<td style=\"text-align:left !important;\">&nbsp;2498</td><td style=\"text-align:left !important;\">&nbsp;宏達電</td><td style=\"text-align:left !important;\">&nbsp;111/03/22</td><td style=\"text-align:left !important;\">&nbsp;15:00:05</td><td style=\"text-align:left !important;\"><pre style=\"font-family:0\u000e�;\"><font size=\"3\">&nbsp;本公司受邀參加瑞士信貸舉辦之25th Credit Suisse Asian Investment Conference</font></pre></td><td align=\"center\"><input type=\"button\" value=\"詳細資料\" onclick=\"document.t05st01_fm.action='ajax_t05st01';document.t05st01_fm.seq_no.value='1';document.t05st01_fm.spoke_time.value='150005';document.t05st01_fm.spoke_date.value='20220322';document.t05st01_fm.co_id.value='2498';document.t05st01_fm.TYPEK.value='sii';openWindow(this.form ,'');\">\n",
      "</td>\n",
      "</tr>\n",
      "<tr class=\"odd\">\n",
      "<td style=\"text-align:left !important;\">&nbsp;2498</td><td style=\"text-align:left !important;\">&nbsp;宏達電</td><td style=\"text-align:left !important;\">&nbsp;111/05/03</td><td style=\"text-align:left !important;\">&nbsp;06:50:49</td><td style=\"text-align:left !important;\"><pre style=\"font-family:0\u000e�;\"><font size=\"3\">&nbsp;公告本公司董事會通過111年第1季合併財務報告</font></pre></td><td align=\"center\"><input type=\"button\" value=\"詳細資料\" onclick=\"document.t05st01_fm.action='ajax_t05st01';document.t05st01_fm.seq_no.value='1';document.t05st01_fm.spoke_time.value='65049';document.t05st01_fm.spoke_date.value='20220503';document.t05st01_fm.co_id.value='2498';document.t05st01_fm.TYPEK.value='sii';openWindow(this.form ,'');\">\n",
      "</td>\n",
      "</tr>\n",
      "<tr class=\"even\">\n",
      "<td style=\"text-align:left !important;\">&nbsp;2498</td><td style=\"text-align:left !important;\">&nbsp;宏達電</td><td style=\"text-align:left !important;\">&nbsp;111/05/03</td><td style=\"text-align:left !important;\">&nbsp;06:51:14</td><td style=\"text-align:left !important;\"><pre style=\"font-family:0\u000e�;\"><font size=\"3\">&nbsp;為進行集團內部組織架構重組計劃，董事會通過擬向子公司\n",
      "HTC Netherlands B.V.購買子公司HTC Europe Co.Ltd.100%股權</font></pre></td><td align=\"center\"><input type=\"button\" value=\"詳細資料\" onclick=\"document.t05st01_fm.action='ajax_t05st01';document.t05st01_fm.seq_no.value='2';document.t05st01_fm.spoke_time.value='65114';document.t05st01_fm.spoke_date.value='20220503';document.t05st01_fm.co_id.value='2498';document.t05st01_fm.TYPEK.value='sii';openWindow(this.form ,'');\">\n",
      "</td>\n",
      "</tr>\n",
      "<tr class=\"odd\">\n",
      "<td style=\"text-align:left !important;\">&nbsp;2498</td><td style=\"text-align:left !important;\">&nbsp;宏達電</td><td style=\"text-align:left !important;\">&nbsp;111/05/03</td><td style=\"text-align:left !important;\">&nbsp;06:51:31</td><td style=\"text-align:left !important;\"><pre style=\"font-family:0\u000e�;\"><font size=\"3\">&nbsp;公告本公司董事會通過員工認股權憑證轉換普通股之\n",
      "增資基準日</font></pre></td><td align=\"center\"><input type=\"button\" value=\"詳細資料\" onclick=\"document.t05st01_fm.action='ajax_t05st01';document.t05st01_fm.seq_no.value='3';document.t05st01_fm.spoke_time.value='65131';document.t05st01_fm.spoke_date.value='20220503';document.t05st01_fm.co_id.value='2498';document.t05st01_fm.TYPEK.value='sii';openWindow(this.form ,'');\">\n",
      "</td>\n",
      "</tr>\n",
      "<tr class=\"even\">\n",
      "<td style=\"text-align:left !important;\">&nbsp;2498</td><td style=\"text-align:left !important;\">&nbsp;宏達電</td><td style=\"text-align:left !important;\">&nbsp;111/05/04</td><td style=\"text-align:left !important;\">&nbsp;15:00:04</td><td style=\"text-align:left !important;\"><pre style=\"font-family:0\u000e�;\"><font size=\"3\">&nbsp;本公司受邀參加大和國泰證券舉辦之Daiwa Taiwan Corporate Day 2022</font></pre></td><td align=\"center\"><input type=\"button\" value=\"詳細資料\" onclick=\"document.t05st01_fm.action='ajax_t05st01';document.t05st01_fm.seq_no.value='1';document.t05st01_fm.spoke_time.value='150004';document.t05st01_fm.spoke_date.value='20220504';document.t05st01_fm.co_id.value='2498';document.t05st01_fm.TYPEK.value='sii';openWindow(this.form ,'');\">\n",
      "</td>\n",
      "</tr>\n",
      "<tr class=\"odd\">\n",
      "<td style=\"text-align:left !important;\">&nbsp;2498</td><td style=\"text-align:left !important;\">&nbsp;宏達電</td><td style=\"text-align:left !important;\">&nbsp;111/06/17</td><td style=\"text-align:left !important;\">&nbsp;17:10:57</td><td style=\"text-align:left !important;\"><pre style=\"font-family:0\u000e�;\"><font size=\"3\">&nbsp;公告本公司111年股東常會重要決議事項</font></pre></td><td align=\"center\"><input type=\"button\" value=\"詳細資料\" onclick=\"document.t05st01_fm.action='ajax_t05st01';document.t05st01_fm.seq_no.value='1';document.t05st01_fm.spoke_time.value='171057';document.t05st01_fm.spoke_date.value='20220617';document.t05st01_fm.co_id.value='2498';document.t05st01_fm.TYPEK.value='sii';openWindow(this.form ,'');\">\n",
      "</td>\n",
      "</tr>\n",
      "<tr class=\"even\">\n",
      "<td style=\"text-align:left !important;\">&nbsp;2498</td><td style=\"text-align:left !important;\">&nbsp;宏達電</td><td style=\"text-align:left !important;\">&nbsp;111/06/17</td><td style=\"text-align:left !important;\">&nbsp;17:11:15</td><td style=\"text-align:left !important;\"><pre style=\"font-family:0\u000e�;\"><font size=\"3\">&nbsp;公告本公司111年股東常會改選董事(含獨立董事)當選名單</font></pre></td><td align=\"center\"><input type=\"button\" value=\"詳細資料\" onclick=\"document.t05st01_fm.action='ajax_t05st01';document.t05st01_fm.seq_no.value='2';document.t05st01_fm.spoke_time.value='171115';document.t05st01_fm.spoke_date.value='20220617';document.t05st01_fm.co_id.value='2498';document.t05st01_fm.TYPEK.value='sii';openWindow(this.form ,'');\">\n",
      "</td>\n",
      "</tr>\n",
      "<tr class=\"odd\">\n",
      "<td style=\"text-align:left !important;\">&nbsp;2498</td><td style=\"text-align:left !important;\">&nbsp;宏達電</td><td style=\"text-align:left !important;\">&nbsp;111/06/17</td><td style=\"text-align:left !important;\">&nbsp;17:11:29</td><td style=\"text-align:left !important;\"><pre style=\"font-family:0\u000e�;\"><font size=\"3\">&nbsp;公告本公司111年股東常會通過解除董事競業禁止之限制案</font></pre></td><td align=\"center\"><input type=\"button\" value=\"詳細資料\" onclick=\"document.t05st01_fm.action='ajax_t05st01';document.t05st01_fm.seq_no.value='3';document.t05st01_fm.spoke_time.value='171129';document.t05st01_fm.spoke_date.value='20220617';document.t05st01_fm.co_id.value='2498';document.t05st01_fm.TYPEK.value='sii';openWindow(this.form ,'');\">\n",
      "</td>\n",
      "</tr>\n",
      "<tr class=\"even\">\n",
      "<td style=\"text-align:left !important;\">&nbsp;2498</td><td style=\"text-align:left !important;\">&nbsp;宏達電</td><td style=\"text-align:left !important;\">&nbsp;111/06/17</td><td style=\"text-align:left !important;\">&nbsp;17:11:45</td><td style=\"text-align:left !important;\"><pre style=\"font-family:0\u000e�;\"><font size=\"3\">&nbsp;公告本公司董事會推選董事長</font></pre></td><td align=\"center\"><input type=\"button\" value=\"詳細資料\" onclick=\"document.t05st01_fm.action='ajax_t05st01';document.t05st01_fm.seq_no.value='4';document.t05st01_fm.spoke_time.value='171145';document.t05st01_fm.spoke_date.value='20220617';document.t05st01_fm.co_id.value='2498';document.t05st01_fm.TYPEK.value='sii';openWindow(this.form ,'');\">\n",
      "</td>\n",
      "</tr>\n",
      "<tr class=\"odd\">\n",
      "<td style=\"text-align:left !important;\">&nbsp;2498</td><td style=\"text-align:left !important;\">&nbsp;宏達電</td><td style=\"text-align:left !important;\">&nbsp;111/06/17</td><td style=\"text-align:left !important;\">&nbsp;17:11:57</td><td style=\"text-align:left !important;\"><pre style=\"font-family:0\u000e�;\"><font size=\"3\">&nbsp;公告本公司董事會委任第五屆薪資報酬委員會委員</font></pre></td><td align=\"center\"><input type=\"button\" value=\"詳細資料\" onclick=\"document.t05st01_fm.action='ajax_t05st01';document.t05st01_fm.seq_no.value='5';document.t05st01_fm.spoke_time.value='171157';document.t05st01_fm.spoke_date.value='20220617';document.t05st01_fm.co_id.value='2498';document.t05st01_fm.TYPEK.value='sii';openWindow(this.form ,'');\">\n",
      "</td>\n",
      "</tr>\n",
      "<tr class=\"even\">\n",
      "<td style=\"text-align:left !important;\">&nbsp;2498</td><td style=\"text-align:left !important;\">&nbsp;宏達電</td><td style=\"text-align:left !important;\">&nbsp;111/06/17</td><td style=\"text-align:left !important;\">&nbsp;17:12:12</td><td style=\"text-align:left !important;\"><pre style=\"font-family:0\u000e�;\"><font size=\"3\">&nbsp;公告本公司第二屆審計委員會委員</font></pre></td><td align=\"center\"><input type=\"button\" value=\"詳細資料\" onclick=\"document.t05st01_fm.action='ajax_t05st01';document.t05st01_fm.seq_no.value='6';document.t05st01_fm.spoke_time.value='171212';document.t05st01_fm.spoke_date.value='20220617';document.t05st01_fm.co_id.value='2498';document.t05st01_fm.TYPEK.value='sii';openWindow(this.form ,'');\">\n",
      "</td>\n",
      "</tr>\n",
      "<tr class=\"odd\">\n",
      "<td style=\"text-align:left !important;\">&nbsp;2498</td><td style=\"text-align:left !important;\">&nbsp;宏達電</td><td style=\"text-align:left !important;\">&nbsp;111/06/29</td><td style=\"text-align:left !important;\">&nbsp;16:00:07</td><td style=\"text-align:left !important;\"><pre style=\"font-family:0\u000e�;\"><font size=\"3\">&nbsp;係因本公司有價證券於集中交易市場達公布注意交易資訊\n",
      "標準，故公布相關財務業務等重大訊息，以利投資人區別瞭解</font></pre></td><td align=\"center\"><input type=\"button\" value=\"詳細資料\" onclick=\"document.t05st01_fm.action='ajax_t05st01';document.t05st01_fm.seq_no.value='1';document.t05st01_fm.spoke_time.value='160007';document.t05st01_fm.spoke_date.value='20220629';document.t05st01_fm.co_id.value='2498';document.t05st01_fm.TYPEK.value='sii';openWindow(this.form ,'');\">\n",
      "</td>\n",
      "</tr>\n",
      "</tbody></table></form>\n",
      "\n",
      "\n",
      "\n",
      "</body></html>\n"
     ]
    }
   ],
   "source": [
    "driver.get(url)\n",
    "print(driver.page_source)"
   ]
  },
  {
   "cell_type": "code",
   "execution_count": 4,
   "id": "05ce8741",
   "metadata": {},
   "outputs": [],
   "source": [
    "import time"
   ]
  },
  {
   "cell_type": "code",
   "execution_count": 5,
   "id": "b3518939",
   "metadata": {},
   "outputs": [],
   "source": [
    "time.sleep(10)\n",
    "original_window = driver.current_window_handle\n",
    "assert len(driver.window_handles) == 1\n",
    "driver.find_element(\"xpath\",\"//input[@value='詳細資料'][1]\").click()\n",
    "for window_handle in driver.window_handles:\n",
    "    time.sleep(3)\n",
    "    if window_handle != original_window:\n",
    "        driver.switch_to.window(window_handle)\n",
    "        break"
   ]
  },
  {
   "cell_type": "code",
   "execution_count": 6,
   "id": "993c2af7",
   "metadata": {},
   "outputs": [
    {
     "data": {
      "text/plain": [
       "<selenium.webdriver.common.action_chains.ActionChains at 0x226d6641e80>"
      ]
     },
     "execution_count": 6,
     "metadata": {},
     "output_type": "execute_result"
    }
   ],
   "source": []
  },
  {
   "cell_type": "code",
   "execution_count": null,
   "id": "11144e18",
   "metadata": {},
   "outputs": [],
   "source": [
    "\"\"\"html_source_code = driver.execute_script(\"return document.body.innerHTML;\")\n",
    "html_soup: BeautifulSoup = BeautifulSoup(html_source_code, 'html.parser')\"\"\""
   ]
  },
  {
   "cell_type": "code",
   "execution_count": 7,
   "id": "a918c036",
   "metadata": {},
   "outputs": [
    {
     "ename": "TimeoutException",
     "evalue": "Message: timeout: Timed out receiving message from renderer: 300.000\n  (Session info: MicrosoftEdge=103.0.1264.49)\nStacktrace:\nBacktrace:\n\tMicrosoft::Applications::Events::EventProperties::unpack [0x00007FF62DE96252+24642]\n\tMicrosoft::Applications::Events::GUID_t::GUID_t [0x00007FF62DDE99A2+334098]\n\tOrdinal0 [0x00007FF62D987915+620821]\n\tOrdinal0 [0x00007FF62D974F2E+544558]\n\tOrdinal0 [0x00007FF62D973BB0+539568]\n\tOrdinal0 [0x00007FF62D974133+540979]\n\tOrdinal0 [0x00007FF62D97FAE6+588518]\n\tOrdinal0 [0x00007FF62D990492+656530]\n\tOrdinal0 [0x00007FF62D994AA9+674473]\n\tOrdinal0 [0x00007FF62D9744D5+541909]\n\tOrdinal0 [0x00007FF62D990190+655760]\n\tOrdinal0 [0x00007FF62D9F2F3F+1060671]\n\tOrdinal0 [0x00007FF62D9DECB3+978099]\n\tOrdinal0 [0x00007FF62D9B5F00+810752]\n\tOrdinal0 [0x00007FF62D9B7508+816392]\n\tMicrosoft::Applications::Events::EventProperty::EventProperty [0x00007FF62DC4D558+135480]\n\tMicrosoft::Applications::Events::EventProperty::EventProperty [0x00007FF62DC34C57+34871]\n\tMicrosoft::Applications::Events::EventProperty::EventProperty [0x00007FF62DC37CDC+47292]\n\tMicrosoft::Applications::Events::EventProperty::to_string [0x00007FF62DA911B6+23222]\n\tMicrosoft::Applications::Events::GUID_t::GUID_t [0x00007FF62DDF0EAB+364059]\n\tMicrosoft::Applications::Events::GUID_t::GUID_t [0x00007FF62DDF58E4+383060]\n\tMicrosoft::Applications::Events::GUID_t::GUID_t [0x00007FF62DDF5A3D+383405]\n\tMicrosoft::Applications::Events::time_ticks_t::time_ticks_t [0x00007FF62DE0034E+39918]\n\tBaseThreadInitThunk [0x00007FFE29CB7034+20]\n\tRtlUserThreadStart [0x00007FFE2BC82651+33]\n",
     "output_type": "error",
     "traceback": [
      "\u001b[1;31m---------------------------------------------------------------------------\u001b[0m",
      "\u001b[1;31mTimeoutException\u001b[0m                          Traceback (most recent call last)",
      "Input \u001b[1;32mIn [7]\u001b[0m, in \u001b[0;36m<cell line: 2>\u001b[1;34m()\u001b[0m\n\u001b[0;32m      1\u001b[0m time\u001b[38;5;241m.\u001b[39msleep(\u001b[38;5;241m3\u001b[39m)\n\u001b[1;32m----> 2\u001b[0m \u001b[38;5;28mprint\u001b[39m(\u001b[43mdriver\u001b[49m\u001b[38;5;241;43m.\u001b[39;49m\u001b[43mpage_source\u001b[49m)\n",
      "File \u001b[1;32m~\\miniconda3\\lib\\site-packages\\selenium\\webdriver\\remote\\webdriver.py:541\u001b[0m, in \u001b[0;36mWebDriver.page_source\u001b[1;34m(self)\u001b[0m\n\u001b[0;32m    531\u001b[0m \u001b[38;5;129m@property\u001b[39m\n\u001b[0;32m    532\u001b[0m \u001b[38;5;28;01mdef\u001b[39;00m \u001b[38;5;21mpage_source\u001b[39m(\u001b[38;5;28mself\u001b[39m) \u001b[38;5;241m-\u001b[39m\u001b[38;5;241m>\u001b[39m \u001b[38;5;28mstr\u001b[39m:\n\u001b[0;32m    533\u001b[0m     \u001b[38;5;124;03m\"\"\"\u001b[39;00m\n\u001b[0;32m    534\u001b[0m \u001b[38;5;124;03m    Gets the source of the current page.\u001b[39;00m\n\u001b[0;32m    535\u001b[0m \n\u001b[1;32m   (...)\u001b[0m\n\u001b[0;32m    539\u001b[0m \u001b[38;5;124;03m            driver.page_source\u001b[39;00m\n\u001b[0;32m    540\u001b[0m \u001b[38;5;124;03m    \"\"\"\u001b[39;00m\n\u001b[1;32m--> 541\u001b[0m     \u001b[38;5;28;01mreturn\u001b[39;00m \u001b[38;5;28;43mself\u001b[39;49m\u001b[38;5;241;43m.\u001b[39;49m\u001b[43mexecute\u001b[49m\u001b[43m(\u001b[49m\u001b[43mCommand\u001b[49m\u001b[38;5;241;43m.\u001b[39;49m\u001b[43mGET_PAGE_SOURCE\u001b[49m\u001b[43m)\u001b[49m[\u001b[38;5;124m'\u001b[39m\u001b[38;5;124mvalue\u001b[39m\u001b[38;5;124m'\u001b[39m]\n",
      "File \u001b[1;32m~\\miniconda3\\lib\\site-packages\\selenium\\webdriver\\remote\\webdriver.py:435\u001b[0m, in \u001b[0;36mWebDriver.execute\u001b[1;34m(self, driver_command, params)\u001b[0m\n\u001b[0;32m    433\u001b[0m response \u001b[38;5;241m=\u001b[39m \u001b[38;5;28mself\u001b[39m\u001b[38;5;241m.\u001b[39mcommand_executor\u001b[38;5;241m.\u001b[39mexecute(driver_command, params)\n\u001b[0;32m    434\u001b[0m \u001b[38;5;28;01mif\u001b[39;00m response:\n\u001b[1;32m--> 435\u001b[0m     \u001b[38;5;28;43mself\u001b[39;49m\u001b[38;5;241;43m.\u001b[39;49m\u001b[43merror_handler\u001b[49m\u001b[38;5;241;43m.\u001b[39;49m\u001b[43mcheck_response\u001b[49m\u001b[43m(\u001b[49m\u001b[43mresponse\u001b[49m\u001b[43m)\u001b[49m\n\u001b[0;32m    436\u001b[0m     response[\u001b[38;5;124m'\u001b[39m\u001b[38;5;124mvalue\u001b[39m\u001b[38;5;124m'\u001b[39m] \u001b[38;5;241m=\u001b[39m \u001b[38;5;28mself\u001b[39m\u001b[38;5;241m.\u001b[39m_unwrap_value(\n\u001b[0;32m    437\u001b[0m         response\u001b[38;5;241m.\u001b[39mget(\u001b[38;5;124m'\u001b[39m\u001b[38;5;124mvalue\u001b[39m\u001b[38;5;124m'\u001b[39m, \u001b[38;5;28;01mNone\u001b[39;00m))\n\u001b[0;32m    438\u001b[0m     \u001b[38;5;28;01mreturn\u001b[39;00m response\n",
      "File \u001b[1;32m~\\miniconda3\\lib\\site-packages\\selenium\\webdriver\\remote\\errorhandler.py:247\u001b[0m, in \u001b[0;36mErrorHandler.check_response\u001b[1;34m(self, response)\u001b[0m\n\u001b[0;32m    245\u001b[0m         alert_text \u001b[38;5;241m=\u001b[39m value[\u001b[38;5;124m'\u001b[39m\u001b[38;5;124malert\u001b[39m\u001b[38;5;124m'\u001b[39m]\u001b[38;5;241m.\u001b[39mget(\u001b[38;5;124m'\u001b[39m\u001b[38;5;124mtext\u001b[39m\u001b[38;5;124m'\u001b[39m)\n\u001b[0;32m    246\u001b[0m     \u001b[38;5;28;01mraise\u001b[39;00m exception_class(message, screen, stacktrace, alert_text)  \u001b[38;5;66;03m# type: ignore[call-arg]  # mypy is not smart enough here\u001b[39;00m\n\u001b[1;32m--> 247\u001b[0m \u001b[38;5;28;01mraise\u001b[39;00m exception_class(message, screen, stacktrace)\n",
      "\u001b[1;31mTimeoutException\u001b[0m: Message: timeout: Timed out receiving message from renderer: 300.000\n  (Session info: MicrosoftEdge=103.0.1264.49)\nStacktrace:\nBacktrace:\n\tMicrosoft::Applications::Events::EventProperties::unpack [0x00007FF62DE96252+24642]\n\tMicrosoft::Applications::Events::GUID_t::GUID_t [0x00007FF62DDE99A2+334098]\n\tOrdinal0 [0x00007FF62D987915+620821]\n\tOrdinal0 [0x00007FF62D974F2E+544558]\n\tOrdinal0 [0x00007FF62D973BB0+539568]\n\tOrdinal0 [0x00007FF62D974133+540979]\n\tOrdinal0 [0x00007FF62D97FAE6+588518]\n\tOrdinal0 [0x00007FF62D990492+656530]\n\tOrdinal0 [0x00007FF62D994AA9+674473]\n\tOrdinal0 [0x00007FF62D9744D5+541909]\n\tOrdinal0 [0x00007FF62D990190+655760]\n\tOrdinal0 [0x00007FF62D9F2F3F+1060671]\n\tOrdinal0 [0x00007FF62D9DECB3+978099]\n\tOrdinal0 [0x00007FF62D9B5F00+810752]\n\tOrdinal0 [0x00007FF62D9B7508+816392]\n\tMicrosoft::Applications::Events::EventProperty::EventProperty [0x00007FF62DC4D558+135480]\n\tMicrosoft::Applications::Events::EventProperty::EventProperty [0x00007FF62DC34C57+34871]\n\tMicrosoft::Applications::Events::EventProperty::EventProperty [0x00007FF62DC37CDC+47292]\n\tMicrosoft::Applications::Events::EventProperty::to_string [0x00007FF62DA911B6+23222]\n\tMicrosoft::Applications::Events::GUID_t::GUID_t [0x00007FF62DDF0EAB+364059]\n\tMicrosoft::Applications::Events::GUID_t::GUID_t [0x00007FF62DDF58E4+383060]\n\tMicrosoft::Applications::Events::GUID_t::GUID_t [0x00007FF62DDF5A3D+383405]\n\tMicrosoft::Applications::Events::time_ticks_t::time_ticks_t [0x00007FF62DE0034E+39918]\n\tBaseThreadInitThunk [0x00007FFE29CB7034+20]\n\tRtlUserThreadStart [0x00007FFE2BC82651+33]\n"
     ]
    }
   ],
   "source": [
    "time.sleep(3)\n",
    "print(driver.page_source)\n",
    "#driver.find_element(\"xpath\",\"//td[@class='compName']\").click()"
   ]
  },
  {
   "cell_type": "code",
   "execution_count": 8,
   "id": "7a180567",
   "metadata": {},
   "outputs": [],
   "source": [
    "driver.switch_to.window(original_window)"
   ]
  },
  {
   "cell_type": "code",
   "execution_count": null,
   "id": "8272e35f",
   "metadata": {},
   "outputs": [],
   "source": [
    "driver.close()"
   ]
  },
  {
   "cell_type": "code",
   "execution_count": null,
   "id": "64a57b7e",
   "metadata": {},
   "outputs": [],
   "source": []
  }
 ],
 "metadata": {
  "kernelspec": {
   "display_name": "Python 3 (ipykernel)",
   "language": "python",
   "name": "python3"
  },
  "language_info": {
   "codemirror_mode": {
    "name": "ipython",
    "version": 3
   },
   "file_extension": ".py",
   "mimetype": "text/x-python",
   "name": "python",
   "nbconvert_exporter": "python",
   "pygments_lexer": "ipython3",
   "version": "3.9.5"
  }
 },
 "nbformat": 4,
 "nbformat_minor": 5
}
