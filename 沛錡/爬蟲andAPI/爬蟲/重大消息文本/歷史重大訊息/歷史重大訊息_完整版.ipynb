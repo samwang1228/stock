{
 "cells": [
  {
   "cell_type": "code",
   "execution_count": 8,
   "id": "f6fdc779",
   "metadata": {},
   "outputs": [],
   "source": [
    "from selenium import webdriver\n",
    "import time as t\n",
    "import bs4\n",
    "import pandas as pd"
   ]
  },
  {
   "cell_type": "code",
   "execution_count": 38,
   "id": "423bdb01",
   "metadata": {},
   "outputs": [],
   "source": [
    "driver = webdriver.Firefox()"
   ]
  },
  {
   "cell_type": "code",
   "execution_count": 3,
   "id": "f9ebd939",
   "metadata": {},
   "outputs": [],
   "source": [
    "data = {'date': [], 'time': [], \"title\": [], 'content': [], 'co_id': [], 'date_of_event': []}"
   ]
  },
  {
   "cell_type": "code",
   "execution_count": 43,
   "id": "1c29d7a8",
   "metadata": {},
   "outputs": [],
   "source": [
    "co_id='6796'\n",
    "syear=111"
   ]
  },
  {
   "cell_type": "code",
   "execution_count": 44,
   "id": "c726f22c",
   "metadata": {},
   "outputs": [
    {
     "name": "stdout",
     "output_type": "stream",
     "text": [
      "111\n",
      "110\n",
      "109\n",
      "108\n",
      "107\n",
      "106\n",
      "105\n",
      "104\n",
      "103\n",
      "102\n"
     ]
    }
   ],
   "source": [
    "#10年資料\n",
    "for i in range(10):\n",
    "    year= str(syear-i)\n",
    "    url=\"https://mops.twse.com.tw/mops/web/ajax_t05st01?co_id=\"+co_id+\"&year=\"+year+\"&TYPEK=all&encodeURIComponent=1&step=1&firstin=1&off=1\"\n",
    "    driver.get(url)\n",
    "\n",
    "    t.sleep(3)\n",
    "    original_window = driver.current_window_handle\n",
    "    #assert len(driver.window_handles) == 1\n",
    "\n",
    "    for i in driver.find_elements(\"xpath\",\"//input[@value='詳細資料']\"):\n",
    "        i.click()\n",
    "        for window_handle in driver.window_handles:\n",
    "            t.sleep(3)\n",
    "            if window_handle != original_window:\n",
    "                driver.switch_to.window(window_handle)\n",
    "                break\n",
    "        soup = bs4.BeautifulSoup(driver.page_source, 'html.parser')\n",
    "        rowDatas=soup.find_all('td')\n",
    "        \n",
    "        #錯誤排除\n",
    "        if(len(rowDatas))<6:\n",
    "            t.sleep(30)\n",
    "            driver.close()\n",
    "            driver.switch_to.window(original_window)\n",
    "            i.click()\n",
    "            for window_handle in driver.window_handles:\n",
    "                t.sleep(3)\n",
    "                if window_handle != original_window:\n",
    "                    driver.switch_to.window(window_handle)\n",
    "                    break\n",
    "            soup = bs4.BeautifulSoup(driver.page_source, 'html.parser')\n",
    "            rowDatas=soup.find_all('td')\n",
    "        #date\n",
    "        date=(rowDatas[6].text.replace(u'\\xa0', u''))\n",
    "        date=date.replace(u'/',u'')\n",
    "        y=str(int(date[:3])+1911)\n",
    "        m=date[3:5]\n",
    "        d=date[5:7]\n",
    "        date=y+m+d\n",
    "        data['date'].append(date)\n",
    "\n",
    "        #time\n",
    "        data['time'].append(rowDatas[8].text.replace(u'\\xa0', u''))\n",
    "\n",
    "        #title\n",
    "        data['title'].append(rowDatas[16].text.replace(u'\\xa0', u''))\n",
    "\n",
    "        #date of event 實際發生日\n",
    "        date=(rowDatas[20].text.replace(u'\\xa0', u''))\n",
    "        date=date.replace(u'/',u'')\n",
    "        y=str(int(date[:3])+1911)\n",
    "        m=date[3:5]\n",
    "        d=date[5:7]\n",
    "        date=y+m+d\n",
    "        data['date_of_event'].append(date)\n",
    "\n",
    "        #content\n",
    "        data['content'].append(rowDatas[22].text.replace(u'\\xa0', u''))\n",
    "\n",
    "        #co_id\n",
    "        data['co_id'].append(co_id)\n",
    "\n",
    "        driver.close()\n",
    "        driver.switch_to.window(original_window)\n",
    "\n",
    "    #driver.quit()\n",
    "    print(year)"
   ]
  },
  {
   "cell_type": "code",
   "execution_count": 48,
   "id": "7ea8e93b",
   "metadata": {},
   "outputs": [],
   "source": [
    "#轉成DataFrame\n",
    "result=pd.DataFrame(data)"
   ]
  },
  {
   "cell_type": "code",
   "execution_count": 49,
   "id": "05ce8741",
   "metadata": {},
   "outputs": [],
   "source": [
    "#to csv\n",
    "compression_opts = dict(method='zip',\n",
    "                        archive_name='material_information.csv')  \n",
    "result.to_csv('material_information.zip', index=True,\n",
    "          compression=compression_opts) "
   ]
  },
  {
   "cell_type": "code",
   "execution_count": 8,
   "id": "6226dbf3",
   "metadata": {},
   "outputs": [],
   "source": []
  },
  {
   "cell_type": "code",
   "execution_count": 9,
   "id": "075d7597",
   "metadata": {},
   "outputs": [],
   "source": []
  },
  {
   "cell_type": "code",
   "execution_count": null,
   "id": "08843694",
   "metadata": {},
   "outputs": [],
   "source": []
  }
 ],
 "metadata": {
  "kernelspec": {
   "display_name": "Python 3 (ipykernel)",
   "language": "python",
   "name": "python3"
  },
  "language_info": {
   "codemirror_mode": {
    "name": "ipython",
    "version": 3
   },
   "file_extension": ".py",
   "mimetype": "text/x-python",
   "name": "python",
   "nbconvert_exporter": "python",
   "pygments_lexer": "ipython3",
   "version": "3.9.5"
  }
 },
 "nbformat": 4,
 "nbformat_minor": 5
}
