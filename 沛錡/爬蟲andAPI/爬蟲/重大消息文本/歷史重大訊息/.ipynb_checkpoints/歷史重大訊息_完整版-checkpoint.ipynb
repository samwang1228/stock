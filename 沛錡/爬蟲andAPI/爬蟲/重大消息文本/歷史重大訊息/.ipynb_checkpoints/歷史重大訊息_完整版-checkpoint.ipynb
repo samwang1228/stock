{
 "cells": [
  {
   "cell_type": "code",
   "execution_count": 8,
   "id": "f6fdc779",
   "metadata": {},
   "outputs": [],
   "source": [
    "from selenium import webdriver\n",
    "import time as t\n",
    "import bs4\n",
    "import pandas as pd"
   ]
  },
  {
   "cell_type": "code",
   "execution_count": 38,
   "id": "423bdb01",
   "metadata": {},
   "outputs": [],
   "source": [
    "driver = webdriver.Firefox()"
   ]
  },
  {
   "cell_type": "code",
   "execution_count": 3,
   "id": "f9ebd939",
   "metadata": {},
   "outputs": [],
   "source": [
    "data = {'date': [], 'time': [], \"title\": [],\n",
    "        'content': [], 'co_id': [], 'date_of_event': []}"
   ]
  },
  {
   "cell_type": "code",
   "execution_count": 43,
   "id": "1c29d7a8",
   "metadata": {},
   "outputs": [],
   "source": [
    "co_id = '6796'  # 股票代號\n",
    "syear = 111  # 開始的年份(遞減)"
   ]
  },
  {
   "cell_type": "code",
   "execution_count": 1,
   "id": "c726f22c",
   "metadata": {},
   "outputs": [
    {
     "ename": "NameError",
     "evalue": "name 'syear' is not defined",
     "output_type": "error",
     "traceback": [
      "\u001b[1;31m---------------------------------------------------------------------------\u001b[0m",
      "\u001b[1;31mNameError\u001b[0m                                 Traceback (most recent call last)",
      "Input \u001b[1;32mIn [1]\u001b[0m, in \u001b[0;36m<cell line: 2>\u001b[1;34m()\u001b[0m\n\u001b[0;32m      1\u001b[0m \u001b[38;5;66;03m# 10年資料 遞減\u001b[39;00m\n\u001b[0;32m      2\u001b[0m \u001b[38;5;28;01mfor\u001b[39;00m i \u001b[38;5;129;01min\u001b[39;00m \u001b[38;5;28mrange\u001b[39m(\u001b[38;5;241m10\u001b[39m):\n\u001b[1;32m----> 3\u001b[0m     year \u001b[38;5;241m=\u001b[39m \u001b[38;5;28mstr\u001b[39m(\u001b[43msyear\u001b[49m\u001b[38;5;241m-\u001b[39mi)\n\u001b[0;32m      4\u001b[0m     url \u001b[38;5;241m=\u001b[39m \u001b[38;5;124m\"\u001b[39m\u001b[38;5;124mhttps://mops.twse.com.tw/mops/web/ajax_t05st01?co_id=\u001b[39m\u001b[38;5;124m\"\u001b[39m\u001b[38;5;241m+\u001b[39mco_id \u001b[38;5;241m+\u001b[39m \\\n\u001b[0;32m      5\u001b[0m         \u001b[38;5;124m\"\u001b[39m\u001b[38;5;124m&year=\u001b[39m\u001b[38;5;124m\"\u001b[39m\u001b[38;5;241m+\u001b[39myear\u001b[38;5;241m+\u001b[39m\u001b[38;5;124m\"\u001b[39m\u001b[38;5;124m&TYPEK=all&encodeURIComponent=1&step=1&firstin=1&off=1\u001b[39m\u001b[38;5;124m\"\u001b[39m\n\u001b[0;32m      6\u001b[0m     driver\u001b[38;5;241m.\u001b[39mget(url)\n",
      "\u001b[1;31mNameError\u001b[0m: name 'syear' is not defined"
     ]
    }
   ],
   "source": [
    "# 10年資料 遞減\n",
    "for i in range(10):\n",
    "    year = str(syear-i)\n",
    "    url = \"https://mops.twse.com.tw/mops/web/ajax_t05st01?co_id=\"+co_id + \\\n",
    "        \"&year=\"+year+\"&TYPEK=all&encodeURIComponent=1&step=1&firstin=1&off=1\"\n",
    "    driver.get(url)\n",
    "\n",
    "    t.sleep(3) #每個request要間隔3秒，避免被封鎖\n",
    "    original_window = driver.current_window_handle\n",
    "    for i in driver.find_elements(\"xpath\", \"//input[@value='詳細資料']\"):\n",
    "        i.click()\n",
    "        for window_handle in driver.window_handles:\n",
    "            t.sleep(3)#每個操作要間隔3秒，避免被封鎖\n",
    "            if window_handle != original_window:\n",
    "                driver.switch_to.window(window_handle)\n",
    "                break\n",
    "        soup = bs4.BeautifulSoup(driver.page_source, 'html.parser')\n",
    "        rowDatas = soup.find_all('td')\n",
    "\n",
    "        # 錯誤排除\n",
    "        if (len(rowDatas)) < 6:\n",
    "            t.sleep(30)\n",
    "            driver.close()\n",
    "            driver.switch_to.window(original_window)\n",
    "            i.click()\n",
    "            for window_handle in driver.window_handles:\n",
    "                t.sleep(3)\n",
    "                if window_handle != original_window:\n",
    "                    driver.switch_to.window(window_handle)\n",
    "                    break\n",
    "            soup = bs4.BeautifulSoup(driver.page_source, 'html.parser')\n",
    "            rowDatas = soup.find_all('td')\n",
    "        \n",
    "        # date\n",
    "        date = (rowDatas[6].text.replace(u'\\xa0', u''))\n",
    "        date = date.replace(u'/', u'')\n",
    "        y = str(int(date[:3])+1911)\n",
    "        m = date[3:5]\n",
    "        d = date[5:7]\n",
    "        date = y+m+d\n",
    "        data['date'].append(date)\n",
    "\n",
    "        # time\n",
    "        data['time'].append(rowDatas[8].text.replace(u'\\xa0', u''))\n",
    "\n",
    "        # title\n",
    "        data['title'].append(rowDatas[16].text.replace(u'\\xa0', u''))\n",
    "\n",
    "        # date of event 實際發生日\n",
    "        date = (rowDatas[20].text.replace(u'\\xa0', u''))\n",
    "        date = date.replace(u'/', u'')\n",
    "        y = str(int(date[:3])+1911)\n",
    "        m = date[3:5]\n",
    "        d = date[5:7]\n",
    "        date = y+m+d\n",
    "        data['date_of_event'].append(date)\n",
    "\n",
    "        # content\n",
    "        data['content'].append(rowDatas[22].text.replace(u'\\xa0', u''))\n",
    "\n",
    "        # co_id\n",
    "        data['co_id'].append(co_id)\n",
    "\n",
    "        driver.close()\n",
    "        driver.switch_to.window(original_window)\n",
    "    print(year)\n",
    "driver.quit()"
   ]
  },
  {
   "cell_type": "code",
   "execution_count": 48,
   "id": "7ea8e93b",
   "metadata": {},
   "outputs": [],
   "source": [
    "#轉成DataFrame\n",
    "result=pd.DataFrame(data)"
   ]
  },
  {
   "cell_type": "code",
   "execution_count": 49,
   "id": "05ce8741",
   "metadata": {},
   "outputs": [],
   "source": [
    "#to csv\n",
    "compression_opts = dict(method='zip',\n",
    "                        archive_name='material_information.csv')  \n",
    "result.to_csv('material_information.zip', index=True,\n",
    "          compression=compression_opts) "
   ]
  }
 ],
 "metadata": {
  "kernelspec": {
   "display_name": "Python 3 (ipykernel)",
   "language": "python",
   "name": "python3"
  },
  "language_info": {
   "codemirror_mode": {
    "name": "ipython",
    "version": 3
   },
   "file_extension": ".py",
   "mimetype": "text/x-python",
   "name": "python",
   "nbconvert_exporter": "python",
   "pygments_lexer": "ipython3",
   "version": "3.9.5"
  }
 },
 "nbformat": 4,
 "nbformat_minor": 5
}
