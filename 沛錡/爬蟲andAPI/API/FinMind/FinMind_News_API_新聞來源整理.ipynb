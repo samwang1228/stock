{
 "cells": [
  {
   "cell_type": "code",
   "execution_count": null,
   "id": "e14870a8",
   "metadata": {},
   "outputs": [],
   "source": [
    "import requests\n",
    "import pandas as pd\n",
    "url = \"https://api.finmindtrade.com/api/v4/data\"\n",
    "parameter = {\n",
    "    \"dataset\": \"TaiwanStockNews\",\n",
    "    \"data_id\":\"2498\", #宏達電\n",
    "    \"start_date\": \"2022-04-15\",\n",
    "    \"end_date\": \"2022-07-05\",\n",
    "    \"token\": \"\", # 登入，獲取金鑰 https://finmind.github.io/quickstart/\n",
    "}\n",
    "data = requests.get(url, params=parameter)\n",
    "data = data.json()\n",
    "data = pd.DataFrame(data['data'])"
   ]
  },
  {
   "cell_type": "code",
   "execution_count": 5,
   "id": "04961d81",
   "metadata": {},
   "outputs": [],
   "source": [
    "# 整理出所有的新聞網\n",
    "list=[]\n",
    "for source in data['source']:\n",
    "    if source in list:\n",
    "        continue\n",
    "    list.append(source)"
   ]
  },
  {
   "cell_type": "code",
   "execution_count": 6,
   "id": "69297b11",
   "metadata": {},
   "outputs": [
    {
     "name": "stdout",
     "output_type": "stream",
     "text": [
      "中時新聞網 Chinatimes.com\n",
      "ETtoday財經雲\n",
      "Apple Daily TW\n",
      "udn.com\n",
      "經濟日報\n",
      "蘋果新聞網\n",
      "Yahoo奇摩股市\n",
      "旺得富 WantRich\n",
      "民視新聞網FTVn\n",
      "Anue鉅亨\n",
      "鉅亨網\n",
      "鉅亨新聞\n",
      "cnyes.com\n",
      "MoneyDJ理財網\n",
      "EBC東森財經新聞\n",
      "工商時報\n",
      "新浪台灣\n",
      "TechNews 科技新報\n",
      "科技新報\n",
      "finance.technews.tw\n",
      "ETtoday新聞雲\n",
      "Yahoo奇摩新聞\n",
      "Yahoo奇摩\n",
      "HiNet 新聞社群\n",
      "Investing.com\n",
      "今周刊-在今天看見明天\n",
      "自由財經\n",
      "信傳媒\n",
      "MSN\n",
      "台視\n",
      "自由時報\n"
     ]
    }
   ],
   "source": [
    "for source in list:\n",
    "    print(source)"
   ]
  },
  {
   "cell_type": "code",
   "execution_count": 18,
   "id": "7a26d0b1",
   "metadata": {},
   "outputs": [],
   "source": [
    "data.to_excel('FinMind_News_Source.xlsx')"
   ]
  }
 ],
 "metadata": {
  "kernelspec": {
   "display_name": "Python 3 (ipykernel)",
   "language": "python",
   "name": "python3"
  },
  "language_info": {
   "codemirror_mode": {
    "name": "ipython",
    "version": 3
   },
   "file_extension": ".py",
   "mimetype": "text/x-python",
   "name": "python",
   "nbconvert_exporter": "python",
   "pygments_lexer": "ipython3",
   "version": "3.9.5"
  }
 },
 "nbformat": 4,
 "nbformat_minor": 5
}
