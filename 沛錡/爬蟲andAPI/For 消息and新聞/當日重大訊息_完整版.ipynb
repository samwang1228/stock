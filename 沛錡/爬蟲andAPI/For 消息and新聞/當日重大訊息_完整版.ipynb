{
 "cells": [
  {
   "cell_type": "code",
   "execution_count": 1,
   "id": "67ec39ba",
   "metadata": {},
   "outputs": [],
   "source": [
    "import requests\n",
    "import pandas as pd\n",
    "import bs4\n",
    "import datetime\n",
    "import time as t"
   ]
  },
  {
   "cell_type": "code",
   "execution_count": 2,
   "id": "33e56d64",
   "metadata": {},
   "outputs": [],
   "source": [
    "data = {'date': [], 'time': [], \"title\": [],\n",
    "        'content': [], 'co_id': [], 'date_of_event': []}"
   ]
  },
  {
   "cell_type": "code",
   "execution_count": 3,
   "id": "6b56137c",
   "metadata": {},
   "outputs": [],
   "source": [
    "url = 'https://mops.twse.com.tw/mops/web/t05st02'"
   ]
  },
  {
   "cell_type": "code",
   "execution_count": 4,
   "id": "4f14a786",
   "metadata": {},
   "outputs": [
    {
     "name": "stdout",
     "output_type": "stream",
     "text": [
      "2021-12-31 00:00:00\n",
      "['20211230', '20211230', '20211230', '20211230', '20211230', '20211230', '20211230', '20211230', '20211230', '20211230', '20211230', '20211230', '20211230', '20211230', '20211230', '20211230', '20211230', '20211230', '20211230', '20211231', '20211231', '20211231', '20211231', '20211231', '20211231', '20211231', '20211230', '20211230', '20211230', '20211230', '20211230', '20211230', '20211230', '20211230', '20211230', '20211231', '20211231', '20211231', '20211231', '20211231', '20211230', '20211230', '20211230', '20211230', '20211230', '20211230', '20211230', '20211230', '20211230', '20211230', '20211230', '20211230', '20211230', '20211230', '20211230', '20211230', '20211230', '20211230', '20211230', '20211230', '20211230', '20211230', '20211230', '20211230', '20211230', '20211230', '20211231', '20211231', '20211231', '20211231', '20211231', '20211231', '20211231', '20211230', '20211230', '20211230', '20211230', '20211230', '20211230', '20211230', '20211230', '20211230', '20211230', '20211231', '20211231', '20211231', '20211231', '20211230', '20211230', '20211230', '20211230', '20211230', '20211230', '20211230', '20211230', '20211230']\n"
     ]
    }
   ],
   "source": [
    "s_year = 2022\n",
    "s_month = 1\n",
    "s_day = 1\n",
    "date = datetime.datetime(s_year, s_month, s_day)\n",
    "for i in range(1):\n",
    "    date = date - datetime.timedelta(days=1)\n",
    "    year = str(date.year-1911)\n",
    "    month = str(date.month)\n",
    "    day = str(date.day)\n",
    "\n",
    "    payload = {\n",
    "        \"encodeURIComponent\": \"1\",\n",
    "        \"step\": \"1\",\n",
    "        \"step00\": \"0\",\n",
    "        \"firstin\": \"1\",\n",
    "        \"off\": \"1\",\n",
    "        \"TYPEK\": \"all\",\n",
    "        \"year\": year,\n",
    "        \"month\": month,\n",
    "        \"day\": day,\n",
    "    }\n",
    "\n",
    "    # request url\n",
    "    try:\n",
    "        response = requests.post(url, data=payload)\n",
    "    except:\n",
    "        t.sleep(20)\n",
    "        response = requests.post(url, data=payload)\n",
    "\n",
    "    t.sleep(3.1)\n",
    "    raw_data = response.text\n",
    "\n",
    "    # 解析response\n",
    "    soup = bs4.BeautifulSoup(raw_data, 'html.parser')\n",
    "\n",
    "    # 提取訊息\n",
    "    rowDatasEven = soup.find_all('tr', class_='even')\n",
    "    rowDatasOdd = soup.find_all('tr', class_='odd')\n",
    "    rowDatas = rowDatasEven+rowDatasOdd\n",
    "    if rowDatas == []:\n",
    "        continue\n",
    "\n",
    "    for i in range(len(rowDatas)):\n",
    "        columns = rowDatas[i].find_all('td')\n",
    "        # 沒有資料的情況\n",
    "        if len(columns) < 5:\n",
    "            continue\n",
    "\n",
    "        # 提取欄位資料\n",
    "        colDatas = []\n",
    "        for col in columns[5].find_all('input'):\n",
    "            colDatas.append(col.get('value'))\n",
    "        # 沒有資料的情況\n",
    "        if len(colDatas) < 9:\n",
    "            continue\n",
    "\n",
    "        # 整理資料\n",
    "        # date 發布日期\n",
    "        data['date'].append(colDatas[2])\n",
    "        # print(data['date'])\n",
    "\n",
    "        # time 發布時間\n",
    "        time = colDatas[3]\n",
    "        if len(time) == 5:\n",
    "            time = '0'+time\n",
    "        data['time'].append(time)\n",
    "        # print(data['time'])\n",
    "\n",
    "        # title 標題\n",
    "        data['title'].append(colDatas[4])\n",
    "        # print(data['title'])\n",
    "\n",
    "        # content 內文\n",
    "        data['content'].append(colDatas[8])\n",
    "        # print(data['content'])\n",
    "\n",
    "        # co_id 股票代號\n",
    "        data['co_id'].append(colDatas[1])\n",
    "        # print(data['co_id'])\n",
    "\n",
    "        # date_of_event 事實發布日期\n",
    "        data['date_of_event'].append(colDatas[7])\n",
    "        # print(data['date_of_event'])\n",
    "    print(date)\n",
    "    # print(data[\"date\"])\n",
    "# 轉成DataFrame\n",
    "result = pd.DataFrame(data)"
   ]
  },
  {
   "cell_type": "code",
   "execution_count": 13,
   "id": "56195d7d",
   "metadata": {},
   "outputs": [],
   "source": [
    "#to csv\n",
    "compression_opts = dict(method='zip',\n",
    "                        archive_name='material_information_2021.csv')  \n",
    "result.to_csv('material_information_2021.zip', index=True,\n",
    "          compression=compression_opts) "
   ]
  },
  {
   "cell_type": "code",
   "execution_count": null,
   "id": "523ea748",
   "metadata": {},
   "outputs": [],
   "source": []
  }
 ],
 "metadata": {
  "kernelspec": {
   "display_name": "Python 3 (ipykernel)",
   "language": "python",
   "name": "python3"
  },
  "language_info": {
   "codemirror_mode": {
    "name": "ipython",
    "version": 3
   },
   "file_extension": ".py",
   "mimetype": "text/x-python",
   "name": "python",
   "nbconvert_exporter": "python",
   "pygments_lexer": "ipython3",
   "version": "3.9.5"
  }
 },
 "nbformat": 4,
 "nbformat_minor": 5
}
