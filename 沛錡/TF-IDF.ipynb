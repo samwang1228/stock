{
 "cells": [
  {
   "cell_type": "code",
   "execution_count": 2,
   "id": "0ddc61bf",
   "metadata": {},
   "outputs": [],
   "source": [
    "# load data\n",
    "import pandas as pd\n",
    "data = pd.read_pickle('word2vec/FPM_input81000.pkl')"
   ]
  },
  {
   "cell_type": "code",
   "execution_count": 3,
   "id": "5bb1513a",
   "metadata": {
    "scrolled": true
   },
   "outputs": [],
   "source": [
    "# 轉換data，data是一個doc一個list，詞彙是一個個item，sklearn tf-idf的輸入是以一個str斷詞以space隔開\n",
    "def data_transform(doc_list):\n",
    "    doc_text_list = []\n",
    "    for article in doc_list:\n",
    "        doc = ''\n",
    "        for word in article:\n",
    "            doc = doc+word+' '\n",
    "        doc_text_list.append(doc)\n",
    "    return doc_text_list"
   ]
  },
  {
   "cell_type": "code",
   "execution_count": 4,
   "id": "95372bac",
   "metadata": {},
   "outputs": [],
   "source": [
    "# TF-IDF\n",
    "from sklearn.feature_extraction.text import TfidfVectorizer\n",
    "\n",
    "doc_all = data_transform(data.text)\n",
    "\"\"\"If a word from vocabulary was never seen in the train data, but occures in the test, smooth_idf allows it to be successfully\n",
    "processed.\"\"\"\n",
    "vectorizer = TfidfVectorizer(smooth_idf=True)\n",
    "tfidf = vectorizer.fit_transform(doc_all[:70000])"
   ]
  },
  {
   "cell_type": "code",
   "execution_count": 4,
   "id": "8c2aead9",
   "metadata": {},
   "outputs": [],
   "source": [
    "# 將結果儲存\n",
    "import pickle\n",
    "with open('tf_idf.pickle', 'wb') as f:\n",
    "    pickle.dump(vectorizer, f)"
   ]
  },
  {
   "cell_type": "code",
   "execution_count": 5,
   "id": "dc091e3a",
   "metadata": {},
   "outputs": [
    {
     "name": "stderr",
     "output_type": "stream",
     "text": [
      "C:\\Users\\ASUS\\miniconda3\\lib\\site-packages\\sklearn\\utils\\deprecation.py:87: FutureWarning: Function get_feature_names is deprecated; get_feature_names is deprecated in 1.0 and will be removed in 1.2. Please use get_feature_names_out instead.\n",
      "  warnings.warn(msg, category=FutureWarning)\n"
     ]
    }
   ],
   "source": [
    "# tf-idf reuse\n",
    "import pickle\n",
    "import pandas as pd\n",
    "\n",
    "tfidf_vectorizer = pickle.load(open(\"tf_idf.pickle\", \"rb\"))\n",
    "\n",
    "new_doc = doc_all[80002]  # use this or another document\n",
    "vectorized_doc = tfidf_vectorizer.transform([new_doc])\n",
    "result = pd.DataFrame(vectorized_doc.toarray(),\n",
    "                      columns=tfidf_vectorizer.get_feature_names())"
   ]
  },
  {
   "cell_type": "code",
   "execution_count": 6,
   "id": "ebe7037c",
   "metadata": {},
   "outputs": [
    {
     "data": {
      "text/plain": [
       "'事實 發生 日 公司 名稱 泰宗 生物 科技 股份 有限公司 公司 關係 請 輸入 本 公司 子公司 本 公司 相互 持股 比例 不 適用 發生 緣由 今日 收到 本 公司 委託 世博 國際 商務 法律 事務所 通知 用於 預防 反覆性 泌尿道 感染 藥物 組合物 取得 台灣 發明 專利 因應 措施 無 其他 應 敘明 事項 本 公司 用 預防 反覆性 泌尿道 感染 藥物 組合物 已 獲 台灣 經濟部 智慧 財產局 專利 核准 領證 受理 取得 開發 中 產品 應用 預防 反覆性 泌尿道 感染 專利 台灣 發明 專利 名稱 用於 預防 反覆性 泌尿道 感染 藥物 組合物 '"
      ]
     },
     "execution_count": 6,
     "metadata": {},
     "output_type": "execute_result"
    }
   ],
   "source": [
    "doc_all[80002]"
   ]
  },
  {
   "cell_type": "code",
   "execution_count": 7,
   "id": "812a5e70",
   "metadata": {},
   "outputs": [
    {
     "name": "stdout",
     "output_type": "stream",
     "text": [
      "世博 0.11014771272514927\n",
      "事務所 0.03194249940161343\n",
      "事實 0.017689321238388924\n",
      "事項 0.010246017640898258\n",
      "今日 0.05873339505841737\n",
      "公司 0.07558806187238382\n",
      "其他 0.01025187411075422\n",
      "反覆性 0.468946945991757\n",
      "取得 0.05892161917343317\n",
      "受理 0.057912195249564695\n",
      "台灣 0.12091698844437254\n",
      "名稱 0.03816103757539022\n",
      "商務 0.0709910507081828\n",
      "因應 0.021982185477947648\n",
      "國際 0.03730414726673543\n",
      "委託 0.05248257116309464\n",
      "子公司 0.024654540537265242\n",
      "專利 0.2799440469095306\n",
      "感染 0.3132194373655518\n",
      "應用 0.062191377198549586\n",
      "持股 0.02288906879032717\n",
      "措施 0.022681572935399363\n",
      "收到 0.05450863811678093\n",
      "敘明 0.010707687267053222\n",
      "智慧 0.06565611761517286\n",
      "有限公司 0.019978525683764008\n",
      "核准 0.03864920570564866\n",
      "比例 0.023098804246061186\n",
      "泌尿道 0.468946945991757\n",
      "法律 0.05066198743642665\n",
      "泰宗 0.09733533071681394\n",
      "生物 0.0574139404413856\n",
      "產品 0.048227148578951\n",
      "用於 0.13104999319111896\n",
      "發明 0.15851384594648613\n",
      "發生 0.029700733413610507\n",
      "相互 0.024819948466073046\n",
      "科技 0.030529318777625377\n",
      "組合物 0.28988915988231256\n",
      "經濟部 0.04997721294573918\n",
      "緣由 0.024290428220411785\n",
      "股份 0.020489977790016992\n",
      "藥物 0.19880369783354881\n",
      "財產局 0.08826061524591994\n",
      "輸入 0.02246804346040555\n",
      "通知 0.04400459215002378\n",
      "適用 0.018332842422413488\n",
      "開發 0.04448017714995429\n",
      "關係 0.021371358835612423\n",
      "預防 0.31907357807867154\n",
      "領證 0.093188517643011\n"
     ]
    }
   ],
   "source": [
    "index = 0\n",
    "for word in result:\n",
    "    if result[word][index] > 0.0:\n",
    "        print(word, result[word][index])"
   ]
  },
  {
   "cell_type": "code",
   "execution_count": null,
   "id": "23a9adc5",
   "metadata": {},
   "outputs": [],
   "source": []
  }
 ],
 "metadata": {
  "kernelspec": {
   "display_name": "Python 3 (ipykernel)",
   "language": "python",
   "name": "python3"
  },
  "language_info": {
   "codemirror_mode": {
    "name": "ipython",
    "version": 3
   },
   "file_extension": ".py",
   "mimetype": "text/x-python",
   "name": "python",
   "nbconvert_exporter": "python",
   "pygments_lexer": "ipython3",
   "version": "3.9.5"
  }
 },
 "nbformat": 4,
 "nbformat_minor": 5
}
