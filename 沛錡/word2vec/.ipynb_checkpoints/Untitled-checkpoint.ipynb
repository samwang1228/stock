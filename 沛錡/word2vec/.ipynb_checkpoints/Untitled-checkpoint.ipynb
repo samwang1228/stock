{
 "cells": [
  {
   "cell_type": "code",
   "execution_count": 3,
   "id": "adc09ba7",
   "metadata": {},
   "outputs": [
    {
     "name": "stdout",
     "output_type": "stream",
     "text": [
      "0            [子公司, 新, 至升, 塑膠, 模具, 深圳, 公告, 累積, 相對人, 取得]\n",
      "1                     [處份, 性質, 標的, 交易, 金額, 達, 實收, 資本額]\n",
      "2    [標的物, 名稱, 性質, 屬, 特別股, 者, 並, 應, 標明, 特別股, 約定, 發行...\n",
      "3                 [富國, 資產, 聚保盆, 新, 升號, 專項, 資產, 管理, 計畫]\n",
      "4                                          [事實, 發生, 日]\n",
      "5                            [交易, 數量, 單位, 價格, 交易, 總金額]\n",
      "6      [累積, 取得, 處分, 性質, 標的, 交易, 總金額, 人民幣, 分別, 取得, 人民幣]\n",
      "7                                            [處分, 人民幣]\n",
      "8         [交易, 相對人, 公司, 關係, 交易, 相對人, 屬, 自然人, 且, 非, 公司]\n",
      "9                              [關係人, 者,  得, 免, 揭露, 姓名]\n",
      "Name: text, dtype: object\n"
     ]
    }
   ],
   "source": [
    "from gensim.models.word2vec import Word2Vec\n",
    "import pandas as pd\n",
    "pickle_df = pd.read_pickle('w2v_input_250000.pkl')\n",
    "print(pickle_df[\"text\"][:10])"
   ]
  },
  {
   "cell_type": "code",
   "execution_count": null,
   "id": "ae0b2f4c",
   "metadata": {},
   "outputs": [],
   "source": []
  }
 ],
 "metadata": {
  "kernelspec": {
   "display_name": "Python 3 (ipykernel)",
   "language": "python",
   "name": "python3"
  },
  "language_info": {
   "codemirror_mode": {
    "name": "ipython",
    "version": 3
   },
   "file_extension": ".py",
   "mimetype": "text/x-python",
   "name": "python",
   "nbconvert_exporter": "python",
   "pygments_lexer": "ipython3",
   "version": "3.9.5"
  }
 },
 "nbformat": 4,
 "nbformat_minor": 5
}
